{
  "nbformat": 4,
  "nbformat_minor": 0,
  "metadata": {
    "kernelspec": {
      "name": "python3",
      "display_name": "Python 3"
    },
    "language_info": {
      "codemirror_mode": {
        "name": "ipython",
        "version": 3
      },
      "file_extension": ".py",
      "mimetype": "text/x-python",
      "name": "python",
      "nbconvert_exporter": "python",
      "pygments_lexer": "ipython3",
      "version": "3.6.3"
    },
    "colab": {
      "name": "4_3_keras_codes_after.ipynb",
      "provenance": [],
      "collapsed_sections": [],
      "include_colab_link": true
    }
  },
  "cells": [
    {
      "cell_type": "markdown",
      "metadata": {
        "id": "view-in-github",
        "colab_type": "text"
      },
      "source": [
        "<a href=\"https://colab.research.google.com/github/sakipatsu/Rabbit_Challenge/blob/main/4_3_keras_codes_after.ipynb\" target=\"_parent\"><img src=\"https://colab.research.google.com/assets/colab-badge.svg\" alt=\"Open In Colab\"/></a>"
      ]
    },
    {
      "cell_type": "markdown",
      "metadata": {
        "id": "8cNl2QA_Rnv5"
      },
      "source": [
        "# 準備"
      ]
    },
    {
      "cell_type": "markdown",
      "metadata": {
        "id": "YkwjN1jNVAYy"
      },
      "source": [
        "## Googleドライブのマウント"
      ]
    },
    {
      "cell_type": "code",
      "metadata": {
        "id": "pvFXpiH3EVC1",
        "colab": {
          "base_uri": "https://localhost:8080/"
        },
        "outputId": "a7559585-b1b1-4495-c854-2d51f9c97928"
      },
      "source": [
        "from google.colab import drive\n",
        "drive.mount('/content/drive')"
      ],
      "execution_count": 10,
      "outputs": [
        {
          "output_type": "stream",
          "name": "stdout",
          "text": [
            "Drive already mounted at /content/drive; to attempt to forcibly remount, call drive.mount(\"/content/drive\", force_remount=True).\n"
          ]
        }
      ]
    },
    {
      "cell_type": "markdown",
      "metadata": {
        "id": "3Ub7RYdeY6pK"
      },
      "source": [
        "## sys.pathの設定"
      ]
    },
    {
      "cell_type": "markdown",
      "metadata": {
        "id": "oql7L19rEsWi"
      },
      "source": [
        "以下では，Googleドライブのマイドライブ直下にDNN_codeフォルダを置くことを仮定しています．必要に応じて，パスを変更してください．"
      ]
    },
    {
      "cell_type": "code",
      "metadata": {
        "id": "7Ic2JzkvFX59"
      },
      "source": [
        "import sys\n",
        "#sys.path.append('/content/drive/My Drive/DNN_code')\n",
        "sys.path.append('/content/drive/MyDrive/StudyAI/Step4')"
      ],
      "execution_count": 11,
      "outputs": []
    },
    {
      "cell_type": "markdown",
      "metadata": {
        "id": "dvtu2ouHn0FV"
      },
      "source": [
        "# keras"
      ]
    },
    {
      "cell_type": "markdown",
      "metadata": {
        "id": "frGMl3ajn0FX"
      },
      "source": [
        "## 線形回帰"
      ]
    },
    {
      "cell_type": "code",
      "metadata": {
        "id": "oqfWMhAIn0FZ",
        "colab": {
          "base_uri": "https://localhost:8080/",
          "height": 1000
        },
        "outputId": "6b67a6ea-a3b5-4b49-e62b-e97da2043dd2"
      },
      "source": [
        "%tensorflow_version 1.x\n",
        "import tensorflow as tf\n",
        "\n",
        "# logging levelを変更\n",
        "tf.logging.set_verbosity(tf.logging.ERROR)\n",
        "\n",
        "import numpy as np\n",
        "import matplotlib.pyplot as plt\n",
        "\n",
        "iters_num = 1000\n",
        "plot_interval = 10\n",
        "\n",
        "x = np.linspace(-1, 1, 200)\n",
        "np.random.shuffle(x)\n",
        "d = 0.5 * x + 2 + np.random.normal(0, 0.05, (200,))\n",
        "\n",
        "from keras.models import Sequential\n",
        "from keras.layers import Dense\n",
        "\n",
        "# モデルを作成\n",
        "model = Sequential()\n",
        "model.add(Dense(input_dim=1, units=1))\n",
        "#model.add(Dense(input_dim=1, output_dim=1))\n",
        "\n",
        "# モデルを表示\n",
        "model.summary()\n",
        "\n",
        "# モデルのコンパイル\n",
        "model.compile(loss='mse', optimizer='sgd')\n",
        "\n",
        "# train\n",
        "for i in range(iters_num):\n",
        "    loss = model.train_on_batch(x, d)\n",
        "    if (i+1) % plot_interval == 0:\n",
        "        print('Generation: ' + str(i+1) + '. 誤差 = ' + str(loss))\n",
        "\n",
        "W, b = model.layers[0].get_weights()\n",
        "print('W:', W)\n",
        "print('b:', b)\n",
        "\n",
        "y = model.predict(x)\n",
        "plt.scatter(x, d)\n",
        "plt.plot(x, y)\n",
        "plt.show()"
      ],
      "execution_count": 12,
      "outputs": [
        {
          "output_type": "stream",
          "name": "stdout",
          "text": [
            "Model: \"sequential_8\"\n",
            "_________________________________________________________________\n",
            "Layer (type)                 Output Shape              Param #   \n",
            "=================================================================\n",
            "dense_13 (Dense)             (None, 1)                 2         \n",
            "=================================================================\n",
            "Total params: 2\n",
            "Trainable params: 2\n",
            "Non-trainable params: 0\n",
            "_________________________________________________________________\n",
            "Generation: 10. 誤差 = 2.9522102\n",
            "Generation: 20. 誤差 = 2.004505\n",
            "Generation: 30. 誤差 = 1.3676709\n",
            "Generation: 40. 誤差 = 0.93889916\n",
            "Generation: 50. 誤差 = 0.6494889\n",
            "Generation: 60. 誤差 = 0.45351645\n",
            "Generation: 70. 誤差 = 0.32027295\n",
            "Generation: 80. 誤差 = 0.22921234\n",
            "Generation: 90. 誤差 = 0.16657974\n",
            "Generation: 100. 誤差 = 0.12315835\n",
            "Generation: 110. 誤差 = 0.09276566\n",
            "Generation: 120. 誤差 = 0.07124856\n",
            "Generation: 130. 誤差 = 0.05581193\n",
            "Generation: 140. 誤差 = 0.044570122\n",
            "Generation: 150. 誤差 = 0.036247086\n",
            "Generation: 160. 誤差 = 0.029976103\n",
            "Generation: 170. 誤差 = 0.025165325\n",
            "Generation: 180. 誤差 = 0.021408336\n",
            "Generation: 190. 誤差 = 0.018423771\n",
            "Generation: 200. 誤差 = 0.016015084\n",
            "Generation: 210. 誤差 = 0.014043489\n",
            "Generation: 220. 誤差 = 0.012409627\n",
            "Generation: 230. 誤差 = 0.011041386\n",
            "Generation: 240. 誤差 = 0.0098855505\n",
            "Generation: 250. 誤差 = 0.008902154\n",
            "Generation: 260. 誤差 = 0.008060646\n",
            "Generation: 270. 誤差 = 0.0073372405\n",
            "Generation: 280. 誤差 = 0.006713114\n",
            "Generation: 290. 誤差 = 0.0061731124\n",
            "Generation: 300. 誤差 = 0.005704857\n",
            "Generation: 310. 誤差 = 0.005298115\n",
            "Generation: 320. 誤差 = 0.004944338\n",
            "Generation: 330. 誤差 = 0.004636326\n",
            "Generation: 340. 誤差 = 0.004367936\n",
            "Generation: 350. 誤差 = 0.004133933\n",
            "Generation: 360. 誤差 = 0.0039298157\n",
            "Generation: 370. 誤差 = 0.0037517054\n",
            "Generation: 380. 誤差 = 0.0035962448\n",
            "Generation: 390. 誤差 = 0.003460525\n",
            "Generation: 400. 誤差 = 0.003342023\n",
            "Generation: 410. 誤差 = 0.0032385406\n",
            "Generation: 420. 誤差 = 0.0031481632\n",
            "Generation: 430. 誤差 = 0.0030692306\n",
            "Generation: 440. 誤差 = 0.003000285\n",
            "Generation: 450. 誤差 = 0.002940063\n",
            "Generation: 460. 誤差 = 0.0028874574\n",
            "Generation: 470. 誤差 = 0.0028415045\n",
            "Generation: 480. 誤差 = 0.002801362\n",
            "Generation: 490. 誤差 = 0.0027662963\n",
            "Generation: 500. 誤差 = 0.0027356637\n",
            "Generation: 510. 誤差 = 0.002708903\n",
            "Generation: 520. 誤差 = 0.002685526\n",
            "Generation: 530. 誤差 = 0.0026651027\n",
            "Generation: 540. 誤差 = 0.0026472628\n",
            "Generation: 550. 誤差 = 0.0026316773\n",
            "Generation: 560. 誤差 = 0.0026180625\n",
            "Generation: 570. 誤差 = 0.0026061682\n",
            "Generation: 580. 誤差 = 0.0025957776\n",
            "Generation: 590. 誤差 = 0.0025866993\n",
            "Generation: 600. 誤差 = 0.0025787686\n",
            "Generation: 610. 誤差 = 0.0025718415\n",
            "Generation: 620. 誤差 = 0.0025657904\n",
            "Generation: 630. 誤差 = 0.0025605024\n",
            "Generation: 640. 誤差 = 0.0025558835\n",
            "Generation: 650. 誤差 = 0.0025518492\n",
            "Generation: 660. 誤差 = 0.002548323\n",
            "Generation: 670. 誤差 = 0.0025452438\n",
            "Generation: 680. 誤差 = 0.0025425546\n",
            "Generation: 690. 誤差 = 0.002540204\n",
            "Generation: 700. 誤差 = 0.0025381506\n",
            "Generation: 710. 誤差 = 0.0025363576\n",
            "Generation: 720. 誤差 = 0.0025347897\n",
            "Generation: 730. 誤差 = 0.002533421\n",
            "Generation: 740. 誤差 = 0.0025322246\n",
            "Generation: 750. 誤差 = 0.0025311804\n",
            "Generation: 760. 誤差 = 0.0025302675\n",
            "Generation: 770. 誤差 = 0.0025294693\n",
            "Generation: 780. 誤差 = 0.0025287739\n",
            "Generation: 790. 誤差 = 0.0025281652\n",
            "Generation: 800. 誤差 = 0.002527634\n",
            "Generation: 810. 誤差 = 0.002527169\n",
            "Generation: 820. 誤差 = 0.002526764\n",
            "Generation: 830. 誤差 = 0.0025264097\n",
            "Generation: 840. 誤差 = 0.002526098\n",
            "Generation: 850. 誤差 = 0.0025258288\n",
            "Generation: 860. 誤差 = 0.0025255936\n",
            "Generation: 870. 誤差 = 0.0025253857\n",
            "Generation: 880. 誤差 = 0.0025252057\n",
            "Generation: 890. 誤差 = 0.0025250488\n",
            "Generation: 900. 誤差 = 0.0025249105\n",
            "Generation: 910. 誤差 = 0.0025247904\n",
            "Generation: 920. 誤差 = 0.0025246865\n",
            "Generation: 930. 誤差 = 0.0025245934\n",
            "Generation: 940. 誤差 = 0.0025245135\n",
            "Generation: 950. 誤差 = 0.0025244432\n",
            "Generation: 960. 誤差 = 0.0025243822\n",
            "Generation: 970. 誤差 = 0.002524329\n",
            "Generation: 980. 誤差 = 0.002524282\n",
            "Generation: 990. 誤差 = 0.0025242416\n",
            "Generation: 1000. 誤差 = 0.0025242057\n",
            "W: [[0.5026182]]\n",
            "b: [2.0036497]\n"
          ]
        },
        {
          "output_type": "display_data",
          "data": {
            "image/png": "[encoded data removed]",
            "text/plain": [
              "<Figure size 432x288 with 1 Axes>"
            ]
          },
          "metadata": {
            "needs_background": "light"
          }
        }
      ]
    },
    {
      "cell_type": "markdown",
      "metadata": {
        "id": "ABdJA1Tkn0Fd"
      },
      "source": [
        "## 単純パーセプトロン \n",
        "OR回路\n",
        "\n",
        "---------------------------------------------------------------------------------------------------------------------------------------------------------------------------------------------\n",
        "### [try]\n",
        "-  np.random.seed(0)をnp.random.seed(1)に変更\n",
        "        False,True,True,True\n",
        "-  エポック数を100に変更\n",
        "        True, True,True,True\n",
        "-  AND回路, XOR回路に変更\n",
        "        OR, ANDは線形分離可能だが, XORは線形分離不可能なので学習できない\n",
        "-  OR回路にしてバッチサイズを10に変更\n",
        "        False,True,True,True\n",
        "-  エポック数を300に変更しよう\n",
        "        True, True,True,True\n",
        "---------------------------------------------------------------------------------------------------------------------------------------------------------------------------------------------"
      ]
    },
    {
      "cell_type": "code",
      "metadata": {
        "id": "Nv_Z7Fmhn0Fe",
        "colab": {
          "base_uri": "https://localhost:8080/"
        },
        "outputId": "13e341c6-8208-44a0-9f3f-cf87c42a64cc"
      },
      "source": [
        "import tensorflow as tf\n",
        "\n",
        "# logging levelを変更\n",
        "tf.logging.set_verbosity(tf.logging.ERROR)\n",
        "\n",
        "# モジュール読み込み\n",
        "import numpy as np\n",
        "from keras.models import Sequential\n",
        "from keras.layers import Dense, Activation\n",
        "from keras.optimizers import SGD\n",
        " \n",
        "# 乱数を固定値で初期化\n",
        "np.random.seed(0)\n",
        "\n",
        "# シグモイドの単純パーセプトロン作成\n",
        "model = Sequential()\n",
        "model.add(Dense(input_dim=2, units=1))\n",
        "model.add(Activation('sigmoid'))\n",
        "model.summary()\n",
        "\n",
        "model.compile(loss='binary_crossentropy', optimizer=SGD(lr=0.1))\n",
        " \n",
        "# トレーニング用入力 X と正解データ T\n",
        "X = np.array( [[0,0], [0,1], [1,0], [1,1]] )\n",
        "T = np.array( [[0], [1], [1], [1]] )\n",
        " \n",
        "# トレーニング\n",
        "model.fit(X, T, epochs=30, batch_size=1)\n",
        " \n",
        "# トレーニングの入力を流用して実際に分類\n",
        "Y = model.predict_classes(X, batch_size=1)\n",
        "\n",
        "print(\"TEST\")\n",
        "print(Y == T)\n"
      ],
      "execution_count": 13,
      "outputs": [
        {
          "output_type": "stream",
          "name": "stdout",
          "text": [
            "Model: \"sequential_9\"\n",
            "_________________________________________________________________\n",
            "Layer (type)                 Output Shape              Param #   \n",
            "=================================================================\n",
            "dense_14 (Dense)             (None, 1)                 3         \n",
            "_________________________________________________________________\n",
            "activation_12 (Activation)   (None, 1)                 0         \n",
            "=================================================================\n",
            "Total params: 3\n",
            "Trainable params: 3\n",
            "Non-trainable params: 0\n",
            "_________________________________________________________________\n",
            "Epoch 1/30\n",
            "4/4 [==============================] - 0s 24ms/step - loss: 0.4352\n",
            "Epoch 2/30\n",
            "4/4 [==============================] - 0s 3ms/step - loss: 0.4204\n",
            "Epoch 3/30\n",
            "4/4 [==============================] - 0s 3ms/step - loss: 0.4079\n",
            "Epoch 4/30\n",
            "4/4 [==============================] - 0s 2ms/step - loss: 0.3971\n",
            "Epoch 5/30\n",
            "4/4 [==============================] - 0s 2ms/step - loss: 0.3876\n",
            "Epoch 6/30\n",
            "4/4 [==============================] - 0s 2ms/step - loss: 0.3790\n",
            "Epoch 7/30\n",
            "4/4 [==============================] - 0s 2ms/step - loss: 0.3717\n",
            "Epoch 8/30\n",
            "4/4 [==============================] - 0s 3ms/step - loss: 0.3650\n",
            "Epoch 9/30\n",
            "4/4 [==============================] - 0s 3ms/step - loss: 0.3586\n",
            "Epoch 10/30\n",
            "4/4 [==============================] - 0s 3ms/step - loss: 0.3528\n",
            "Epoch 11/30\n",
            "4/4 [==============================] - 0s 3ms/step - loss: 0.3476\n",
            "Epoch 12/30\n",
            "4/4 [==============================] - 0s 3ms/step - loss: 0.3425\n",
            "Epoch 13/30\n",
            "4/4 [==============================] - 0s 3ms/step - loss: 0.3378\n",
            "Epoch 14/30\n",
            "4/4 [==============================] - 0s 3ms/step - loss: 0.3333\n",
            "Epoch 15/30\n",
            "4/4 [==============================] - 0s 3ms/step - loss: 0.3291\n",
            "Epoch 16/30\n",
            "4/4 [==============================] - 0s 3ms/step - loss: 0.3250\n",
            "Epoch 17/30\n",
            "4/4 [==============================] - 0s 4ms/step - loss: 0.3210\n",
            "Epoch 18/30\n",
            "4/4 [==============================] - 0s 3ms/step - loss: 0.3172\n",
            "Epoch 19/30\n",
            "4/4 [==============================] - 0s 2ms/step - loss: 0.3136\n",
            "Epoch 20/30\n",
            "4/4 [==============================] - 0s 2ms/step - loss: 0.3100\n",
            "Epoch 21/30\n",
            "4/4 [==============================] - 0s 4ms/step - loss: 0.3067\n",
            "Epoch 22/30\n",
            "4/4 [==============================] - 0s 2ms/step - loss: 0.3032\n",
            "Epoch 23/30\n",
            "4/4 [==============================] - 0s 2ms/step - loss: 0.3000\n",
            "Epoch 24/30\n",
            "4/4 [==============================] - 0s 3ms/step - loss: 0.2968\n",
            "Epoch 25/30\n",
            "4/4 [==============================] - 0s 3ms/step - loss: 0.2938\n",
            "Epoch 26/30\n",
            "4/4 [==============================] - 0s 2ms/step - loss: 0.2908\n",
            "Epoch 27/30\n",
            "4/4 [==============================] - 0s 2ms/step - loss: 0.2878\n",
            "Epoch 28/30\n",
            "4/4 [==============================] - 0s 2ms/step - loss: 0.2850\n",
            "Epoch 29/30\n",
            "4/4 [==============================] - 0s 3ms/step - loss: 0.2821\n",
            "Epoch 30/30\n",
            "4/4 [==============================] - 0s 3ms/step - loss: 0.2794\n",
            "TEST\n",
            "[[ True]\n",
            " [ True]\n",
            " [ True]\n",
            " [ True]]\n"
          ]
        }
      ]
    },
    {
      "cell_type": "markdown",
      "metadata": {
        "id": "ZgIprH0Gn0Fh"
      },
      "source": [
        "## 分類 (iris)\n",
        "\n",
        "---------------------------------------------------------------------------------------------------------------------------------------------------------------------------------------------\n",
        "### [try]\n",
        "-  中間層の活性関数をsigmoidに変更しよう\n",
        "-  SGDをimportしoptimizerをSGD(lr=0.1)に変更しよう\n",
        "---------------------------------------------------------------------------------------------------------------------------------------------------------------------------------------------"
      ]
    },
    {
      "cell_type": "code",
      "metadata": {
        "id": "VZRJNcppn0Fi",
        "colab": {
          "base_uri": "https://localhost:8080/",
          "height": 1000
        },
        "outputId": "9710d9c3-4c90-4741-d027-791cc4a24133"
      },
      "source": [
        "import tensorflow as tf\n",
        "\n",
        "# logging levelを変更\n",
        "tf.logging.set_verbosity(tf.logging.ERROR)\n",
        "\n",
        "import matplotlib.pyplot as plt\n",
        "from sklearn import datasets\n",
        "iris = datasets.load_iris()\n",
        "x = iris.data\n",
        "d = iris.target\n",
        "\n",
        "# from sklearn.cross_validation import train_test_split\n",
        "from sklearn.model_selection import train_test_split\n",
        "x_train, x_test, d_train, d_test = train_test_split(x, d, test_size=0.2)\n",
        "\n",
        "from keras.models import Sequential\n",
        "from keras.layers import Dense, Activation\n",
        "# from keras.optimizers import SGD\n",
        "\n",
        "#モデルの設定\n",
        "model = Sequential()\n",
        "model.add(Dense(12, input_dim=4))\n",
        "model.add(Activation('relu'))\n",
        "# model.add(Activation('sigmoid'))\n",
        "model.add(Dense(3, input_dim=12))\n",
        "model.add(Activation('softmax'))\n",
        "model.summary()\n",
        "\n",
        "model.compile(optimizer='sgd', loss='sparse_categorical_crossentropy', metrics=['accuracy'])\n",
        "\n",
        "history = model.fit(x_train, d_train, batch_size=5, epochs=20, verbose=1, validation_data=(x_test, d_test))\n",
        "loss = model.evaluate(x_test, d_test, verbose=0)\n",
        "\n",
        "#Accuracy\n",
        "print(history.history)\n",
        "#plt.plot(history.history['acc'])\n",
        "plt.plot(history.history['val_loss'])\n",
        "#plt.plot(history.history['val_acc'])\n",
        "plt.plot(history.history['val_accuracy'])\n",
        "plt.title('model accuracy')\n",
        "plt.ylabel('accuracy')\n",
        "plt.xlabel('epoch')\n",
        "plt.legend(['train', 'test'], loc='upper left')\n",
        "plt.ylim(0, 1.0)\n",
        "plt.show()\n"
      ],
      "execution_count": 14,
      "outputs": [
        {
          "output_type": "stream",
          "name": "stdout",
          "text": [
            "Model: \"sequential_10\"\n",
            "_________________________________________________________________\n",
            "Layer (type)                 Output Shape              Param #   \n",
            "=================================================================\n",
            "dense_15 (Dense)             (None, 12)                60        \n",
            "_________________________________________________________________\n",
            "activation_13 (Activation)   (None, 12)                0         \n",
            "_________________________________________________________________\n",
            "dense_16 (Dense)             (None, 3)                 39        \n",
            "_________________________________________________________________\n",
            "activation_14 (Activation)   (None, 3)                 0         \n",
            "=================================================================\n",
            "Total params: 99\n",
            "Trainable params: 99\n",
            "Non-trainable params: 0\n",
            "_________________________________________________________________\n",
            "Train on 120 samples, validate on 30 samples\n",
            "Epoch 1/20\n",
            "120/120 [==============================] - 0s 1ms/step - loss: 0.9171 - accuracy: 0.4500 - val_loss: 0.7723 - val_accuracy: 0.7000\n",
            "Epoch 2/20\n",
            "120/120 [==============================] - 0s 273us/step - loss: 0.7485 - accuracy: 0.7333 - val_loss: 0.6238 - val_accuracy: 0.9000\n",
            "Epoch 3/20\n",
            "120/120 [==============================] - 0s 260us/step - loss: 0.5982 - accuracy: 0.8750 - val_loss: 0.5555 - val_accuracy: 0.7000\n",
            "Epoch 4/20\n",
            "120/120 [==============================] - 0s 322us/step - loss: 0.5522 - accuracy: 0.8250 - val_loss: 0.5137 - val_accuracy: 0.9333\n",
            "Epoch 5/20\n",
            "120/120 [==============================] - 0s 272us/step - loss: 0.5043 - accuracy: 0.8583 - val_loss: 0.5259 - val_accuracy: 0.8000\n",
            "Epoch 6/20\n",
            "120/120 [==============================] - 0s 285us/step - loss: 0.4791 - accuracy: 0.8833 - val_loss: 0.4443 - val_accuracy: 0.9000\n",
            "Epoch 7/20\n",
            "120/120 [==============================] - 0s 390us/step - loss: 0.4530 - accuracy: 0.8500 - val_loss: 0.4185 - val_accuracy: 0.9000\n",
            "Epoch 8/20\n",
            "120/120 [==============================] - 0s 307us/step - loss: 0.4140 - accuracy: 0.8917 - val_loss: 0.4016 - val_accuracy: 0.9000\n",
            "Epoch 9/20\n",
            "120/120 [==============================] - 0s 282us/step - loss: 0.4031 - accuracy: 0.9083 - val_loss: 0.3893 - val_accuracy: 0.8667\n",
            "Epoch 10/20\n",
            "120/120 [==============================] - 0s 360us/step - loss: 0.3817 - accuracy: 0.9167 - val_loss: 0.4060 - val_accuracy: 0.9000\n",
            "Epoch 11/20\n",
            "120/120 [==============================] - 0s 283us/step - loss: 0.3797 - accuracy: 0.9333 - val_loss: 0.3592 - val_accuracy: 0.9667\n",
            "Epoch 12/20\n",
            "120/120 [==============================] - 0s 307us/step - loss: 0.3639 - accuracy: 0.8833 - val_loss: 0.3707 - val_accuracy: 0.9333\n",
            "Epoch 13/20\n",
            "120/120 [==============================] - 0s 266us/step - loss: 0.3401 - accuracy: 0.9417 - val_loss: 0.3509 - val_accuracy: 0.9667\n",
            "Epoch 14/20\n",
            "120/120 [==============================] - 0s 281us/step - loss: 0.3337 - accuracy: 0.9417 - val_loss: 0.3215 - val_accuracy: 0.9000\n",
            "Epoch 15/20\n",
            "120/120 [==============================] - 0s 275us/step - loss: 0.3217 - accuracy: 0.9333 - val_loss: 0.3149 - val_accuracy: 0.9000\n",
            "Epoch 16/20\n",
            "120/120 [==============================] - 0s 319us/step - loss: 0.3031 - accuracy: 0.9250 - val_loss: 0.3162 - val_accuracy: 0.9333\n",
            "Epoch 17/20\n",
            "120/120 [==============================] - 0s 269us/step - loss: 0.3039 - accuracy: 0.9250 - val_loss: 0.3070 - val_accuracy: 0.9333\n",
            "Epoch 18/20\n",
            "120/120 [==============================] - 0s 281us/step - loss: 0.2911 - accuracy: 0.9417 - val_loss: 0.2842 - val_accuracy: 0.9333\n",
            "Epoch 19/20\n",
            "120/120 [==============================] - 0s 269us/step - loss: 0.2861 - accuracy: 0.9417 - val_loss: 0.2773 - val_accuracy: 0.9667\n",
            "Epoch 20/20\n",
            "120/120 [==============================] - 0s 282us/step - loss: 0.2735 - accuracy: 0.9667 - val_loss: 0.2776 - val_accuracy: 0.9667\n",
            "{'val_loss': [0.7722808023293813, 0.6238095760345459, 0.5554920236269633, 0.5136512219905853, 0.525850291053454, 0.4443349440892537, 0.41848920782407123, 0.4016035447518031, 0.3892606794834137, 0.40604915221532184, 0.3591534495353699, 0.370664710799853, 0.3508783429861069, 0.32149674495061237, 0.3149189427495003, 0.3162166078885396, 0.30699721723794937, 0.28423584004243213, 0.2772936373949051, 0.2776299367348353], 'val_accuracy': [0.699999988079071, 0.8999999761581421, 0.699999988079071, 0.9333333373069763, 0.800000011920929, 0.8999999761581421, 0.8999999761581421, 0.8999999761581421, 0.8666666746139526, 0.8999999761581421, 0.9666666388511658, 0.9333333373069763, 0.9666666388511658, 0.8999999761581421, 0.8999999761581421, 0.9333333373069763, 0.9333333373069763, 0.9333333373069763, 0.9666666388511658, 0.9666666388511658], 'loss': [0.9170692985256513, 0.7484976599613825, 0.5982073284685612, 0.5522348346809546, 0.5043329410254955, 0.47908055037260056, 0.45299302724500495, 0.41404837121566135, 0.4030587822198868, 0.3816926584889491, 0.3796568171431621, 0.3639204269275069, 0.3401376934101184, 0.33365040738135576, 0.32166546893616516, 0.3030946906656027, 0.30394283682107925, 0.29109647683799267, 0.2860629130154848, 0.273531016583244], 'accuracy': [0.45, 0.73333335, 0.875, 0.825, 0.85833335, 0.8833333, 0.85, 0.89166665, 0.90833336, 0.9166667, 0.93333334, 0.8833333, 0.94166666, 0.94166666, 0.93333334, 0.925, 0.925, 0.94166666, 0.94166666, 0.96666664]}\n"
          ]
        },
        {
          "output_type": "display_data",
          "data": {
            "image/png": "[encoded data removed]",
            "text/plain": [
              "<Figure size 432x288 with 1 Axes>"
            ]
          },
          "metadata": {
            "needs_background": "light"
          }
        }
      ]
    },
    {
      "cell_type": "markdown",
      "metadata": {
        "id": "DvykQJwan0Fk"
      },
      "source": [
        "## 分類 (mnist)\n",
        "\n",
        "---------------------------------------------------------------------------------------------------------------------------------------------------------------------------------------------\n",
        "### [try]\n",
        "-  load_mnistのone_hot_labelをFalseに変更しよう (error)\n",
        "-  誤差関数をsparse_categorical_crossentropyに変更しよう\n",
        "-  Adamの引数の値を変更しよう\n",
        "---------------------------------------------------------------------------------------------------------------------------------------------------------------------------------------------"
      ]
    },
    {
      "cell_type": "code",
      "metadata": {
        "id": "2fyuriMEn0Fl",
        "colab": {
          "base_uri": "https://localhost:8080/",
          "height": 697
        },
        "outputId": "35601929-38b2-4091-81f5-c3146fd32ae2"
      },
      "source": [
        "import tensorflow as tf\n",
        "\n",
        "# logging levelを変更\n",
        "tf.logging.set_verbosity(tf.logging.ERROR)\n",
        "\n",
        "# 必要なライブラリのインポート\n",
        "import keras\n",
        "import matplotlib.pyplot as plt\n",
        "from data.mnist import load_mnist\n",
        "\n",
        "(x_train, d_train), (x_test, d_test) = load_mnist(normalize=True, one_hot_label=False)\n",
        "\n",
        "# 必要なライブラリのインポート、最適化手法はAdamを使う\n",
        "from keras.models import Sequential\n",
        "from keras.layers import Dense, Dropout\n",
        "from keras.optimizers import Adam\n",
        "\n",
        "# モデル作成\n",
        "model = Sequential()\n",
        "model.add(Dense(512, activation='relu', input_shape=(784,)))\n",
        "model.add(Dropout(0.2))\n",
        "model.add(Dense(512, activation='relu'))\n",
        "model.add(Dropout(0.2))\n",
        "model.add(Dense(10, activation='softmax'))\n",
        "model.summary()\n",
        "\n",
        "# バッチサイズ、エポック数\n",
        "batch_size = 128\n",
        "epochs = 20\n",
        "\n",
        "model.compile(loss='sparse_categorical_crossentropy', \n",
        "              optimizer=Adam(lr=0.001, beta_1=0.9, beta_2=0.999, epsilon=None, decay=0.0, amsgrad=False), \n",
        "              metrics=['accuracy'])\n",
        "\n",
        "history = model.fit(x_train, d_train, batch_size=batch_size, epochs=epochs, verbose=1, validation_data=(x_test, d_test))\n",
        "loss = model.evaluate(x_test, d_test, verbose=0)\n",
        "print('Test loss:', loss[0])\n",
        "print('Test accuracy:', loss[1])\n",
        "#Accuracy\n",
        "plt.plot(history.history['acc'])\n",
        "plt.plot(history.history['val_acc'])\n",
        "plt.title('model accuracy')\n",
        "plt.ylabel('accuracy')\n",
        "plt.xlabel('epoch')\n",
        "plt.legend(['train', 'test'], loc='upper left')\n",
        "# plt.ylim(0, 1.0)\n",
        "plt.show()"
      ],
      "execution_count": 15,
      "outputs": [
        {
          "output_type": "stream",
          "name": "stdout",
          "text": [
            "Model: \"sequential_11\"\n",
            "_________________________________________________________________\n",
            "Layer (type)                 Output Shape              Param #   \n",
            "=================================================================\n",
            "dense_17 (Dense)             (None, 512)               401920    \n",
            "_________________________________________________________________\n",
            "dropout_1 (Dropout)          (None, 512)               0         \n",
            "_________________________________________________________________\n",
            "dense_18 (Dense)             (None, 512)               262656    \n",
            "_________________________________________________________________\n",
            "dropout_2 (Dropout)          (None, 512)               0         \n",
            "_________________________________________________________________\n",
            "dense_19 (Dense)             (None, 10)                5130      \n",
            "=================================================================\n",
            "Total params: 669,706\n",
            "Trainable params: 669,706\n",
            "Non-trainable params: 0\n",
            "_________________________________________________________________\n"
          ]
        },
        {
          "output_type": "error",
          "ename": "ValueError",
          "evalue": "ignored",
          "traceback": [
            "\u001b[0;31m---------------------------------------------------------------------------\u001b[0m",
            "\u001b[0;31mValueError\u001b[0m                                Traceback (most recent call last)",
            "\u001b[0;32m<ipython-input-15-3fbbe663cf77>\u001b[0m in \u001b[0;36m<module>\u001b[0;34m()\u001b[0m\n\u001b[1;32m     33\u001b[0m               metrics=['accuracy'])\n\u001b[1;32m     34\u001b[0m \u001b[0;34m\u001b[0m\u001b[0m\n\u001b[0;32m---> 35\u001b[0;31m \u001b[0mhistory\u001b[0m \u001b[0;34m=\u001b[0m \u001b[0mmodel\u001b[0m\u001b[0;34m.\u001b[0m\u001b[0mfit\u001b[0m\u001b[0;34m(\u001b[0m\u001b[0mx_train\u001b[0m\u001b[0;34m,\u001b[0m \u001b[0md_train\u001b[0m\u001b[0;34m,\u001b[0m \u001b[0mbatch_size\u001b[0m\u001b[0;34m=\u001b[0m\u001b[0mbatch_size\u001b[0m\u001b[0;34m,\u001b[0m \u001b[0mepochs\u001b[0m\u001b[0;34m=\u001b[0m\u001b[0mepochs\u001b[0m\u001b[0;34m,\u001b[0m \u001b[0mverbose\u001b[0m\u001b[0;34m=\u001b[0m\u001b[0;36m1\u001b[0m\u001b[0;34m,\u001b[0m \u001b[0mvalidation_data\u001b[0m\u001b[0;34m=\u001b[0m\u001b[0;34m(\u001b[0m\u001b[0mx_test\u001b[0m\u001b[0;34m,\u001b[0m \u001b[0md_test\u001b[0m\u001b[0;34m)\u001b[0m\u001b[0;34m)\u001b[0m\u001b[0;34m\u001b[0m\u001b[0;34m\u001b[0m\u001b[0m\n\u001b[0m\u001b[1;32m     36\u001b[0m \u001b[0mloss\u001b[0m \u001b[0;34m=\u001b[0m \u001b[0mmodel\u001b[0m\u001b[0;34m.\u001b[0m\u001b[0mevaluate\u001b[0m\u001b[0;34m(\u001b[0m\u001b[0mx_test\u001b[0m\u001b[0;34m,\u001b[0m \u001b[0md_test\u001b[0m\u001b[0;34m,\u001b[0m \u001b[0mverbose\u001b[0m\u001b[0;34m=\u001b[0m\u001b[0;36m0\u001b[0m\u001b[0;34m)\u001b[0m\u001b[0;34m\u001b[0m\u001b[0;34m\u001b[0m\u001b[0m\n\u001b[1;32m     37\u001b[0m \u001b[0mprint\u001b[0m\u001b[0;34m(\u001b[0m\u001b[0;34m'Test loss:'\u001b[0m\u001b[0;34m,\u001b[0m \u001b[0mloss\u001b[0m\u001b[0;34m[\u001b[0m\u001b[0;36m0\u001b[0m\u001b[0;34m]\u001b[0m\u001b[0;34m)\u001b[0m\u001b[0;34m\u001b[0m\u001b[0;34m\u001b[0m\u001b[0m\n",
            "\u001b[0;32m/tensorflow-1.15.2/python3.7/keras/engine/training.py\u001b[0m in \u001b[0;36mfit\u001b[0;34m(self, x, y, batch_size, epochs, verbose, callbacks, validation_split, validation_data, shuffle, class_weight, sample_weight, initial_epoch, steps_per_epoch, validation_steps, validation_freq, max_queue_size, workers, use_multiprocessing, **kwargs)\u001b[0m\n\u001b[1;32m   1211\u001b[0m         \u001b[0;32melse\u001b[0m\u001b[0;34m:\u001b[0m\u001b[0;34m\u001b[0m\u001b[0;34m\u001b[0m\u001b[0m\n\u001b[1;32m   1212\u001b[0m             \u001b[0mfit_inputs\u001b[0m \u001b[0;34m=\u001b[0m \u001b[0mx\u001b[0m \u001b[0;34m+\u001b[0m \u001b[0my\u001b[0m \u001b[0;34m+\u001b[0m \u001b[0msample_weights\u001b[0m\u001b[0;34m\u001b[0m\u001b[0;34m\u001b[0m\u001b[0m\n\u001b[0;32m-> 1213\u001b[0;31m         \u001b[0mself\u001b[0m\u001b[0;34m.\u001b[0m\u001b[0m_make_train_function\u001b[0m\u001b[0;34m(\u001b[0m\u001b[0;34m)\u001b[0m\u001b[0;34m\u001b[0m\u001b[0;34m\u001b[0m\u001b[0m\n\u001b[0m\u001b[1;32m   1214\u001b[0m         \u001b[0mfit_function\u001b[0m \u001b[0;34m=\u001b[0m \u001b[0mself\u001b[0m\u001b[0;34m.\u001b[0m\u001b[0mtrain_function\u001b[0m\u001b[0;34m\u001b[0m\u001b[0;34m\u001b[0m\u001b[0m\n\u001b[1;32m   1215\u001b[0m \u001b[0;34m\u001b[0m\u001b[0m\n",
            "\u001b[0;32m/tensorflow-1.15.2/python3.7/keras/engine/training.py\u001b[0m in \u001b[0;36m_make_train_function\u001b[0;34m(self)\u001b[0m\n\u001b[1;32m    314\u001b[0m                     training_updates = self.optimizer.get_updates(\n\u001b[1;32m    315\u001b[0m                         \u001b[0mparams\u001b[0m\u001b[0;34m=\u001b[0m\u001b[0mself\u001b[0m\u001b[0;34m.\u001b[0m\u001b[0m_collected_trainable_weights\u001b[0m\u001b[0;34m,\u001b[0m\u001b[0;34m\u001b[0m\u001b[0;34m\u001b[0m\u001b[0m\n\u001b[0;32m--> 316\u001b[0;31m                         loss=self.total_loss)\n\u001b[0m\u001b[1;32m    317\u001b[0m                 \u001b[0mupdates\u001b[0m \u001b[0;34m=\u001b[0m \u001b[0mself\u001b[0m\u001b[0;34m.\u001b[0m\u001b[0mupdates\u001b[0m \u001b[0;34m+\u001b[0m \u001b[0mtraining_updates\u001b[0m\u001b[0;34m\u001b[0m\u001b[0;34m\u001b[0m\u001b[0m\n\u001b[1;32m    318\u001b[0m \u001b[0;34m\u001b[0m\u001b[0m\n",
            "\u001b[0;32m/tensorflow-1.15.2/python3.7/keras/legacy/interfaces.py\u001b[0m in \u001b[0;36mwrapper\u001b[0;34m(*args, **kwargs)\u001b[0m\n\u001b[1;32m     89\u001b[0m                 warnings.warn('Update your `' + object_name + '` call to the ' +\n\u001b[1;32m     90\u001b[0m                               'Keras 2 API: ' + signature, stacklevel=2)\n\u001b[0;32m---> 91\u001b[0;31m             \u001b[0;32mreturn\u001b[0m \u001b[0mfunc\u001b[0m\u001b[0;34m(\u001b[0m\u001b[0;34m*\u001b[0m\u001b[0margs\u001b[0m\u001b[0;34m,\u001b[0m \u001b[0;34m**\u001b[0m\u001b[0mkwargs\u001b[0m\u001b[0;34m)\u001b[0m\u001b[0;34m\u001b[0m\u001b[0;34m\u001b[0m\u001b[0m\n\u001b[0m\u001b[1;32m     92\u001b[0m         \u001b[0mwrapper\u001b[0m\u001b[0;34m.\u001b[0m\u001b[0m_original_function\u001b[0m \u001b[0;34m=\u001b[0m \u001b[0mfunc\u001b[0m\u001b[0;34m\u001b[0m\u001b[0;34m\u001b[0m\u001b[0m\n\u001b[1;32m     93\u001b[0m         \u001b[0;32mreturn\u001b[0m \u001b[0mwrapper\u001b[0m\u001b[0;34m\u001b[0m\u001b[0;34m\u001b[0m\u001b[0m\n",
            "\u001b[0;32m/tensorflow-1.15.2/python3.7/keras/optimizers.py\u001b[0m in \u001b[0;36mget_updates\u001b[0;34m(self, loss, params)\u001b[0m\n\u001b[1;32m    541\u001b[0m                 \u001b[0mself\u001b[0m\u001b[0;34m.\u001b[0m\u001b[0mupdates\u001b[0m\u001b[0;34m.\u001b[0m\u001b[0mappend\u001b[0m\u001b[0;34m(\u001b[0m\u001b[0mK\u001b[0m\u001b[0;34m.\u001b[0m\u001b[0mupdate\u001b[0m\u001b[0;34m(\u001b[0m\u001b[0mvhat\u001b[0m\u001b[0;34m,\u001b[0m \u001b[0mvhat_t\u001b[0m\u001b[0;34m)\u001b[0m\u001b[0;34m)\u001b[0m\u001b[0;34m\u001b[0m\u001b[0;34m\u001b[0m\u001b[0m\n\u001b[1;32m    542\u001b[0m             \u001b[0;32melse\u001b[0m\u001b[0;34m:\u001b[0m\u001b[0;34m\u001b[0m\u001b[0;34m\u001b[0m\u001b[0m\n\u001b[0;32m--> 543\u001b[0;31m                 \u001b[0mp_t\u001b[0m \u001b[0;34m=\u001b[0m \u001b[0mp\u001b[0m \u001b[0;34m-\u001b[0m \u001b[0mlr_t\u001b[0m \u001b[0;34m*\u001b[0m \u001b[0mm_t\u001b[0m \u001b[0;34m/\u001b[0m \u001b[0;34m(\u001b[0m\u001b[0mK\u001b[0m\u001b[0;34m.\u001b[0m\u001b[0msqrt\u001b[0m\u001b[0;34m(\u001b[0m\u001b[0mv_t\u001b[0m\u001b[0;34m)\u001b[0m \u001b[0;34m+\u001b[0m \u001b[0mself\u001b[0m\u001b[0;34m.\u001b[0m\u001b[0mepsilon\u001b[0m\u001b[0;34m)\u001b[0m\u001b[0;34m\u001b[0m\u001b[0;34m\u001b[0m\u001b[0m\n\u001b[0m\u001b[1;32m    544\u001b[0m \u001b[0;34m\u001b[0m\u001b[0m\n\u001b[1;32m    545\u001b[0m             \u001b[0mself\u001b[0m\u001b[0;34m.\u001b[0m\u001b[0mupdates\u001b[0m\u001b[0;34m.\u001b[0m\u001b[0mappend\u001b[0m\u001b[0;34m(\u001b[0m\u001b[0mK\u001b[0m\u001b[0;34m.\u001b[0m\u001b[0mupdate\u001b[0m\u001b[0;34m(\u001b[0m\u001b[0mm\u001b[0m\u001b[0;34m,\u001b[0m \u001b[0mm_t\u001b[0m\u001b[0;34m)\u001b[0m\u001b[0;34m)\u001b[0m\u001b[0;34m\u001b[0m\u001b[0;34m\u001b[0m\u001b[0m\n",
            "\u001b[0;32m/tensorflow-1.15.2/python3.7/tensorflow_core/python/ops/math_ops.py\u001b[0m in \u001b[0;36mbinary_op_wrapper\u001b[0;34m(x, y)\u001b[0m\n\u001b[1;32m    901\u001b[0m         \u001b[0;32mtry\u001b[0m\u001b[0;34m:\u001b[0m\u001b[0;34m\u001b[0m\u001b[0;34m\u001b[0m\u001b[0m\n\u001b[1;32m    902\u001b[0m           y = ops.convert_to_tensor_v2(\n\u001b[0;32m--> 903\u001b[0;31m               y, dtype_hint=x.dtype.base_dtype, name=\"y\")\n\u001b[0m\u001b[1;32m    904\u001b[0m         \u001b[0;32mexcept\u001b[0m \u001b[0mTypeError\u001b[0m\u001b[0;34m:\u001b[0m\u001b[0;34m\u001b[0m\u001b[0;34m\u001b[0m\u001b[0m\n\u001b[1;32m    905\u001b[0m           \u001b[0;31m# If the RHS is not a tensor, it might be a tensor aware object\u001b[0m\u001b[0;34m\u001b[0m\u001b[0;34m\u001b[0m\u001b[0;34m\u001b[0m\u001b[0m\n",
            "\u001b[0;32m/tensorflow-1.15.2/python3.7/tensorflow_core/python/framework/ops.py\u001b[0m in \u001b[0;36mconvert_to_tensor_v2\u001b[0;34m(value, dtype, dtype_hint, name)\u001b[0m\n\u001b[1;32m   1240\u001b[0m       \u001b[0mname\u001b[0m\u001b[0;34m=\u001b[0m\u001b[0mname\u001b[0m\u001b[0;34m,\u001b[0m\u001b[0;34m\u001b[0m\u001b[0;34m\u001b[0m\u001b[0m\n\u001b[1;32m   1241\u001b[0m       \u001b[0mpreferred_dtype\u001b[0m\u001b[0;34m=\u001b[0m\u001b[0mdtype_hint\u001b[0m\u001b[0;34m,\u001b[0m\u001b[0;34m\u001b[0m\u001b[0;34m\u001b[0m\u001b[0m\n\u001b[0;32m-> 1242\u001b[0;31m       as_ref=False)\n\u001b[0m\u001b[1;32m   1243\u001b[0m \u001b[0;34m\u001b[0m\u001b[0m\n\u001b[1;32m   1244\u001b[0m \u001b[0;34m\u001b[0m\u001b[0m\n",
            "\u001b[0;32m/tensorflow-1.15.2/python3.7/tensorflow_core/python/framework/ops.py\u001b[0m in \u001b[0;36minternal_convert_to_tensor\u001b[0;34m(value, dtype, name, as_ref, preferred_dtype, ctx, accepted_result_types)\u001b[0m\n\u001b[1;32m   1295\u001b[0m \u001b[0;34m\u001b[0m\u001b[0m\n\u001b[1;32m   1296\u001b[0m     \u001b[0;32mif\u001b[0m \u001b[0mret\u001b[0m \u001b[0;32mis\u001b[0m \u001b[0;32mNone\u001b[0m\u001b[0;34m:\u001b[0m\u001b[0;34m\u001b[0m\u001b[0;34m\u001b[0m\u001b[0m\n\u001b[0;32m-> 1297\u001b[0;31m       \u001b[0mret\u001b[0m \u001b[0;34m=\u001b[0m \u001b[0mconversion_func\u001b[0m\u001b[0;34m(\u001b[0m\u001b[0mvalue\u001b[0m\u001b[0;34m,\u001b[0m \u001b[0mdtype\u001b[0m\u001b[0;34m=\u001b[0m\u001b[0mdtype\u001b[0m\u001b[0;34m,\u001b[0m \u001b[0mname\u001b[0m\u001b[0;34m=\u001b[0m\u001b[0mname\u001b[0m\u001b[0;34m,\u001b[0m \u001b[0mas_ref\u001b[0m\u001b[0;34m=\u001b[0m\u001b[0mas_ref\u001b[0m\u001b[0;34m)\u001b[0m\u001b[0;34m\u001b[0m\u001b[0;34m\u001b[0m\u001b[0m\n\u001b[0m\u001b[1;32m   1298\u001b[0m \u001b[0;34m\u001b[0m\u001b[0m\n\u001b[1;32m   1299\u001b[0m     \u001b[0;32mif\u001b[0m \u001b[0mret\u001b[0m \u001b[0;32mis\u001b[0m \u001b[0mNotImplemented\u001b[0m\u001b[0;34m:\u001b[0m\u001b[0;34m\u001b[0m\u001b[0;34m\u001b[0m\u001b[0m\n",
            "\u001b[0;32m/tensorflow-1.15.2/python3.7/tensorflow_core/python/framework/constant_op.py\u001b[0m in \u001b[0;36m_constant_tensor_conversion_function\u001b[0;34m(v, dtype, name, as_ref)\u001b[0m\n\u001b[1;32m    284\u001b[0m                                          as_ref=False):\n\u001b[1;32m    285\u001b[0m   \u001b[0m_\u001b[0m \u001b[0;34m=\u001b[0m \u001b[0mas_ref\u001b[0m\u001b[0;34m\u001b[0m\u001b[0;34m\u001b[0m\u001b[0m\n\u001b[0;32m--> 286\u001b[0;31m   \u001b[0;32mreturn\u001b[0m \u001b[0mconstant\u001b[0m\u001b[0;34m(\u001b[0m\u001b[0mv\u001b[0m\u001b[0;34m,\u001b[0m \u001b[0mdtype\u001b[0m\u001b[0;34m=\u001b[0m\u001b[0mdtype\u001b[0m\u001b[0;34m,\u001b[0m \u001b[0mname\u001b[0m\u001b[0;34m=\u001b[0m\u001b[0mname\u001b[0m\u001b[0;34m)\u001b[0m\u001b[0;34m\u001b[0m\u001b[0;34m\u001b[0m\u001b[0m\n\u001b[0m\u001b[1;32m    287\u001b[0m \u001b[0;34m\u001b[0m\u001b[0m\n\u001b[1;32m    288\u001b[0m \u001b[0;34m\u001b[0m\u001b[0m\n",
            "\u001b[0;32m/tensorflow-1.15.2/python3.7/tensorflow_core/python/framework/constant_op.py\u001b[0m in \u001b[0;36mconstant\u001b[0;34m(value, dtype, shape, name)\u001b[0m\n\u001b[1;32m    225\u001b[0m   \"\"\"\n\u001b[1;32m    226\u001b[0m   return _constant_impl(value, dtype, shape, name, verify_shape=False,\n\u001b[0;32m--> 227\u001b[0;31m                         allow_broadcast=True)\n\u001b[0m\u001b[1;32m    228\u001b[0m \u001b[0;34m\u001b[0m\u001b[0m\n\u001b[1;32m    229\u001b[0m \u001b[0;34m\u001b[0m\u001b[0m\n",
            "\u001b[0;32m/tensorflow-1.15.2/python3.7/tensorflow_core/python/framework/constant_op.py\u001b[0m in \u001b[0;36m_constant_impl\u001b[0;34m(value, dtype, shape, name, verify_shape, allow_broadcast)\u001b[0m\n\u001b[1;32m    263\u001b[0m       tensor_util.make_tensor_proto(\n\u001b[1;32m    264\u001b[0m           \u001b[0mvalue\u001b[0m\u001b[0;34m,\u001b[0m \u001b[0mdtype\u001b[0m\u001b[0;34m=\u001b[0m\u001b[0mdtype\u001b[0m\u001b[0;34m,\u001b[0m \u001b[0mshape\u001b[0m\u001b[0;34m=\u001b[0m\u001b[0mshape\u001b[0m\u001b[0;34m,\u001b[0m \u001b[0mverify_shape\u001b[0m\u001b[0;34m=\u001b[0m\u001b[0mverify_shape\u001b[0m\u001b[0;34m,\u001b[0m\u001b[0;34m\u001b[0m\u001b[0;34m\u001b[0m\u001b[0m\n\u001b[0;32m--> 265\u001b[0;31m           allow_broadcast=allow_broadcast))\n\u001b[0m\u001b[1;32m    266\u001b[0m   \u001b[0mdtype_value\u001b[0m \u001b[0;34m=\u001b[0m \u001b[0mattr_value_pb2\u001b[0m\u001b[0;34m.\u001b[0m\u001b[0mAttrValue\u001b[0m\u001b[0;34m(\u001b[0m\u001b[0mtype\u001b[0m\u001b[0;34m=\u001b[0m\u001b[0mtensor_value\u001b[0m\u001b[0;34m.\u001b[0m\u001b[0mtensor\u001b[0m\u001b[0;34m.\u001b[0m\u001b[0mdtype\u001b[0m\u001b[0;34m)\u001b[0m\u001b[0;34m\u001b[0m\u001b[0;34m\u001b[0m\u001b[0m\n\u001b[1;32m    267\u001b[0m   const_tensor = g.create_op(\n",
            "\u001b[0;32m/tensorflow-1.15.2/python3.7/tensorflow_core/python/framework/tensor_util.py\u001b[0m in \u001b[0;36mmake_tensor_proto\u001b[0;34m(values, dtype, shape, verify_shape, allow_broadcast)\u001b[0m\n\u001b[1;32m    435\u001b[0m   \u001b[0;32melse\u001b[0m\u001b[0;34m:\u001b[0m\u001b[0;34m\u001b[0m\u001b[0;34m\u001b[0m\u001b[0m\n\u001b[1;32m    436\u001b[0m     \u001b[0;32mif\u001b[0m \u001b[0mvalues\u001b[0m \u001b[0;32mis\u001b[0m \u001b[0;32mNone\u001b[0m\u001b[0;34m:\u001b[0m\u001b[0;34m\u001b[0m\u001b[0;34m\u001b[0m\u001b[0m\n\u001b[0;32m--> 437\u001b[0;31m       \u001b[0;32mraise\u001b[0m \u001b[0mValueError\u001b[0m\u001b[0;34m(\u001b[0m\u001b[0;34m\"None values not supported.\"\u001b[0m\u001b[0;34m)\u001b[0m\u001b[0;34m\u001b[0m\u001b[0;34m\u001b[0m\u001b[0m\n\u001b[0m\u001b[1;32m    438\u001b[0m     \u001b[0;31m# if dtype is provided, forces numpy array to be the type\u001b[0m\u001b[0;34m\u001b[0m\u001b[0;34m\u001b[0m\u001b[0;34m\u001b[0m\u001b[0m\n\u001b[1;32m    439\u001b[0m     \u001b[0;31m# provided if possible.\u001b[0m\u001b[0;34m\u001b[0m\u001b[0;34m\u001b[0m\u001b[0;34m\u001b[0m\u001b[0m\n",
            "\u001b[0;31mValueError\u001b[0m: None values not supported."
          ]
        }
      ]
    },
    {
      "cell_type": "markdown",
      "metadata": {
        "id": "pC915OiIn0Fn"
      },
      "source": [
        "## CNN分類 (mnist)\n",
        "#### 実行に時間がかかるため割愛"
      ]
    },
    {
      "cell_type": "code",
      "metadata": {
        "id": "TSh_VzRgn0Fo"
      },
      "source": [
        "import tensorflow as tf\n",
        "\n",
        "# logging levelを変更\n",
        "tf.logging.set_verbosity(tf.logging.ERROR)\n",
        "\n",
        "# 必要なライブラリのインポート\n",
        "import keras\n",
        "import matplotlib.pyplot as plt\n",
        "from data.mnist import load_mnist\n",
        "\n",
        "(x_train, d_train), (x_test, d_test) = load_mnist(normalize=True, one_hot_label=True)\n",
        "\n",
        "\n",
        "# 行列として入力するための加工\n",
        "batch_size = 128\n",
        "num_classes = 10\n",
        "epochs = 20\n",
        "\n",
        "img_rows, img_cols = 28, 28\n",
        "\n",
        "x_train = x_train.reshape(x_train.shape[0], img_rows, img_cols, 1)\n",
        "x_test = x_test.reshape(x_test.shape[0], img_rows, img_cols, 1)\n",
        "input_shape = (img_rows, img_cols, 1)\n",
        "\n",
        "\n",
        "# 必要なライブラリのインポート、最適化手法はAdamを使う\n",
        "from keras.models import Sequential\n",
        "from keras.layers import Dense, Dropout, Flatten\n",
        "from keras.layers import Conv2D, MaxPooling2D\n",
        "from keras.optimizers import Adam\n",
        "\n",
        "model = Sequential()\n",
        "model.add(Conv2D(32, kernel_size=(3, 3),\n",
        "                 activation='relu',\n",
        "                 input_shape=input_shape))\n",
        "model.add(Conv2D(64, (3, 3), activation='relu'))\n",
        "model.add(MaxPooling2D(pool_size=(2, 2)))\n",
        "model.add(Dropout(0.25))\n",
        "model.add(Flatten())\n",
        "model.add(Dense(128, activation='relu'))\n",
        "model.add(Dropout(0.5))\n",
        "model.add(Dense(num_classes, activation='softmax'))\n",
        "model.summary()\n",
        "\n",
        "# バッチサイズ、エポック数\n",
        "batch_size = 128\n",
        "epochs = 20\n",
        "\n",
        "model.compile(loss='categorical_crossentropy', optimizer=Adam(), metrics=['accuracy'])\n",
        "history = model.fit(x_train, d_train, batch_size=batch_size, epochs=epochs, verbose=1, validation_data=(x_test, d_test))\n",
        "\n",
        "#Accuracy\n",
        "plt.plot(history.history['acc'])\n",
        "plt.plot(history.history['val_acc'])\n",
        "plt.title('model accuracy')\n",
        "plt.ylabel('accuracy')\n",
        "plt.xlabel('epoch')\n",
        "plt.legend(['train', 'test'], loc='upper left')\n",
        "# plt.ylim(0, 1.0)\n",
        "plt.show()"
      ],
      "execution_count": null,
      "outputs": []
    },
    {
      "cell_type": "markdown",
      "metadata": {
        "id": "M4a1P4XCn0Fq"
      },
      "source": [
        "## cifar10\n",
        "#### 実行に時間がかかるため割愛\n",
        "データセット cifar10<br>\n",
        "32x32ピクセルのカラー画像データ<br>\n",
        "10種のラベル「飛行機、自動車、鳥、猫、鹿、犬、蛙、馬、船、トラック」<br>\n",
        "トレーニングデータ数:50000, テストデータ数:10000<br>\n",
        "http://www.cs.toronto.edu/~kriz/cifar.html"
      ]
    },
    {
      "cell_type": "code",
      "metadata": {
        "id": "AWY8ng9bn0Fr"
      },
      "source": [
        "import tensorflow as tf\n",
        "\n",
        "# logging levelを変更\n",
        "tf.logging.set_verbosity(tf.logging.ERROR)\n",
        "\n",
        "#CIFAR-10のデータセットのインポート\n",
        "from keras.datasets import cifar10\n",
        "(x_train, d_train), (x_test, d_test) = cifar10.load_data()\n",
        "\n",
        "#CIFAR-10の正規化\n",
        "from keras.utils import to_categorical\n",
        "  \n",
        "# 特徴量の正規化\n",
        "x_train = x_train/255.\n",
        "x_test = x_test/255.\n",
        " \n",
        "# クラスラベルの1-hotベクトル化\n",
        "d_train = to_categorical(d_train, 10)\n",
        "d_test = to_categorical(d_test, 10)\n",
        " \n",
        "# CNNの構築\n",
        "import keras\n",
        "from keras.models import Sequential\n",
        "from keras.layers.convolutional import Conv2D, MaxPooling2D\n",
        "from keras.layers.core import Dense, Dropout, Activation, Flatten\n",
        "import numpy as np\n",
        " \n",
        "model = Sequential()\n",
        " \n",
        "model.add(Conv2D(32, (3, 3), padding='same',input_shape=x_train.shape[1:]))\n",
        "model.add(Activation('relu'))\n",
        "model.add(Conv2D(32, (3, 3)))\n",
        "model.add(Activation('relu'))\n",
        "model.add(MaxPooling2D(pool_size=(2, 2)))\n",
        "model.add(Dropout(0.25))\n",
        " \n",
        "model.add(Conv2D(64, (3, 3), padding='same'))\n",
        "model.add(Activation('relu'))\n",
        "model.add(Conv2D(64, (3, 3)))\n",
        "model.add(Activation('relu'))\n",
        "model.add(MaxPooling2D(pool_size=(2, 2)))\n",
        "model.add(Dropout(0.25))\n",
        " \n",
        "model.add(Flatten())\n",
        "model.add(Dense(512))\n",
        "model.add(Activation('relu'))\n",
        "model.add(Dropout(0.5))\n",
        "model.add(Dense(10))\n",
        "model.add(Activation('softmax'))\n",
        " \n",
        "# コンパイル\n",
        "model.compile(loss='categorical_crossentropy',optimizer='adam',metrics=['accuracy'])\n",
        " \n",
        "#訓練\n",
        "history = model.fit(x_train, d_train, epochs=20)\n",
        " \n",
        "# モデルの保存\n",
        "model.save('./CIFAR-10.h5')\n",
        " \n",
        "#評価 & 評価結果出力\n",
        "print(model.evaluate(x_test, d_test))"
      ],
      "execution_count": null,
      "outputs": []
    },
    {
      "cell_type": "markdown",
      "metadata": {
        "id": "bM15YoGfn0Ft"
      },
      "source": [
        "## RNN\n",
        "\n",
        "2進数足し算の予測\n",
        "\n",
        "Keras RNNのドキュメント\n",
        "https://keras.io/ja/layers/recurrent/#simplernn"
      ]
    },
    {
      "cell_type": "markdown",
      "metadata": {
        "id": "6nKnbkiVn0Fu"
      },
      "source": [
        "---------------------------------------------------------------------------------------------------------------------------------------------------------------------------------------------\n",
        "### [try]\n",
        "-  RNNの出力ノード数を128に変更\n",
        "-  RNNの出力活性化関数を sigmoid に変更\n",
        "-  RNNの出力活性化関数を tanh に変更\n",
        "-  最適化方法をadamに変更\n",
        "-  RNNの入力 Dropout を0.5に設定\n",
        "-  RNNの再帰 Dropout を0.3に設定\n",
        "-  RNNのunrollをTrueに設定\n",
        "\n",
        "---------------------------------------------------------------------------------------------------------------------------------------------------------------------------------------------\n"
      ]
    },
    {
      "cell_type": "code",
      "metadata": {
        "id": "EIxL7bCVn0Fv"
      },
      "source": [
        "import tensorflow as tf\n",
        "\n",
        "# logging levelを変更\n",
        "tf.logging.set_verbosity(tf.logging.ERROR)\n",
        "\n",
        "import numpy as np\n",
        "import matplotlib.pyplot as plt\n",
        "\n",
        "import keras\n",
        "from keras.models import Sequential\n",
        "from keras.layers.core import Dense, Dropout,Activation\n",
        "from keras.layers.wrappers import TimeDistributed\n",
        "from keras.optimizers import SGD\n",
        "from keras.layers.recurrent import SimpleRNN, LSTM, GRU\n",
        "\n",
        "\n",
        "# データを用意\n",
        "# 2進数の桁数\n",
        "binary_dim = 8\n",
        "# 最大値 + 1\n",
        "largest_number = pow(2, binary_dim)\n",
        "\n",
        "# largest_numberまで2進数を用意\n",
        "binary = np.unpackbits(np.array([range(largest_number)], dtype=np.uint8).T,axis=1)[:, ::-1]\n",
        "\n",
        "\n",
        "# A, B初期化 (a + b = d)\n",
        "a_int = np.random.randint(largest_number/2, size=20000)\n",
        "a_bin = binary[a_int] # binary encoding\n",
        "b_int = np.random.randint(largest_number/2, size=20000)\n",
        "b_bin = binary[b_int] # binary encoding\n",
        "\n",
        "x_int = []\n",
        "x_bin = []\n",
        "for i in range(10000):\n",
        "    x_int.append(np.array([a_int[i], b_int[i]]).T)\n",
        "    x_bin.append(np.array([a_bin[i], b_bin[i]]).T)\n",
        "\n",
        "x_int_test = []\n",
        "x_bin_test = []\n",
        "for i in range(10001, 20000):\n",
        "    x_int_test.append(np.array([a_int[i], b_int[i]]).T)\n",
        "    x_bin_test.append(np.array([a_bin[i], b_bin[i]]).T)\n",
        "\n",
        "x_int = np.array(x_int)\n",
        "x_bin = np.array(x_bin)\n",
        "x_int_test = np.array(x_int_test)\n",
        "x_bin_test = np.array(x_bin_test)\n",
        "\n",
        "\n",
        "# 正解データ\n",
        "d_int = a_int + b_int\n",
        "d_bin = binary[d_int][0:10000]\n",
        "d_bin_test = binary[d_int][10001:20000]\n",
        "\n",
        "model = Sequential()\n",
        "\n",
        "model.add(SimpleRNN(units=16,\n",
        "               return_sequences=True,\n",
        "               input_shape=[8, 2],\n",
        "               go_backwards=False,\n",
        "               activation='relu',\n",
        "               # dropout=0.5,\n",
        "               # recurrent_dropout=0.3,\n",
        "               # unroll = True,\n",
        "            ))\n",
        "# 出力層\n",
        "model.add(Dense(1, activation='sigmoid', input_shape=(-1,2)))\n",
        "model.summary()\n",
        "model.compile(loss='mean_squared_error', optimizer=SGD(lr=0.1), metrics=['accuracy'])\n",
        "# model.compile(loss='mse', optimizer='adam', metrics=['accuracy'])\n",
        "\n",
        "history = model.fit(x_bin, d_bin.reshape(-1, 8, 1), epochs=5, batch_size=2)\n",
        "\n",
        "# テスト結果出力\n",
        "score = model.evaluate(x_bin_test, d_bin_test.reshape(-1,8,1), verbose=0)\n",
        "print('Test loss:', score[0])\n",
        "print('Test accuracy:', score[1])"
      ],
      "execution_count": null,
      "outputs": []
    }
  ]
}