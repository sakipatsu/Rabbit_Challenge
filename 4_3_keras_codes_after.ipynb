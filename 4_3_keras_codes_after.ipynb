{
  "nbformat": 4,
  "nbformat_minor": 0,
  "metadata": {
    "kernelspec": {
      "name": "python3",
      "display_name": "Python 3"
    },
    "language_info": {
      "codemirror_mode": {
        "name": "ipython",
        "version": 3
      },
      "file_extension": ".py",
      "mimetype": "text/x-python",
      "name": "python",
      "nbconvert_exporter": "python",
      "pygments_lexer": "ipython3",
      "version": "3.6.3"
    },
    "colab": {
      "name": "4_3_keras_codes_after.ipynb",
      "provenance": [],
      "collapsed_sections": [],
      "include_colab_link": true
    }
  },
  "cells": [
    {
      "cell_type": "markdown",
      "metadata": {
        "id": "view-in-github",
        "colab_type": "text"
      },
      "source": [
        "<a href=\"https://colab.research.google.com/github/sakipatsu/Rabbit_Challenge/blob/main/4_3_keras_codes_after.ipynb\" target=\"_parent\"><img src=\"https://colab.research.google.com/assets/colab-badge.svg\" alt=\"Open In Colab\"/></a>"
      ]
    },
    {
      "cell_type": "markdown",
      "metadata": {
        "id": "8cNl2QA_Rnv5"
      },
      "source": [
        "# 準備"
      ]
    },
    {
      "cell_type": "code",
      "source": [
        "!pip3 uninstall tensorflow\n",
        "!pip3 uninstall keras\n",
        "!pip install tensorflow==1.14.0\n",
        "!pip install keras==2.2.2"
      ],
      "metadata": {
        "colab": {
          "base_uri": "https://localhost:8080/",
          "height": 1000
        },
        "id": "pBJLgnHxiM_-",
        "outputId": "7cbdaa15-88bb-446e-d91a-c89586a5f375"
      },
      "execution_count": 9,
      "outputs": [
        {
          "output_type": "stream",
          "name": "stdout",
          "text": [
            "Found existing installation: tensorflow 1.14.0\n",
            "Uninstalling tensorflow-1.14.0:\n",
            "  Would remove:\n",
            "    /usr/local/bin/freeze_graph\n",
            "    /usr/local/bin/saved_model_cli\n",
            "    /usr/local/bin/tensorboard\n",
            "    /usr/local/bin/tf_upgrade_v2\n",
            "    /usr/local/bin/tflite_convert\n",
            "    /usr/local/bin/toco\n",
            "    /usr/local/bin/toco_from_protos\n",
            "    /usr/local/lib/python3.7/dist-packages/tensorflow-1.14.0.dist-info/*\n",
            "    /usr/local/lib/python3.7/dist-packages/tensorflow/*\n",
            "Proceed (y/n)? \u001b[31m  ERROR: Operation cancelled by user\u001b[0m\n",
            "Found existing installation: Keras 2.2.2\n",
            "Uninstalling Keras-2.2.2:\n",
            "  Would remove:\n",
            "    /usr/local/lib/python3.7/dist-packages/Keras-2.2.2.dist-info/*\n",
            "    /usr/local/lib/python3.7/dist-packages/docs/*\n",
            "    /usr/local/lib/python3.7/dist-packages/keras/*\n",
            "  Would not remove (might be manually added):\n",
            "    /usr/local/lib/python3.7/dist-packages/docs/md_autogen.py\n",
            "    /usr/local/lib/python3.7/dist-packages/docs/update_docs.py\n",
            "Proceed (y/n)? y\n",
            "  Successfully uninstalled Keras-2.2.2\n",
            "Requirement already satisfied: tensorflow==1.14.0 in /usr/local/lib/python3.7/dist-packages (1.14.0)\n",
            "Requirement already satisfied: absl-py>=0.7.0 in /usr/local/lib/python3.7/dist-packages (from tensorflow==1.14.0) (0.12.0)\n",
            "Requirement already satisfied: protobuf>=3.6.1 in /usr/local/lib/python3.7/dist-packages (from tensorflow==1.14.0) (3.17.3)\n",
            "Requirement already satisfied: wheel>=0.26 in /usr/local/lib/python3.7/dist-packages (from tensorflow==1.14.0) (0.37.0)\n",
            "Requirement already satisfied: astor>=0.6.0 in /usr/local/lib/python3.7/dist-packages (from tensorflow==1.14.0) (0.8.1)\n",
            "Requirement already satisfied: six>=1.10.0 in /usr/local/lib/python3.7/dist-packages (from tensorflow==1.14.0) (1.15.0)\n",
            "Requirement already satisfied: grpcio>=1.8.6 in /usr/local/lib/python3.7/dist-packages (from tensorflow==1.14.0) (1.42.0)\n",
            "Requirement already satisfied: google-pasta>=0.1.6 in /usr/local/lib/python3.7/dist-packages (from tensorflow==1.14.0) (0.2.0)\n",
            "Collecting keras-preprocessing>=1.0.5\n",
            "  Downloading Keras_Preprocessing-1.1.2-py2.py3-none-any.whl (42 kB)\n",
            "\u001b[K     |████████████████████████████████| 42 kB 721 kB/s \n",
            "\u001b[?25hRequirement already satisfied: tensorflow-estimator<1.15.0rc0,>=1.14.0rc0 in /usr/local/lib/python3.7/dist-packages (from tensorflow==1.14.0) (1.14.0)\n",
            "Requirement already satisfied: termcolor>=1.1.0 in /usr/local/lib/python3.7/dist-packages (from tensorflow==1.14.0) (1.1.0)\n",
            "Requirement already satisfied: wrapt>=1.11.1 in /usr/local/lib/python3.7/dist-packages (from tensorflow==1.14.0) (1.13.3)\n",
            "Requirement already satisfied: gast>=0.2.0 in /usr/local/lib/python3.7/dist-packages (from tensorflow==1.14.0) (0.4.0)\n",
            "Requirement already satisfied: numpy<2.0,>=1.14.5 in /usr/local/lib/python3.7/dist-packages (from tensorflow==1.14.0) (1.19.5)\n",
            "Requirement already satisfied: tensorboard<1.15.0,>=1.14.0 in /usr/local/lib/python3.7/dist-packages (from tensorflow==1.14.0) (1.14.0)\n",
            "Collecting keras-applications>=1.0.6\n",
            "  Using cached Keras_Applications-1.0.8-py3-none-any.whl (50 kB)\n",
            "Requirement already satisfied: h5py in /usr/local/lib/python3.7/dist-packages (from keras-applications>=1.0.6->tensorflow==1.14.0) (3.1.0)\n",
            "Requirement already satisfied: setuptools>=41.0.0 in /usr/local/lib/python3.7/dist-packages (from tensorboard<1.15.0,>=1.14.0->tensorflow==1.14.0) (57.4.0)\n",
            "Requirement already satisfied: markdown>=2.6.8 in /usr/local/lib/python3.7/dist-packages (from tensorboard<1.15.0,>=1.14.0->tensorflow==1.14.0) (3.3.6)\n",
            "Requirement already satisfied: werkzeug>=0.11.15 in /usr/local/lib/python3.7/dist-packages (from tensorboard<1.15.0,>=1.14.0->tensorflow==1.14.0) (1.0.1)\n",
            "Requirement already satisfied: importlib-metadata>=4.4 in /usr/local/lib/python3.7/dist-packages (from markdown>=2.6.8->tensorboard<1.15.0,>=1.14.0->tensorflow==1.14.0) (4.8.2)\n",
            "Requirement already satisfied: zipp>=0.5 in /usr/local/lib/python3.7/dist-packages (from importlib-metadata>=4.4->markdown>=2.6.8->tensorboard<1.15.0,>=1.14.0->tensorflow==1.14.0) (3.6.0)\n",
            "Requirement already satisfied: typing-extensions>=3.6.4 in /usr/local/lib/python3.7/dist-packages (from importlib-metadata>=4.4->markdown>=2.6.8->tensorboard<1.15.0,>=1.14.0->tensorflow==1.14.0) (3.10.0.2)\n",
            "Requirement already satisfied: cached-property in /usr/local/lib/python3.7/dist-packages (from h5py->keras-applications>=1.0.6->tensorflow==1.14.0) (1.5.2)\n",
            "Installing collected packages: keras-preprocessing, keras-applications\n",
            "  Attempting uninstall: keras-preprocessing\n",
            "    Found existing installation: Keras-Preprocessing 1.0.2\n",
            "    Uninstalling Keras-Preprocessing-1.0.2:\n",
            "      Successfully uninstalled Keras-Preprocessing-1.0.2\n",
            "  Attempting uninstall: keras-applications\n",
            "    Found existing installation: Keras-Applications 1.0.4\n",
            "    Uninstalling Keras-Applications-1.0.4:\n",
            "      Successfully uninstalled Keras-Applications-1.0.4\n",
            "\u001b[31mERROR: pip's dependency resolver does not currently take into account all the packages that are installed. This behaviour is the source of the following dependency conflicts.\n",
            "kapre 0.3.6 requires tensorflow>=2.0.0, but you have tensorflow 1.14.0 which is incompatible.\u001b[0m\n",
            "Successfully installed keras-applications-1.0.8 keras-preprocessing-1.1.2\n"
          ]
        },
        {
          "output_type": "display_data",
          "data": {
            "application/vnd.colab-display-data+json": {
              "pip_warning": {
                "packages": [
                  "keras_applications",
                  "keras_preprocessing"
                ]
              }
            }
          },
          "metadata": {}
        },
        {
          "output_type": "stream",
          "name": "stdout",
          "text": [
            "Collecting keras==2.2.2\n",
            "  Using cached Keras-2.2.2-py2.py3-none-any.whl (299 kB)\n",
            "Requirement already satisfied: six>=1.9.0 in /usr/local/lib/python3.7/dist-packages (from keras==2.2.2) (1.15.0)\n",
            "Collecting keras-applications==1.0.4\n",
            "  Using cached Keras_Applications-1.0.4-py2.py3-none-any.whl (43 kB)\n",
            "Requirement already satisfied: h5py in /usr/local/lib/python3.7/dist-packages (from keras==2.2.2) (3.1.0)\n",
            "Requirement already satisfied: pyyaml in /usr/local/lib/python3.7/dist-packages (from keras==2.2.2) (3.13)\n",
            "Collecting keras-preprocessing==1.0.2\n",
            "  Using cached Keras_Preprocessing-1.0.2-py2.py3-none-any.whl (26 kB)\n",
            "Requirement already satisfied: numpy>=1.9.1 in /usr/local/lib/python3.7/dist-packages (from keras==2.2.2) (1.19.5)\n",
            "Requirement already satisfied: scipy>=0.14 in /usr/local/lib/python3.7/dist-packages (from keras==2.2.2) (1.4.1)\n",
            "Requirement already satisfied: cached-property in /usr/local/lib/python3.7/dist-packages (from h5py->keras==2.2.2) (1.5.2)\n",
            "Installing collected packages: keras-preprocessing, keras-applications, keras\n",
            "  Attempting uninstall: keras-preprocessing\n",
            "    Found existing installation: Keras-Preprocessing 1.1.2\n",
            "    Uninstalling Keras-Preprocessing-1.1.2:\n",
            "      Successfully uninstalled Keras-Preprocessing-1.1.2\n",
            "  Attempting uninstall: keras-applications\n",
            "    Found existing installation: Keras-Applications 1.0.8\n",
            "    Uninstalling Keras-Applications-1.0.8:\n",
            "      Successfully uninstalled Keras-Applications-1.0.8\n",
            "\u001b[31mERROR: pip's dependency resolver does not currently take into account all the packages that are installed. This behaviour is the source of the following dependency conflicts.\n",
            "tensorflow 1.14.0 requires keras-applications>=1.0.6, but you have keras-applications 1.0.4 which is incompatible.\n",
            "tensorflow 1.14.0 requires keras-preprocessing>=1.0.5, but you have keras-preprocessing 1.0.2 which is incompatible.\n",
            "kapre 0.3.6 requires tensorflow>=2.0.0, but you have tensorflow 1.14.0 which is incompatible.\u001b[0m\n",
            "Successfully installed keras-2.2.2 keras-applications-1.0.4 keras-preprocessing-1.0.2\n"
          ]
        },
        {
          "output_type": "display_data",
          "data": {
            "application/vnd.colab-display-data+json": {
              "pip_warning": {
                "packages": [
                  "keras",
                  "keras_applications",
                  "keras_preprocessing"
                ]
              }
            }
          },
          "metadata": {}
        }
      ]
    },
    {
      "cell_type": "code",
      "source": [
        "import tensorflow as tf\n",
        "print(tf.__version__)\n",
        "\n",
        "import keras\n",
        "print(keras.__version__)"
      ],
      "metadata": {
        "colab": {
          "base_uri": "https://localhost:8080/"
        },
        "id": "vO3gVT7ji7NV",
        "outputId": "7d1b2726-b14f-4101-8d04-c64b9ccc7763"
      },
      "execution_count": 10,
      "outputs": [
        {
          "output_type": "stream",
          "name": "stdout",
          "text": [
            "1.14.0\n",
            "2.2.2\n"
          ]
        }
      ]
    },
    {
      "cell_type": "markdown",
      "metadata": {
        "id": "YkwjN1jNVAYy"
      },
      "source": [
        "## Googleドライブのマウント"
      ]
    },
    {
      "cell_type": "code",
      "metadata": {
        "id": "pvFXpiH3EVC1",
        "colab": {
          "base_uri": "https://localhost:8080/"
        },
        "outputId": "0c374038-c1ce-459a-d9f0-649802f36ee2"
      },
      "source": [
        "from google.colab import drive\n",
        "drive.mount('/content/drive')"
      ],
      "execution_count": 11,
      "outputs": [
        {
          "output_type": "stream",
          "name": "stdout",
          "text": [
            "Drive already mounted at /content/drive; to attempt to forcibly remount, call drive.mount(\"/content/drive\", force_remount=True).\n"
          ]
        }
      ]
    },
    {
      "cell_type": "markdown",
      "metadata": {
        "id": "3Ub7RYdeY6pK"
      },
      "source": [
        "## sys.pathの設定"
      ]
    },
    {
      "cell_type": "markdown",
      "metadata": {
        "id": "oql7L19rEsWi"
      },
      "source": [
        "以下では，Googleドライブのマイドライブ直下にDNN_codeフォルダを置くことを仮定しています．必要に応じて，パスを変更してください．"
      ]
    },
    {
      "cell_type": "code",
      "metadata": {
        "id": "7Ic2JzkvFX59"
      },
      "source": [
        "import sys\n",
        "#sys.path.append('/content/drive/My Drive/DNN_code')\n",
        "sys.path.append('/content/drive/MyDrive/StudyAI/Step4')"
      ],
      "execution_count": 12,
      "outputs": []
    },
    {
      "cell_type": "markdown",
      "metadata": {
        "id": "dvtu2ouHn0FV"
      },
      "source": [
        "# keras"
      ]
    },
    {
      "cell_type": "markdown",
      "metadata": {
        "id": "frGMl3ajn0FX"
      },
      "source": [
        "## 線形回帰"
      ]
    },
    {
      "cell_type": "code",
      "metadata": {
        "id": "oqfWMhAIn0FZ",
        "colab": {
          "base_uri": "https://localhost:8080/",
          "height": 1000
        },
        "outputId": "1f654da5-001b-4d7e-e1c8-16a939df443a"
      },
      "source": [
        "%tensorflow_version 1.x\n",
        "import tensorflow as tf\n",
        "\n",
        "# logging levelを変更\n",
        "tf.logging.set_verbosity(tf.logging.ERROR)\n",
        "\n",
        "import numpy as np\n",
        "import matplotlib.pyplot as plt\n",
        "\n",
        "iters_num = 1000\n",
        "plot_interval = 10\n",
        "\n",
        "x = np.linspace(-1, 1, 200)\n",
        "np.random.shuffle(x)\n",
        "d = 0.5 * x + 2 + np.random.normal(0, 0.05, (200,))\n",
        "\n",
        "from keras.models import Sequential\n",
        "from keras.layers import Dense\n",
        "\n",
        "# モデルを作成\n",
        "model = Sequential()\n",
        "model.add(Dense(input_dim=1, units=1))\n",
        "#model.add(Dense(input_dim=1, output_dim=1))\n",
        "\n",
        "# モデルを表示\n",
        "model.summary()\n",
        "\n",
        "# モデルのコンパイル\n",
        "model.compile(loss='mse', optimizer='sgd')\n",
        "\n",
        "# train\n",
        "for i in range(iters_num):\n",
        "    loss = model.train_on_batch(x, d)\n",
        "    if (i+1) % plot_interval == 0:\n",
        "        print('Generation: ' + str(i+1) + '. 誤差 = ' + str(loss))\n",
        "\n",
        "W, b = model.layers[0].get_weights()\n",
        "print('W:', W)\n",
        "print('b:', b)\n",
        "\n",
        "y = model.predict(x)\n",
        "plt.scatter(x, d)\n",
        "plt.plot(x, y)\n",
        "plt.show()"
      ],
      "execution_count": 13,
      "outputs": [
        {
          "output_type": "stream",
          "name": "stdout",
          "text": [
            "TensorFlow is already loaded. Please restart the runtime to change versions.\n",
            "_________________________________________________________________\n",
            "Layer (type)                 Output Shape              Param #   \n",
            "=================================================================\n",
            "dense_7 (Dense)              (None, 1)                 2         \n",
            "=================================================================\n",
            "Total params: 2\n",
            "Trainable params: 2\n",
            "Non-trainable params: 0\n",
            "_________________________________________________________________\n",
            "Generation: 10. 誤差 = 2.8666956\n",
            "Generation: 20. 誤差 = 1.9322562\n",
            "Generation: 30. 誤差 = 1.3061914\n",
            "Generation: 40. 誤差 = 0.88628036\n",
            "Generation: 50. 誤差 = 0.6042452\n",
            "Generation: 60. 誤差 = 0.41447213\n",
            "Generation: 70. 誤差 = 0.28648144\n",
            "Generation: 80. 誤差 = 0.19990115\n",
            "Generation: 90. 誤差 = 0.14110982\n",
            "Generation: 100. 誤差 = 0.10099571\n",
            "Generation: 110. 誤差 = 0.073460035\n",
            "Generation: 120. 誤差 = 0.05441727\n",
            "Generation: 130. 誤差 = 0.041127734\n",
            "Generation: 140. 誤差 = 0.03175198\n",
            "Generation: 150. 誤差 = 0.025052762\n",
            "Generation: 160. 誤差 = 0.02019598\n",
            "Generation: 170. 誤差 = 0.01661788\n",
            "Generation: 180. 誤差 = 0.013935853\n",
            "Generation: 190. 誤差 = 0.011889083\n",
            "Generation: 200. 誤差 = 0.010298809\n",
            "Generation: 210. 誤差 = 0.009041583\n",
            "Generation: 220. 誤差 = 0.0080314465\n",
            "Generation: 230. 誤差 = 0.007207836\n",
            "Generation: 240. 誤差 = 0.0065276204\n",
            "Generation: 250. 誤差 = 0.0059596193\n",
            "Generation: 260. 誤差 = 0.0054809246\n",
            "Generation: 270. 誤差 = 0.0050744237\n",
            "Generation: 280. 誤差 = 0.0047271075\n",
            "Generation: 290. 誤差 = 0.0044289036\n",
            "Generation: 300. 誤差 = 0.0041718665\n",
            "Generation: 310. 誤差 = 0.003949641\n",
            "Generation: 320. 誤差 = 0.003757051\n",
            "Generation: 330. 誤差 = 0.0035898422\n",
            "Generation: 340. 誤差 = 0.00344446\n",
            "Generation: 350. 誤差 = 0.0033179093\n",
            "Generation: 360. 誤差 = 0.0032076652\n",
            "Generation: 370. 誤差 = 0.0031115634\n",
            "Generation: 380. 誤差 = 0.003027749\n",
            "Generation: 390. 誤差 = 0.0029546153\n",
            "Generation: 400. 誤差 = 0.002890785\n",
            "Generation: 410. 誤差 = 0.0028350663\n",
            "Generation: 420. 誤差 = 0.0027864168\n",
            "Generation: 430. 誤差 = 0.0027439352\n",
            "Generation: 440. 誤差 = 0.002706836\n",
            "Generation: 450. 誤差 = 0.002674434\n",
            "Generation: 460. 誤差 = 0.00264613\n",
            "Generation: 470. 誤差 = 0.0026214083\n",
            "Generation: 480. 誤差 = 0.002599815\n",
            "Generation: 490. 誤差 = 0.0025809514\n",
            "Generation: 500. 誤差 = 0.0025644738\n",
            "Generation: 510. 誤差 = 0.002550078\n",
            "Generation: 520. 誤差 = 0.0025375027\n",
            "Generation: 530. 誤差 = 0.0025265175\n",
            "Generation: 540. 誤差 = 0.0025169214\n",
            "Generation: 550. 誤差 = 0.002508539\n",
            "Generation: 560. 誤差 = 0.002501216\n",
            "Generation: 570. 誤差 = 0.0024948192\n",
            "Generation: 580. 誤差 = 0.0024892301\n",
            "Generation: 590. 誤差 = 0.0024843467\n",
            "Generation: 600. 誤差 = 0.0024800815\n",
            "Generation: 610. 誤差 = 0.0024763565\n",
            "Generation: 620. 誤差 = 0.0024731017\n",
            "Generation: 630. 誤差 = 0.0024702572\n",
            "Generation: 640. 誤差 = 0.0024677732\n",
            "Generation: 650. 誤差 = 0.0024656025\n",
            "Generation: 660. 誤差 = 0.0024637072\n",
            "Generation: 670. 誤差 = 0.0024620506\n",
            "Generation: 680. 誤差 = 0.0024606034\n",
            "Generation: 690. 誤差 = 0.0024593396\n",
            "Generation: 700. 誤差 = 0.0024582357\n",
            "Generation: 710. 誤差 = 0.0024572704\n",
            "Generation: 720. 誤差 = 0.0024564273\n",
            "Generation: 730. 誤差 = 0.0024556916\n",
            "Generation: 740. 誤差 = 0.0024550485\n",
            "Generation: 750. 誤差 = 0.0024544855\n",
            "Generation: 760. 誤差 = 0.002453995\n",
            "Generation: 770. 誤差 = 0.0024535668\n",
            "Generation: 780. 誤差 = 0.0024531921\n",
            "Generation: 790. 誤差 = 0.002452864\n",
            "Generation: 800. 誤差 = 0.002452579\n",
            "Generation: 810. 誤差 = 0.0024523295\n",
            "Generation: 820. 誤差 = 0.00245211\n",
            "Generation: 830. 誤差 = 0.0024519197\n",
            "Generation: 840. 誤差 = 0.0024517528\n",
            "Generation: 850. 誤差 = 0.0024516077\n",
            "Generation: 860. 誤差 = 0.0024514808\n",
            "Generation: 870. 誤差 = 0.00245137\n",
            "Generation: 880. 誤差 = 0.0024512727\n",
            "Generation: 890. 誤差 = 0.0024511886\n",
            "Generation: 900. 誤差 = 0.0024511141\n",
            "Generation: 910. 誤差 = 0.0024510496\n",
            "Generation: 920. 誤差 = 0.0024509928\n",
            "Generation: 930. 誤差 = 0.002450944\n",
            "Generation: 940. 誤差 = 0.0024509004\n",
            "Generation: 950. 誤差 = 0.0024508634\n",
            "Generation: 960. 誤差 = 0.0024508303\n",
            "Generation: 970. 誤差 = 0.0024508017\n",
            "Generation: 980. 誤差 = 0.0024507763\n",
            "Generation: 990. 誤差 = 0.0024507537\n",
            "Generation: 1000. 誤差 = 0.002450735\n",
            "W: [[0.50320715]]\n",
            "b: [1.9993501]\n"
          ]
        },
        {
          "output_type": "display_data",
          "data": {
            "image/png": "[encoded data removed]",
            "text/plain": [
              "<Figure size 432x288 with 1 Axes>"
            ]
          },
          "metadata": {
            "needs_background": "light"
          }
        }
      ]
    },
    {
      "cell_type": "markdown",
      "metadata": {
        "id": "ABdJA1Tkn0Fd"
      },
      "source": [
        "## 単純パーセプトロン \n",
        "OR回路\n",
        "\n",
        "---------------------------------------------------------------------------------------------------------------------------------------------------------------------------------------------\n",
        "### [try]\n",
        "-  np.random.seed(0)をnp.random.seed(1)に変更\n",
        "        False,True,True,True\n",
        "-  エポック数を100に変更\n",
        "        True, True,True,True\n",
        "-  AND回路, XOR回路に変更\n",
        "        OR, ANDは線形分離可能だが, XORは線形分離不可能なので学習できない\n",
        "-  OR回路にしてバッチサイズを10に変更\n",
        "        False,True,True,True\n",
        "-  エポック数を300に変更しよう\n",
        "        True, True,True,True\n",
        "---------------------------------------------------------------------------------------------------------------------------------------------------------------------------------------------"
      ]
    },
    {
      "cell_type": "code",
      "metadata": {
        "id": "Nv_Z7Fmhn0Fe",
        "colab": {
          "base_uri": "https://localhost:8080/"
        },
        "outputId": "1dfb75ba-074a-4046-bbad-1e6781a30742"
      },
      "source": [
        "import tensorflow as tf\n",
        "\n",
        "# logging levelを変更\n",
        "tf.logging.set_verbosity(tf.logging.ERROR)\n",
        "\n",
        "# モジュール読み込み\n",
        "import numpy as np\n",
        "from keras.models import Sequential\n",
        "from keras.layers import Dense, Activation\n",
        "from keras.optimizers import SGD\n",
        " \n",
        "# 乱数を固定値で初期化\n",
        "np.random.seed(0)\n",
        "\n",
        "# シグモイドの単純パーセプトロン作成\n",
        "model = Sequential()\n",
        "model.add(Dense(input_dim=2, units=1))\n",
        "model.add(Activation('sigmoid'))\n",
        "model.summary()\n",
        "\n",
        "model.compile(loss='binary_crossentropy', optimizer=SGD(lr=0.1))\n",
        " \n",
        "# トレーニング用入力 X と正解データ T\n",
        "X = np.array( [[0,0], [0,1], [1,0], [1,1]] )\n",
        "T = np.array( [[0], [1], [1], [1]] )\n",
        " \n",
        "# トレーニング\n",
        "model.fit(X, T, epochs=30, batch_size=1)\n",
        " \n",
        "# トレーニングの入力を流用して実際に分類\n",
        "Y = model.predict_classes(X, batch_size=1)\n",
        "\n",
        "print(\"TEST\")\n",
        "print(Y == T)\n"
      ],
      "execution_count": 14,
      "outputs": [
        {
          "output_type": "stream",
          "name": "stdout",
          "text": [
            "_________________________________________________________________\n",
            "Layer (type)                 Output Shape              Param #   \n",
            "=================================================================\n",
            "dense_8 (Dense)              (None, 1)                 3         \n",
            "_________________________________________________________________\n",
            "activation_6 (Activation)    (None, 1)                 0         \n",
            "=================================================================\n",
            "Total params: 3\n",
            "Trainable params: 3\n",
            "Non-trainable params: 0\n",
            "_________________________________________________________________\n",
            "Epoch 1/30\n",
            "4/4 [==============================] - 0s 48ms/step - loss: 0.4352\n",
            "Epoch 2/30\n",
            "4/4 [==============================] - 0s 2ms/step - loss: 0.4204\n",
            "Epoch 3/30\n",
            "4/4 [==============================] - 0s 2ms/step - loss: 0.4079\n",
            "Epoch 4/30\n",
            "4/4 [==============================] - 0s 2ms/step - loss: 0.3971\n",
            "Epoch 5/30\n",
            "4/4 [==============================] - 0s 2ms/step - loss: 0.3876\n",
            "Epoch 6/30\n",
            "4/4 [==============================] - 0s 3ms/step - loss: 0.3790\n",
            "Epoch 7/30\n",
            "4/4 [==============================] - 0s 4ms/step - loss: 0.3717\n",
            "Epoch 8/30\n",
            "4/4 [==============================] - 0s 3ms/step - loss: 0.3650\n",
            "Epoch 9/30\n",
            "4/4 [==============================] - 0s 3ms/step - loss: 0.3586\n",
            "Epoch 10/30\n",
            "4/4 [==============================] - 0s 3ms/step - loss: 0.3528\n",
            "Epoch 11/30\n",
            "4/4 [==============================] - 0s 3ms/step - loss: 0.3476\n",
            "Epoch 12/30\n",
            "4/4 [==============================] - 0s 3ms/step - loss: 0.3425\n",
            "Epoch 13/30\n",
            "4/4 [==============================] - 0s 3ms/step - loss: 0.3378\n",
            "Epoch 14/30\n",
            "4/4 [==============================] - 0s 3ms/step - loss: 0.3333\n",
            "Epoch 15/30\n",
            "4/4 [==============================] - 0s 3ms/step - loss: 0.3291\n",
            "Epoch 16/30\n",
            "4/4 [==============================] - 0s 3ms/step - loss: 0.3250\n",
            "Epoch 17/30\n",
            "4/4 [==============================] - 0s 4ms/step - loss: 0.3210\n",
            "Epoch 18/30\n",
            "4/4 [==============================] - 0s 3ms/step - loss: 0.3172\n",
            "Epoch 19/30\n",
            "4/4 [==============================] - 0s 2ms/step - loss: 0.3136\n",
            "Epoch 20/30\n",
            "4/4 [==============================] - 0s 2ms/step - loss: 0.3100\n",
            "Epoch 21/30\n",
            "4/4 [==============================] - 0s 3ms/step - loss: 0.3067\n",
            "Epoch 22/30\n",
            "4/4 [==============================] - 0s 3ms/step - loss: 0.3032\n",
            "Epoch 23/30\n",
            "4/4 [==============================] - 0s 4ms/step - loss: 0.3000\n",
            "Epoch 24/30\n",
            "4/4 [==============================] - 0s 2ms/step - loss: 0.2968\n",
            "Epoch 25/30\n",
            "4/4 [==============================] - 0s 2ms/step - loss: 0.2938\n",
            "Epoch 26/30\n",
            "4/4 [==============================] - 0s 3ms/step - loss: 0.2908\n",
            "Epoch 27/30\n",
            "4/4 [==============================] - 0s 3ms/step - loss: 0.2878\n",
            "Epoch 28/30\n",
            "4/4 [==============================] - 0s 4ms/step - loss: 0.2850\n",
            "Epoch 29/30\n",
            "4/4 [==============================] - 0s 2ms/step - loss: 0.2821\n",
            "Epoch 30/30\n",
            "4/4 [==============================] - 0s 3ms/step - loss: 0.2794\n",
            "TEST\n",
            "[[ True]\n",
            " [ True]\n",
            " [ True]\n",
            " [ True]]\n"
          ]
        }
      ]
    },
    {
      "cell_type": "markdown",
      "metadata": {
        "id": "ZgIprH0Gn0Fh"
      },
      "source": [
        "## 分類 (iris)\n",
        "\n",
        "---------------------------------------------------------------------------------------------------------------------------------------------------------------------------------------------\n",
        "### [try]\n",
        "-  中間層の活性関数をsigmoidに変更しよう\n",
        "-  SGDをimportしoptimizerをSGD(lr=0.1)に変更しよう\n",
        "---------------------------------------------------------------------------------------------------------------------------------------------------------------------------------------------"
      ]
    },
    {
      "cell_type": "code",
      "metadata": {
        "id": "VZRJNcppn0Fi",
        "colab": {
          "base_uri": "https://localhost:8080/",
          "height": 1000
        },
        "outputId": "07ce00a0-c758-4d7e-b823-081b7d151992"
      },
      "source": [
        "import tensorflow as tf\n",
        "\n",
        "# logging levelを変更\n",
        "tf.logging.set_verbosity(tf.logging.ERROR)\n",
        "\n",
        "import matplotlib.pyplot as plt\n",
        "from sklearn import datasets\n",
        "iris = datasets.load_iris()\n",
        "x = iris.data\n",
        "d = iris.target\n",
        "\n",
        "# from sklearn.cross_validation import train_test_split\n",
        "from sklearn.model_selection import train_test_split\n",
        "x_train, x_test, d_train, d_test = train_test_split(x, d, test_size=0.2)\n",
        "\n",
        "from keras.models import Sequential\n",
        "from keras.layers import Dense, Activation\n",
        "# from keras.optimizers import SGD\n",
        "\n",
        "#モデルの設定\n",
        "model = Sequential()\n",
        "model.add(Dense(12, input_dim=4))\n",
        "model.add(Activation('relu'))\n",
        "# model.add(Activation('sigmoid'))\n",
        "model.add(Dense(3, input_dim=12))\n",
        "model.add(Activation('softmax'))\n",
        "model.summary()\n",
        "\n",
        "model.compile(optimizer='sgd', loss='sparse_categorical_crossentropy', metrics=['accuracy'])\n",
        "\n",
        "history = model.fit(x_train, d_train, batch_size=5, epochs=20, verbose=1, validation_data=(x_test, d_test))\n",
        "loss = model.evaluate(x_test, d_test, verbose=0)\n",
        "\n",
        "#Accuracy\n",
        "print(history.history)\n",
        "#plt.plot(history.history['acc'])\n",
        "plt.plot(history.history['val_loss'])\n",
        "plt.plot(history.history['val_acc'])\n",
        "#plt.plot(history.history['val_accuracy'])\n",
        "plt.title('model accuracy')\n",
        "plt.ylabel('accuracy')\n",
        "plt.xlabel('epoch')\n",
        "plt.legend(['train', 'test'], loc='upper left')\n",
        "plt.ylim(0, 1.0)\n",
        "plt.show()\n"
      ],
      "execution_count": 15,
      "outputs": [
        {
          "output_type": "stream",
          "name": "stdout",
          "text": [
            "_________________________________________________________________\n",
            "Layer (type)                 Output Shape              Param #   \n",
            "=================================================================\n",
            "dense_9 (Dense)              (None, 12)                60        \n",
            "_________________________________________________________________\n",
            "activation_7 (Activation)    (None, 12)                0         \n",
            "_________________________________________________________________\n",
            "dense_10 (Dense)             (None, 3)                 39        \n",
            "_________________________________________________________________\n",
            "activation_8 (Activation)    (None, 3)                 0         \n",
            "=================================================================\n",
            "Total params: 99\n",
            "Trainable params: 99\n",
            "Non-trainable params: 0\n",
            "_________________________________________________________________\n",
            "Train on 120 samples, validate on 30 samples\n",
            "Epoch 1/20\n",
            "120/120 [==============================] - 0s 2ms/step - loss: 0.9171 - acc: 0.4500 - val_loss: 0.7723 - val_acc: 0.7000\n",
            "Epoch 2/20\n",
            "120/120 [==============================] - 0s 254us/step - loss: 0.7485 - acc: 0.7333 - val_loss: 0.6238 - val_acc: 0.9000\n",
            "Epoch 3/20\n",
            "120/120 [==============================] - 0s 243us/step - loss: 0.5982 - acc: 0.8750 - val_loss: 0.5555 - val_acc: 0.7000\n",
            "Epoch 4/20\n",
            "120/120 [==============================] - 0s 201us/step - loss: 0.5522 - acc: 0.8250 - val_loss: 0.5137 - val_acc: 0.9333\n",
            "Epoch 5/20\n",
            "120/120 [==============================] - 0s 243us/step - loss: 0.5043 - acc: 0.8583 - val_loss: 0.5259 - val_acc: 0.8000\n",
            "Epoch 6/20\n",
            "120/120 [==============================] - 0s 290us/step - loss: 0.4791 - acc: 0.8833 - val_loss: 0.4444 - val_acc: 0.9000\n",
            "Epoch 7/20\n",
            "120/120 [==============================] - 0s 327us/step - loss: 0.4529 - acc: 0.8500 - val_loss: 0.4182 - val_acc: 0.9000\n",
            "Epoch 8/20\n",
            "120/120 [==============================] - 0s 221us/step - loss: 0.4137 - acc: 0.8917 - val_loss: 0.4015 - val_acc: 0.9000\n",
            "Epoch 9/20\n",
            "120/120 [==============================] - 0s 265us/step - loss: 0.4029 - acc: 0.9083 - val_loss: 0.3894 - val_acc: 0.8667\n",
            "Epoch 10/20\n",
            "120/120 [==============================] - 0s 266us/step - loss: 0.3815 - acc: 0.9167 - val_loss: 0.4059 - val_acc: 0.9000\n",
            "Epoch 11/20\n",
            "120/120 [==============================] - 0s 246us/step - loss: 0.3796 - acc: 0.9333 - val_loss: 0.3590 - val_acc: 0.9667\n",
            "Epoch 12/20\n",
            "120/120 [==============================] - 0s 306us/step - loss: 0.3639 - acc: 0.8833 - val_loss: 0.3706 - val_acc: 0.9333\n",
            "Epoch 13/20\n",
            "120/120 [==============================] - 0s 234us/step - loss: 0.3400 - acc: 0.9417 - val_loss: 0.3510 - val_acc: 0.9667\n",
            "Epoch 14/20\n",
            "120/120 [==============================] - 0s 272us/step - loss: 0.3335 - acc: 0.9417 - val_loss: 0.3213 - val_acc: 0.9000\n",
            "Epoch 15/20\n",
            "120/120 [==============================] - 0s 261us/step - loss: 0.3216 - acc: 0.9333 - val_loss: 0.3150 - val_acc: 0.9000\n",
            "Epoch 16/20\n",
            "120/120 [==============================] - 0s 300us/step - loss: 0.3029 - acc: 0.9250 - val_loss: 0.3158 - val_acc: 0.9333\n",
            "Epoch 17/20\n",
            "120/120 [==============================] - 0s 263us/step - loss: 0.3038 - acc: 0.9250 - val_loss: 0.3067 - val_acc: 0.9333\n",
            "Epoch 18/20\n",
            "120/120 [==============================] - 0s 338us/step - loss: 0.2910 - acc: 0.9333 - val_loss: 0.2840 - val_acc: 0.9333\n",
            "Epoch 19/20\n",
            "120/120 [==============================] - 0s 298us/step - loss: 0.2859 - acc: 0.9417 - val_loss: 0.2770 - val_acc: 0.9667\n",
            "Epoch 20/20\n",
            "120/120 [==============================] - 0s 246us/step - loss: 0.2734 - acc: 0.9667 - val_loss: 0.2772 - val_acc: 0.9667\n",
            "{'val_loss': [0.7722808023293813, 0.6238095760345459, 0.5554920037587484, 0.5136512170235316, 0.5258503009875616, 0.4444127678871155, 0.4182491898536682, 0.40147072076797485, 0.38937893509864807, 0.405947412053744, 0.3589548220237096, 0.3706318785746892, 0.3509787817796071, 0.3213326434294383, 0.31501175711552304, 0.3158423925439517, 0.30674369881550473, 0.28400107224782306, 0.2770039091507594, 0.2772260357936223], 'val_acc': [0.7000000178813934, 0.9000000059604645, 0.7000000178813934, 0.9333333373069763, 0.800000011920929, 0.9000000059604645, 0.9000000059604645, 0.9000000059604645, 0.8666666746139526, 0.9000000059604645, 0.9666666686534882, 0.9333333373069763, 0.9666666686534882, 0.9000000059604645, 0.9000000059604645, 0.9333333373069763, 0.9333333373069763, 0.9333333373069763, 0.9666666686534882, 0.9666666686534882], 'loss': [0.9170693010091782, 0.7484976574778557, 0.5982073582708836, 0.5522348446150621, 0.5043329745531082, 0.47907350088159245, 0.45289184401432675, 0.41374121233820915, 0.4028676201899846, 0.3815400619059801, 0.37962960079312325, 0.36385128429780406, 0.3399720961848895, 0.3335345188776652, 0.3215586558605234, 0.3029382489621639, 0.30376084862897795, 0.2909551054860155, 0.28590381269653636, 0.2733560747777422], 'acc': [0.45000001043081284, 0.7333333405355612, 0.8750000074505806, 0.8250000067055225, 0.8583333417773247, 0.8833333390454451, 0.8500000089406967, 0.8916666731238365, 0.9083333387970924, 0.9166666716337204, 0.9333333373069763, 0.8833333390454451, 0.9416666701436043, 0.9416666701436043, 0.9333333373069763, 0.9250000044703484, 0.9250000044703484, 0.9333333373069763, 0.9416666701436043, 0.9666666686534882]}\n"
          ]
        },
        {
          "output_type": "display_data",
          "data": {
            "image/png": "[encoded data removed]",
            "text/plain": [
              "<Figure size 432x288 with 1 Axes>"
            ]
          },
          "metadata": {
            "needs_background": "light"
          }
        }
      ]
    },
    {
      "cell_type": "markdown",
      "metadata": {
        "id": "DvykQJwan0Fk"
      },
      "source": [
        "## 分類 (mnist)\n",
        "\n",
        "---------------------------------------------------------------------------------------------------------------------------------------------------------------------------------------------\n",
        "### [try]\n",
        "-  load_mnistのone_hot_labelをFalseに変更しよう (error)\n",
        "-  誤差関数をsparse_categorical_crossentropyに変更しよう\n",
        "-  Adamの引数の値を変更しよう\n",
        "---------------------------------------------------------------------------------------------------------------------------------------------------------------------------------------------"
      ]
    },
    {
      "cell_type": "code",
      "metadata": {
        "id": "2fyuriMEn0Fl",
        "colab": {
          "base_uri": "https://localhost:8080/",
          "height": 1000
        },
        "outputId": "1ccc25a4-0956-4f12-fc1f-0511ff36c17b"
      },
      "source": [
        "import tensorflow as tf\n",
        "\n",
        "# logging levelを変更\n",
        "tf.logging.set_verbosity(tf.logging.ERROR)\n",
        "\n",
        "# 必要なライブラリのインポート\n",
        "import keras\n",
        "import matplotlib.pyplot as plt\n",
        "from data.mnist import load_mnist\n",
        "\n",
        "(x_train, d_train), (x_test, d_test) = load_mnist(normalize=True, one_hot_label=False)\n",
        "\n",
        "# 必要なライブラリのインポート、最適化手法はAdamを使う\n",
        "from keras.models import Sequential\n",
        "from keras.layers import Dense, Dropout\n",
        "from keras.optimizers import Adam\n",
        "\n",
        "# モデル作成\n",
        "model = Sequential()\n",
        "model.add(Dense(512, activation='relu', input_shape=(784,)))\n",
        "model.add(Dropout(0.2))\n",
        "model.add(Dense(512, activation='relu'))\n",
        "model.add(Dropout(0.2))\n",
        "model.add(Dense(10, activation='softmax'))\n",
        "model.summary()\n",
        "\n",
        "# バッチサイズ、エポック数\n",
        "batch_size = 128\n",
        "epochs = 20\n",
        "\n",
        "model.compile(loss='sparse_categorical_crossentropy', \n",
        "              optimizer=Adam(lr=0.001, beta_1=0.9, beta_2=0.999, epsilon=None, decay=0.0, amsgrad=False), \n",
        "              metrics=['accuracy'])\n",
        "\n",
        "history = model.fit(x_train, d_train, batch_size=batch_size, epochs=epochs, verbose=1, validation_data=(x_test, d_test))\n",
        "loss = model.evaluate(x_test, d_test, verbose=0)\n",
        "print('Test loss:', loss[0])\n",
        "print('Test accuracy:', loss[1])\n",
        "#Accuracy\n",
        "plt.plot(history.history['acc'])\n",
        "plt.plot(history.history['val_acc'])\n",
        "plt.title('model accuracy')\n",
        "plt.ylabel('accuracy')\n",
        "plt.xlabel('epoch')\n",
        "plt.legend(['train', 'test'], loc='upper left')\n",
        "# plt.ylim(0, 1.0)\n",
        "plt.show()"
      ],
      "execution_count": 16,
      "outputs": [
        {
          "output_type": "stream",
          "name": "stdout",
          "text": [
            "_________________________________________________________________\n",
            "Layer (type)                 Output Shape              Param #   \n",
            "=================================================================\n",
            "dense_11 (Dense)             (None, 512)               401920    \n",
            "_________________________________________________________________\n",
            "dropout_1 (Dropout)          (None, 512)               0         \n",
            "_________________________________________________________________\n",
            "dense_12 (Dense)             (None, 512)               262656    \n",
            "_________________________________________________________________\n",
            "dropout_2 (Dropout)          (None, 512)               0         \n",
            "_________________________________________________________________\n",
            "dense_13 (Dense)             (None, 10)                5130      \n",
            "=================================================================\n",
            "Total params: 669,706\n",
            "Trainable params: 669,706\n",
            "Non-trainable params: 0\n",
            "_________________________________________________________________\n",
            "Train on 60000 samples, validate on 10000 samples\n",
            "Epoch 1/20\n",
            "60000/60000 [==============================] - 10s 173us/step - loss: 0.2549 - acc: 0.9219 - val_loss: 0.1088 - val_acc: 0.9650\n",
            "Epoch 2/20\n",
            "60000/60000 [==============================] - 10s 164us/step - loss: 0.1007 - acc: 0.9693 - val_loss: 0.0809 - val_acc: 0.9727\n",
            "Epoch 3/20\n",
            "60000/60000 [==============================] - 10s 164us/step - loss: 0.0720 - acc: 0.9775 - val_loss: 0.0678 - val_acc: 0.9784\n",
            "Epoch 4/20\n",
            "60000/60000 [==============================] - 10s 164us/step - loss: 0.0554 - acc: 0.9824 - val_loss: 0.0603 - val_acc: 0.9808\n",
            "Epoch 5/20\n",
            "60000/60000 [==============================] - 10s 163us/step - loss: 0.0468 - acc: 0.9846 - val_loss: 0.0645 - val_acc: 0.9797\n",
            "Epoch 6/20\n",
            "60000/60000 [==============================] - 10s 163us/step - loss: 0.0385 - acc: 0.9876 - val_loss: 0.0830 - val_acc: 0.9760\n",
            "Epoch 7/20\n",
            "60000/60000 [==============================] - 10s 164us/step - loss: 0.0352 - acc: 0.9885 - val_loss: 0.0773 - val_acc: 0.9774\n",
            "Epoch 8/20\n",
            "60000/60000 [==============================] - 10s 161us/step - loss: 0.0294 - acc: 0.9896 - val_loss: 0.0698 - val_acc: 0.9826\n",
            "Epoch 9/20\n",
            "60000/60000 [==============================] - 10s 163us/step - loss: 0.0270 - acc: 0.9908 - val_loss: 0.0790 - val_acc: 0.9800\n",
            "Epoch 10/20\n",
            "60000/60000 [==============================] - 10s 164us/step - loss: 0.0275 - acc: 0.9908 - val_loss: 0.0726 - val_acc: 0.9818\n",
            "Epoch 11/20\n",
            "60000/60000 [==============================] - 10s 164us/step - loss: 0.0235 - acc: 0.9921 - val_loss: 0.0818 - val_acc: 0.9786\n",
            "Epoch 12/20\n",
            "60000/60000 [==============================] - 10s 162us/step - loss: 0.0229 - acc: 0.9922 - val_loss: 0.0672 - val_acc: 0.9820\n",
            "Epoch 13/20\n",
            "60000/60000 [==============================] - 10s 164us/step - loss: 0.0185 - acc: 0.9936 - val_loss: 0.0719 - val_acc: 0.9811\n",
            "Epoch 14/20\n",
            "60000/60000 [==============================] - 10s 162us/step - loss: 0.0206 - acc: 0.9934 - val_loss: 0.0623 - val_acc: 0.9843\n",
            "Epoch 15/20\n",
            "60000/60000 [==============================] - 10s 159us/step - loss: 0.0177 - acc: 0.9942 - val_loss: 0.0802 - val_acc: 0.9812\n",
            "Epoch 16/20\n",
            "60000/60000 [==============================] - 10s 162us/step - loss: 0.0175 - acc: 0.9943 - val_loss: 0.0822 - val_acc: 0.9808\n",
            "Epoch 17/20\n",
            "60000/60000 [==============================] - 10s 161us/step - loss: 0.0159 - acc: 0.9948 - val_loss: 0.0778 - val_acc: 0.9827\n",
            "Epoch 18/20\n",
            "60000/60000 [==============================] - 10s 160us/step - loss: 0.0170 - acc: 0.9943 - val_loss: 0.0770 - val_acc: 0.9837\n",
            "Epoch 19/20\n",
            "60000/60000 [==============================] - 10s 162us/step - loss: 0.0154 - acc: 0.9949 - val_loss: 0.0775 - val_acc: 0.9830\n",
            "Epoch 20/20\n",
            "60000/60000 [==============================] - 10s 160us/step - loss: 0.0134 - acc: 0.9958 - val_loss: 0.0852 - val_acc: 0.9823\n",
            "Test loss: 0.08516811178611497\n",
            "Test accuracy: 0.9823\n"
          ]
        },
        {
          "output_type": "display_data",
          "data": {
            "image/png": "[encoded data removed]",
            "text/plain": [
              "<Figure size 432x288 with 1 Axes>"
            ]
          },
          "metadata": {
            "needs_background": "light"
          }
        }
      ]
    },
    {
      "cell_type": "markdown",
      "metadata": {
        "id": "pC915OiIn0Fn"
      },
      "source": [
        "## CNN分類 (mnist)\n",
        "#### 実行に時間がかかるため割愛"
      ]
    },
    {
      "cell_type": "code",
      "metadata": {
        "id": "TSh_VzRgn0Fo",
        "colab": {
          "base_uri": "https://localhost:8080/",
          "height": 1000
        },
        "outputId": "1d48877e-5559-4ecd-b109-c851729af9f3"
      },
      "source": [
        "import tensorflow as tf\n",
        "\n",
        "# logging levelを変更\n",
        "tf.logging.set_verbosity(tf.logging.ERROR)\n",
        "\n",
        "# 必要なライブラリのインポート\n",
        "import keras\n",
        "import matplotlib.pyplot as plt\n",
        "from data.mnist import load_mnist\n",
        "\n",
        "(x_train, d_train), (x_test, d_test) = load_mnist(normalize=True, one_hot_label=True)\n",
        "\n",
        "\n",
        "# 行列として入力するための加工\n",
        "batch_size = 128\n",
        "num_classes = 10\n",
        "epochs = 20\n",
        "\n",
        "img_rows, img_cols = 28, 28\n",
        "\n",
        "x_train = x_train.reshape(x_train.shape[0], img_rows, img_cols, 1)\n",
        "x_test = x_test.reshape(x_test.shape[0], img_rows, img_cols, 1)\n",
        "input_shape = (img_rows, img_cols, 1)\n",
        "\n",
        "\n",
        "# 必要なライブラリのインポート、最適化手法はAdamを使う\n",
        "from keras.models import Sequential\n",
        "from keras.layers import Dense, Dropout, Flatten\n",
        "from keras.layers import Conv2D, MaxPooling2D\n",
        "from keras.optimizers import Adam\n",
        "\n",
        "model = Sequential()\n",
        "model.add(Conv2D(32, kernel_size=(3, 3),\n",
        "                 activation='relu',\n",
        "                 input_shape=input_shape))\n",
        "model.add(Conv2D(64, (3, 3), activation='relu'))\n",
        "model.add(MaxPooling2D(pool_size=(2, 2)))\n",
        "model.add(Dropout(0.25))\n",
        "model.add(Flatten())\n",
        "model.add(Dense(128, activation='relu'))\n",
        "model.add(Dropout(0.5))\n",
        "model.add(Dense(num_classes, activation='softmax'))\n",
        "model.summary()\n",
        "\n",
        "# バッチサイズ、エポック数\n",
        "batch_size = 128\n",
        "epochs = 20\n",
        "\n",
        "model.compile(loss='categorical_crossentropy', optimizer=Adam(), metrics=['accuracy'])\n",
        "history = model.fit(x_train, d_train, batch_size=batch_size, epochs=epochs, verbose=1, validation_data=(x_test, d_test))\n",
        "\n",
        "#Accuracy\n",
        "plt.plot(history.history['acc'])\n",
        "plt.plot(history.history['val_acc'])\n",
        "plt.title('model accuracy')\n",
        "plt.ylabel('accuracy')\n",
        "plt.xlabel('epoch')\n",
        "plt.legend(['train', 'test'], loc='upper left')\n",
        "# plt.ylim(0, 1.0)\n",
        "plt.show()"
      ],
      "execution_count": 17,
      "outputs": [
        {
          "output_type": "stream",
          "name": "stdout",
          "text": [
            "_________________________________________________________________\n",
            "Layer (type)                 Output Shape              Param #   \n",
            "=================================================================\n",
            "conv2d_1 (Conv2D)            (None, 26, 26, 32)        320       \n",
            "_________________________________________________________________\n",
            "conv2d_2 (Conv2D)            (None, 24, 24, 64)        18496     \n",
            "_________________________________________________________________\n",
            "max_pooling2d_1 (MaxPooling2 (None, 12, 12, 64)        0         \n",
            "_________________________________________________________________\n",
            "dropout_3 (Dropout)          (None, 12, 12, 64)        0         \n",
            "_________________________________________________________________\n",
            "flatten_1 (Flatten)          (None, 9216)              0         \n",
            "_________________________________________________________________\n",
            "dense_14 (Dense)             (None, 128)               1179776   \n",
            "_________________________________________________________________\n",
            "dropout_4 (Dropout)          (None, 128)               0         \n",
            "_________________________________________________________________\n",
            "dense_15 (Dense)             (None, 10)                1290      \n",
            "=================================================================\n",
            "Total params: 1,199,882\n",
            "Trainable params: 1,199,882\n",
            "Non-trainable params: 0\n",
            "_________________________________________________________________\n",
            "Train on 60000 samples, validate on 10000 samples\n",
            "Epoch 1/20\n",
            "60000/60000 [==============================] - 143s 2ms/step - loss: 0.2630 - acc: 0.9201 - val_loss: 0.0522 - val_acc: 0.9835\n",
            "Epoch 2/20\n",
            "60000/60000 [==============================] - 142s 2ms/step - loss: 0.0920 - acc: 0.9724 - val_loss: 0.0416 - val_acc: 0.9854\n",
            "Epoch 3/20\n",
            "60000/60000 [==============================] - 142s 2ms/step - loss: 0.0656 - acc: 0.9803 - val_loss: 0.0324 - val_acc: 0.9892\n",
            "Epoch 4/20\n",
            "60000/60000 [==============================] - 142s 2ms/step - loss: 0.0545 - acc: 0.9835 - val_loss: 0.0316 - val_acc: 0.9898\n",
            "Epoch 5/20\n",
            "60000/60000 [==============================] - 142s 2ms/step - loss: 0.0467 - acc: 0.9854 - val_loss: 0.0282 - val_acc: 0.9902\n",
            "Epoch 6/20\n",
            "60000/60000 [==============================] - 142s 2ms/step - loss: 0.0411 - acc: 0.9872 - val_loss: 0.0280 - val_acc: 0.9900\n",
            "Epoch 7/20\n",
            "60000/60000 [==============================] - 142s 2ms/step - loss: 0.0368 - acc: 0.9881 - val_loss: 0.0272 - val_acc: 0.9917\n",
            "Epoch 8/20\n",
            "60000/60000 [==============================] - 141s 2ms/step - loss: 0.0321 - acc: 0.9894 - val_loss: 0.0262 - val_acc: 0.9920\n",
            "Epoch 9/20\n",
            "60000/60000 [==============================] - 141s 2ms/step - loss: 0.0298 - acc: 0.9905 - val_loss: 0.0265 - val_acc: 0.9918\n",
            "Epoch 10/20\n",
            "60000/60000 [==============================] - 141s 2ms/step - loss: 0.0276 - acc: 0.9911 - val_loss: 0.0259 - val_acc: 0.9917\n",
            "Epoch 11/20\n",
            "60000/60000 [==============================] - 141s 2ms/step - loss: 0.0263 - acc: 0.9915 - val_loss: 0.0292 - val_acc: 0.9922\n",
            "Epoch 12/20\n",
            "60000/60000 [==============================] - 141s 2ms/step - loss: 0.0235 - acc: 0.9922 - val_loss: 0.0247 - val_acc: 0.9927\n",
            "Epoch 13/20\n",
            "60000/60000 [==============================] - 141s 2ms/step - loss: 0.0230 - acc: 0.9921 - val_loss: 0.0270 - val_acc: 0.9927\n",
            "Epoch 14/20\n",
            "60000/60000 [==============================] - 141s 2ms/step - loss: 0.0187 - acc: 0.9935 - val_loss: 0.0279 - val_acc: 0.9933\n",
            "Epoch 15/20\n",
            "60000/60000 [==============================] - 141s 2ms/step - loss: 0.0196 - acc: 0.9933 - val_loss: 0.0303 - val_acc: 0.9928\n",
            "Epoch 16/20\n",
            "60000/60000 [==============================] - 141s 2ms/step - loss: 0.0172 - acc: 0.9940 - val_loss: 0.0316 - val_acc: 0.9919\n",
            "Epoch 17/20\n",
            "60000/60000 [==============================] - 142s 2ms/step - loss: 0.0179 - acc: 0.9942 - val_loss: 0.0260 - val_acc: 0.9938\n",
            "Epoch 18/20\n",
            "60000/60000 [==============================] - 141s 2ms/step - loss: 0.0166 - acc: 0.9942 - val_loss: 0.0281 - val_acc: 0.9939\n",
            "Epoch 19/20\n",
            "60000/60000 [==============================] - 141s 2ms/step - loss: 0.0155 - acc: 0.9947 - val_loss: 0.0324 - val_acc: 0.9923\n",
            "Epoch 20/20\n",
            "60000/60000 [==============================] - 141s 2ms/step - loss: 0.0160 - acc: 0.9946 - val_loss: 0.0278 - val_acc: 0.9932\n"
          ]
        },
        {
          "output_type": "display_data",
          "data": {
            "image/png": "[encoded data removed]",
            "text/plain": [
              "<Figure size 432x288 with 1 Axes>"
            ]
          },
          "metadata": {
            "needs_background": "light"
          }
        }
      ]
    },
    {
      "cell_type": "markdown",
      "metadata": {
        "id": "M4a1P4XCn0Fq"
      },
      "source": [
        "## cifar10\n",
        "#### 実行に時間がかかるため割愛\n",
        "データセット cifar10<br>\n",
        "32x32ピクセルのカラー画像データ<br>\n",
        "10種のラベル「飛行機、自動車、鳥、猫、鹿、犬、蛙、馬、船、トラック」<br>\n",
        "トレーニングデータ数:50000, テストデータ数:10000<br>\n",
        "http://www.cs.toronto.edu/~kriz/cifar.html"
      ]
    },
    {
      "cell_type": "code",
      "metadata": {
        "id": "AWY8ng9bn0Fr",
        "colab": {
          "base_uri": "https://localhost:8080/"
        },
        "outputId": "e16f6fd1-ad2f-45c1-b69b-8b76fc15160e"
      },
      "source": [
        "import tensorflow as tf\n",
        "\n",
        "# logging levelを変更\n",
        "tf.logging.set_verbosity(tf.logging.ERROR)\n",
        "\n",
        "#CIFAR-10のデータセットのインポート\n",
        "from keras.datasets import cifar10\n",
        "(x_train, d_train), (x_test, d_test) = cifar10.load_data()\n",
        "\n",
        "#CIFAR-10の正規化\n",
        "from keras.utils import to_categorical\n",
        "  \n",
        "# 特徴量の正規化\n",
        "x_train = x_train/255.\n",
        "x_test = x_test/255.\n",
        " \n",
        "# クラスラベルの1-hotベクトル化\n",
        "d_train = to_categorical(d_train, 10)\n",
        "d_test = to_categorical(d_test, 10)\n",
        " \n",
        "# CNNの構築\n",
        "import keras\n",
        "from keras.models import Sequential\n",
        "from keras.layers.convolutional import Conv2D, MaxPooling2D\n",
        "from keras.layers.core import Dense, Dropout, Activation, Flatten\n",
        "import numpy as np\n",
        " \n",
        "model = Sequential()\n",
        " \n",
        "model.add(Conv2D(32, (3, 3), padding='same',input_shape=x_train.shape[1:]))\n",
        "model.add(Activation('relu'))\n",
        "model.add(Conv2D(32, (3, 3)))\n",
        "model.add(Activation('relu'))\n",
        "model.add(MaxPooling2D(pool_size=(2, 2)))\n",
        "model.add(Dropout(0.25))\n",
        " \n",
        "model.add(Conv2D(64, (3, 3), padding='same'))\n",
        "model.add(Activation('relu'))\n",
        "model.add(Conv2D(64, (3, 3)))\n",
        "model.add(Activation('relu'))\n",
        "model.add(MaxPooling2D(pool_size=(2, 2)))\n",
        "model.add(Dropout(0.25))\n",
        " \n",
        "model.add(Flatten())\n",
        "model.add(Dense(512))\n",
        "model.add(Activation('relu'))\n",
        "model.add(Dropout(0.5))\n",
        "model.add(Dense(10))\n",
        "model.add(Activation('softmax'))\n",
        " \n",
        "# コンパイル\n",
        "model.compile(loss='categorical_crossentropy',optimizer='adam',metrics=['accuracy'])\n",
        " \n",
        "#訓練\n",
        "history = model.fit(x_train, d_train, epochs=20)\n",
        " \n",
        "# モデルの保存\n",
        "model.save('./CIFAR-10.h5')\n",
        " \n",
        "#評価 & 評価結果出力\n",
        "print(model.evaluate(x_test, d_test))"
      ],
      "execution_count": 18,
      "outputs": [
        {
          "output_type": "stream",
          "name": "stdout",
          "text": [
            "Downloading data from https://www.cs.toronto.edu/~kriz/cifar-10-python.tar.gz\n",
            "170500096/170498071 [==============================] - 4s 0us/step\n",
            "Epoch 1/20\n",
            "50000/50000 [==============================] - 228s 5ms/step - loss: 1.4914 - acc: 0.4552\n",
            "Epoch 2/20\n",
            "50000/50000 [==============================] - 228s 5ms/step - loss: 1.1161 - acc: 0.6039\n",
            "Epoch 3/20\n",
            "50000/50000 [==============================] - 229s 5ms/step - loss: 0.9688 - acc: 0.6596\n",
            "Epoch 4/20\n",
            "50000/50000 [==============================] - 229s 5ms/step - loss: 0.8756 - acc: 0.6919\n",
            "Epoch 5/20\n",
            "50000/50000 [==============================] - 229s 5ms/step - loss: 0.8108 - acc: 0.7173\n",
            "Epoch 6/20\n",
            "50000/50000 [==============================] - 229s 5ms/step - loss: 0.7611 - acc: 0.7339\n",
            "Epoch 7/20\n",
            "50000/50000 [==============================] - 230s 5ms/step - loss: 0.7278 - acc: 0.7458\n",
            "Epoch 8/20\n",
            "50000/50000 [==============================] - 229s 5ms/step - loss: 0.6882 - acc: 0.7578\n",
            "Epoch 9/20\n",
            "50000/50000 [==============================] - 229s 5ms/step - loss: 0.6590 - acc: 0.7675\n",
            "Epoch 10/20\n",
            "50000/50000 [==============================] - 229s 5ms/step - loss: 0.6409 - acc: 0.7757\n",
            "Epoch 11/20\n",
            "50000/50000 [==============================] - 228s 5ms/step - loss: 0.6167 - acc: 0.7818\n",
            "Epoch 12/20\n",
            "50000/50000 [==============================] - 229s 5ms/step - loss: 0.6019 - acc: 0.7894\n",
            "Epoch 13/20\n",
            "50000/50000 [==============================] - 229s 5ms/step - loss: 0.5870 - acc: 0.7933\n",
            "Epoch 14/20\n",
            "50000/50000 [==============================] - 228s 5ms/step - loss: 0.5706 - acc: 0.8003\n",
            "Epoch 15/20\n",
            "50000/50000 [==============================] - 228s 5ms/step - loss: 0.5539 - acc: 0.8061\n",
            "Epoch 16/20\n",
            "50000/50000 [==============================] - 229s 5ms/step - loss: 0.5396 - acc: 0.8105\n",
            "Epoch 17/20\n",
            "50000/50000 [==============================] - 229s 5ms/step - loss: 0.5324 - acc: 0.8125\n",
            "Epoch 18/20\n",
            "50000/50000 [==============================] - 229s 5ms/step - loss: 0.5215 - acc: 0.8156\n",
            "Epoch 19/20\n",
            "50000/50000 [==============================] - 229s 5ms/step - loss: 0.5114 - acc: 0.8194\n",
            "Epoch 20/20\n",
            "50000/50000 [==============================] - 228s 5ms/step - loss: 0.5001 - acc: 0.8243\n",
            "10000/10000 [==============================] - 11s 1ms/step\n",
            "[0.6479573964595795, 0.7807]\n"
          ]
        }
      ]
    },
    {
      "cell_type": "markdown",
      "metadata": {
        "id": "bM15YoGfn0Ft"
      },
      "source": [
        "## RNN\n",
        "\n",
        "2進数足し算の予測\n",
        "\n",
        "Keras RNNのドキュメント\n",
        "https://keras.io/ja/layers/recurrent/#simplernn"
      ]
    },
    {
      "cell_type": "markdown",
      "metadata": {
        "id": "6nKnbkiVn0Fu"
      },
      "source": [
        "---------------------------------------------------------------------------------------------------------------------------------------------------------------------------------------------\n",
        "### [try]\n",
        "-  RNNの出力ノード数を128に変更\n",
        "-  RNNの出力活性化関数を sigmoid に変更\n",
        "-  RNNの出力活性化関数を tanh に変更\n",
        "-  最適化方法をadamに変更\n",
        "-  RNNの入力 Dropout を0.5に設定\n",
        "-  RNNの再帰 Dropout を0.3に設定\n",
        "-  RNNのunrollをTrueに設定\n",
        "\n",
        "---------------------------------------------------------------------------------------------------------------------------------------------------------------------------------------------\n"
      ]
    },
    {
      "cell_type": "code",
      "metadata": {
        "id": "EIxL7bCVn0Fv",
        "colab": {
          "base_uri": "https://localhost:8080/"
        },
        "outputId": "8add7d4a-a8aa-4b70-c959-1510797d32eb"
      },
      "source": [
        "import tensorflow as tf\n",
        "\n",
        "# logging levelを変更\n",
        "tf.logging.set_verbosity(tf.logging.ERROR)\n",
        "\n",
        "import numpy as np\n",
        "import matplotlib.pyplot as plt\n",
        "\n",
        "import keras\n",
        "from keras.models import Sequential\n",
        "from keras.layers.core import Dense, Dropout,Activation\n",
        "from keras.layers.wrappers import TimeDistributed\n",
        "from keras.optimizers import SGD\n",
        "from keras.layers.recurrent import SimpleRNN, LSTM, GRU\n",
        "\n",
        "\n",
        "# データを用意\n",
        "# 2進数の桁数\n",
        "binary_dim = 8\n",
        "# 最大値 + 1\n",
        "largest_number = pow(2, binary_dim)\n",
        "\n",
        "# largest_numberまで2進数を用意\n",
        "binary = np.unpackbits(np.array([range(largest_number)], dtype=np.uint8).T,axis=1)[:, ::-1]\n",
        "\n",
        "\n",
        "# A, B初期化 (a + b = d)\n",
        "a_int = np.random.randint(largest_number/2, size=20000)\n",
        "a_bin = binary[a_int] # binary encoding\n",
        "b_int = np.random.randint(largest_number/2, size=20000)\n",
        "b_bin = binary[b_int] # binary encoding\n",
        "\n",
        "x_int = []\n",
        "x_bin = []\n",
        "for i in range(10000):\n",
        "    x_int.append(np.array([a_int[i], b_int[i]]).T)\n",
        "    x_bin.append(np.array([a_bin[i], b_bin[i]]).T)\n",
        "\n",
        "x_int_test = []\n",
        "x_bin_test = []\n",
        "for i in range(10001, 20000):\n",
        "    x_int_test.append(np.array([a_int[i], b_int[i]]).T)\n",
        "    x_bin_test.append(np.array([a_bin[i], b_bin[i]]).T)\n",
        "\n",
        "x_int = np.array(x_int)\n",
        "x_bin = np.array(x_bin)\n",
        "x_int_test = np.array(x_int_test)\n",
        "x_bin_test = np.array(x_bin_test)\n",
        "\n",
        "\n",
        "# 正解データ\n",
        "d_int = a_int + b_int\n",
        "d_bin = binary[d_int][0:10000]\n",
        "d_bin_test = binary[d_int][10001:20000]\n",
        "\n",
        "model = Sequential()\n",
        "\n",
        "model.add(SimpleRNN(units=16,\n",
        "               return_sequences=True,\n",
        "               input_shape=[8, 2],\n",
        "               go_backwards=False,\n",
        "               activation='relu',\n",
        "               # dropout=0.5,\n",
        "               # recurrent_dropout=0.3,\n",
        "               # unroll = True,\n",
        "            ))\n",
        "# 出力層\n",
        "model.add(Dense(1, activation='sigmoid', input_shape=(-1,2)))\n",
        "model.summary()\n",
        "model.compile(loss='mean_squared_error', optimizer=SGD(lr=0.1), metrics=['accuracy'])\n",
        "# model.compile(loss='mse', optimizer='adam', metrics=['accuracy'])\n",
        "\n",
        "history = model.fit(x_bin, d_bin.reshape(-1, 8, 1), epochs=5, batch_size=2)\n",
        "\n",
        "# テスト結果出力\n",
        "score = model.evaluate(x_bin_test, d_bin_test.reshape(-1,8,1), verbose=0)\n",
        "print('Test loss:', score[0])\n",
        "print('Test accuracy:', score[1])"
      ],
      "execution_count": 19,
      "outputs": [
        {
          "output_type": "stream",
          "name": "stdout",
          "text": [
            "_________________________________________________________________\n",
            "Layer (type)                 Output Shape              Param #   \n",
            "=================================================================\n",
            "simple_rnn_1 (SimpleRNN)     (None, 8, 16)             304       \n",
            "_________________________________________________________________\n",
            "dense_18 (Dense)             (None, 8, 1)              17        \n",
            "=================================================================\n",
            "Total params: 321\n",
            "Trainable params: 321\n",
            "Non-trainable params: 0\n",
            "_________________________________________________________________\n",
            "Epoch 1/5\n",
            "10000/10000 [==============================] - 10s 985us/step - loss: 0.0827 - acc: 0.9014\n",
            "Epoch 2/5\n",
            "10000/10000 [==============================] - 9s 946us/step - loss: 0.0021 - acc: 1.0000\n",
            "Epoch 3/5\n",
            "10000/10000 [==============================] - 9s 944us/step - loss: 7.5938e-04 - acc: 1.0000\n",
            "Epoch 4/5\n",
            "10000/10000 [==============================] - 9s 949us/step - loss: 4.4592e-04 - acc: 1.0000\n",
            "Epoch 5/5\n",
            "10000/10000 [==============================] - 9s 942us/step - loss: 3.0950e-04 - acc: 1.0000\n",
            "Test loss: 0.0002640350830199096\n",
            "Test accuracy: 1.0\n"
          ]
        }
      ]
    }
  ]
}