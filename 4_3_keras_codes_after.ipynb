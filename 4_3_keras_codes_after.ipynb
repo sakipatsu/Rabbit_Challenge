{
  "nbformat": 4,
  "nbformat_minor": 0,
  "metadata": {
    "kernelspec": {
      "name": "python3",
      "display_name": "Python 3"
    },
    "language_info": {
      "codemirror_mode": {
        "name": "ipython",
        "version": 3
      },
      "file_extension": ".py",
      "mimetype": "text/x-python",
      "name": "python",
      "nbconvert_exporter": "python",
      "pygments_lexer": "ipython3",
      "version": "3.6.3"
    },
    "colab": {
      "name": "4_3_keras_codes_after.ipynb",
      "provenance": [],
      "collapsed_sections": [],
      "include_colab_link": true
    }
  },
  "cells": [
    {
      "cell_type": "markdown",
      "metadata": {
        "id": "view-in-github",
        "colab_type": "text"
      },
      "source": [
        "<a href=\"https://colab.research.google.com/github/sakipatsu/Rabbit_Challenge/blob/main/4_3_keras_codes_after.ipynb\" target=\"_parent\"><img src=\"https://colab.research.google.com/assets/colab-badge.svg\" alt=\"Open In Colab\"/></a>"
      ]
    },
    {
      "cell_type": "markdown",
      "metadata": {
        "id": "8cNl2QA_Rnv5"
      },
      "source": [
        "# 準備"
      ]
    },
    {
      "cell_type": "markdown",
      "metadata": {
        "id": "YkwjN1jNVAYy"
      },
      "source": [
        "## Googleドライブのマウント"
      ]
    },
    {
      "cell_type": "code",
      "metadata": {
        "id": "pvFXpiH3EVC1",
        "colab": {
          "base_uri": "https://localhost:8080/"
        },
        "outputId": "d14af929-3e9c-4aa5-e7ad-065e8b1019eb"
      },
      "source": [
        "from google.colab import drive\n",
        "drive.mount('/content/drive')"
      ],
      "execution_count": 1,
      "outputs": [
        {
          "output_type": "stream",
          "name": "stdout",
          "text": [
            "Mounted at /content/drive\n"
          ]
        }
      ]
    },
    {
      "cell_type": "markdown",
      "metadata": {
        "id": "3Ub7RYdeY6pK"
      },
      "source": [
        "## sys.pathの設定"
      ]
    },
    {
      "cell_type": "markdown",
      "metadata": {
        "id": "oql7L19rEsWi"
      },
      "source": [
        "以下では，Googleドライブのマイドライブ直下にDNN_codeフォルダを置くことを仮定しています．必要に応じて，パスを変更してください．"
      ]
    },
    {
      "cell_type": "code",
      "metadata": {
        "id": "7Ic2JzkvFX59"
      },
      "source": [
        "import sys\n",
        "#sys.path.append('/content/drive/My Drive/DNN_code')\n",
        "sys.path.append('/content/drive/MyDrive/StudyAI/Step4')"
      ],
      "execution_count": 2,
      "outputs": []
    },
    {
      "cell_type": "markdown",
      "metadata": {
        "id": "dvtu2ouHn0FV"
      },
      "source": [
        "# keras"
      ]
    },
    {
      "cell_type": "markdown",
      "metadata": {
        "id": "frGMl3ajn0FX"
      },
      "source": [
        "## 線形回帰"
      ]
    },
    {
      "cell_type": "code",
      "metadata": {
        "id": "oqfWMhAIn0FZ",
        "colab": {
          "base_uri": "https://localhost:8080/",
          "height": 1000
        },
        "outputId": "7d862ea0-4725-4839-8f98-d2c451f2896a"
      },
      "source": [
        "%tensorflow_version 1.x\n",
        "import tensorflow as tf\n",
        "\n",
        "# logging levelを変更\n",
        "tf.logging.set_verbosity(tf.logging.ERROR)\n",
        "\n",
        "import numpy as np\n",
        "import matplotlib.pyplot as plt\n",
        "\n",
        "iters_num = 1000\n",
        "plot_interval = 10\n",
        "\n",
        "x = np.linspace(-1, 1, 200)\n",
        "np.random.shuffle(x)\n",
        "d = 0.5 * x + 2 + np.random.normal(0, 0.05, (200,))\n",
        "\n",
        "from keras.models import Sequential\n",
        "from keras.layers import Dense\n",
        "\n",
        "# モデルを作成\n",
        "model = Sequential()\n",
        "model.add(Dense(input_dim=1, units=1))\n",
        "#model.add(Dense(input_dim=1, output_dim=1))\n",
        "\n",
        "# モデルを表示\n",
        "model.summary()\n",
        "\n",
        "# モデルのコンパイル\n",
        "model.compile(loss='mse', optimizer='sgd')\n",
        "\n",
        "# train\n",
        "for i in range(iters_num):\n",
        "    loss = model.train_on_batch(x, d)\n",
        "    if (i+1) % plot_interval == 0:\n",
        "        print('Generation: ' + str(i+1) + '. 誤差 = ' + str(loss))\n",
        "\n",
        "W, b = model.layers[0].get_weights()\n",
        "print('W:', W)\n",
        "print('b:', b)\n",
        "\n",
        "y = model.predict(x)\n",
        "plt.scatter(x, d)\n",
        "plt.plot(x, y)\n",
        "plt.show()"
      ],
      "execution_count": 3,
      "outputs": [
        {
          "output_type": "stream",
          "name": "stdout",
          "text": [
            "TensorFlow 1.x selected.\n"
          ]
        },
        {
          "output_type": "stream",
          "name": "stderr",
          "text": [
            "Using TensorFlow backend.\n"
          ]
        },
        {
          "output_type": "stream",
          "name": "stdout",
          "text": [
            "Model: \"sequential_1\"\n",
            "_________________________________________________________________\n",
            "Layer (type)                 Output Shape              Param #   \n",
            "=================================================================\n",
            "dense_1 (Dense)              (None, 1)                 2         \n",
            "=================================================================\n",
            "Total params: 2\n",
            "Trainable params: 2\n",
            "Non-trainable params: 0\n",
            "_________________________________________________________________\n",
            "Generation: 10. 誤差 = 2.957318\n",
            "Generation: 20. 誤差 = 2.0080838\n",
            "Generation: 30. 誤差 = 1.3702246\n",
            "Generation: 40. 誤差 = 0.9407654\n",
            "Generation: 50. 誤差 = 0.650893\n",
            "Generation: 60. 誤差 = 0.45460975\n",
            "Generation: 70. 誤差 = 0.3211566\n",
            "Generation: 80. 誤差 = 0.22995429\n",
            "Generation: 90. 誤差 = 0.16722527\n",
            "Generation: 100. 誤差 = 0.12373806\n",
            "Generation: 110. 誤差 = 0.093300045\n",
            "Generation: 120. 誤差 = 0.071751684\n",
            "Generation: 130. 誤差 = 0.05629318\n",
            "Generation: 140. 誤差 = 0.045035914\n",
            "Generation: 150. 誤差 = 0.036701884\n",
            "Generation: 160. 誤差 = 0.030422878\n",
            "Generation: 170. 誤差 = 0.02560622\n",
            "Generation: 180. 誤差 = 0.021844778\n",
            "Generation: 190. 誤差 = 0.01885683\n",
            "Generation: 200. 誤差 = 0.016445508\n",
            "Generation: 210. 誤差 = 0.014471824\n",
            "Generation: 220. 誤差 = 0.012836282\n",
            "Generation: 230. 誤差 = 0.011466668\n",
            "Generation: 240. 誤差 = 0.010309688\n",
            "Generation: 250. 誤差 = 0.009325344\n",
            "Generation: 260. 誤差 = 0.008483032\n",
            "Generation: 270. 誤差 = 0.007758945\n",
            "Generation: 280. 誤差 = 0.0071342336\n",
            "Generation: 290. 誤差 = 0.006593736\n",
            "Generation: 300. 誤差 = 0.0061250436\n",
            "Generation: 310. 誤差 = 0.0057179243\n",
            "Generation: 320. 誤差 = 0.005363834\n",
            "Generation: 330. 誤差 = 0.0050555356\n",
            "Generation: 340. 誤差 = 0.0047869026\n",
            "Generation: 350. 誤差 = 0.00455269\n",
            "Generation: 360. 誤差 = 0.0043483875\n",
            "Generation: 370. 誤差 = 0.004170118\n",
            "Generation: 380. 誤差 = 0.0040145223\n",
            "Generation: 390. 誤差 = 0.003878681\n",
            "Generation: 400. 誤差 = 0.003760073\n",
            "Generation: 410. 誤差 = 0.0036564956\n",
            "Generation: 420. 誤差 = 0.0035660388\n",
            "Generation: 430. 誤差 = 0.0034870333\n",
            "Generation: 440. 誤差 = 0.0034180242\n",
            "Generation: 450. 誤差 = 0.0033577478\n",
            "Generation: 460. 誤差 = 0.003305096\n",
            "Generation: 470. 誤差 = 0.003259102\n",
            "Generation: 480. 誤差 = 0.0032189237\n",
            "Generation: 490. 誤差 = 0.0031838268\n",
            "Generation: 500. 誤差 = 0.0031531674\n",
            "Generation: 510. 誤差 = 0.003126383\n",
            "Generation: 520. 誤差 = 0.0031029833\n",
            "Generation: 530. 誤差 = 0.0030825413\n",
            "Generation: 540. 誤差 = 0.0030646853\n",
            "Generation: 550. 誤差 = 0.0030490863\n",
            "Generation: 560. 誤差 = 0.0030354601\n",
            "Generation: 570. 誤差 = 0.0030235543\n",
            "Generation: 580. 誤差 = 0.0030131533\n",
            "Generation: 590. 誤差 = 0.0030040685\n",
            "Generation: 600. 誤差 = 0.0029961294\n",
            "Generation: 610. 誤差 = 0.0029891962\n",
            "Generation: 620. 誤差 = 0.0029831377\n",
            "Generation: 630. 誤差 = 0.002977847\n",
            "Generation: 640. 誤差 = 0.0029732236\n",
            "Generation: 650. 誤差 = 0.0029691851\n",
            "Generation: 660. 誤差 = 0.002965656\n",
            "Generation: 670. 誤差 = 0.002962575\n",
            "Generation: 680. 誤差 = 0.0029598824\n",
            "Generation: 690. 誤差 = 0.00295753\n",
            "Generation: 700. 誤差 = 0.002955475\n",
            "Generation: 710. 誤差 = 0.0029536786\n",
            "Generation: 720. 誤差 = 0.0029521103\n",
            "Generation: 730. 誤差 = 0.0029507414\n",
            "Generation: 740. 誤差 = 0.0029495445\n",
            "Generation: 750. 誤差 = 0.0029484988\n",
            "Generation: 760. 誤差 = 0.002947585\n",
            "Generation: 770. 誤差 = 0.0029467866\n",
            "Generation: 780. 誤差 = 0.002946089\n",
            "Generation: 790. 誤差 = 0.0029454809\n",
            "Generation: 800. 誤差 = 0.002944949\n",
            "Generation: 810. 誤差 = 0.0029444832\n",
            "Generation: 820. 誤差 = 0.002944078\n",
            "Generation: 830. 誤差 = 0.0029437225\n",
            "Generation: 840. 誤差 = 0.0029434133\n",
            "Generation: 850. 誤差 = 0.002943142\n",
            "Generation: 860. 誤差 = 0.0029429062\n",
            "Generation: 870. 誤差 = 0.002942699\n",
            "Generation: 880. 誤差 = 0.002942518\n",
            "Generation: 890. 誤差 = 0.002942361\n",
            "Generation: 900. 誤差 = 0.0029422236\n",
            "Generation: 910. 誤差 = 0.002942103\n",
            "Generation: 920. 誤差 = 0.0029419973\n",
            "Generation: 930. 誤差 = 0.002941905\n",
            "Generation: 940. 誤差 = 0.0029418252\n",
            "Generation: 950. 誤差 = 0.002941755\n",
            "Generation: 960. 誤差 = 0.0029416936\n",
            "Generation: 970. 誤差 = 0.0029416406\n",
            "Generation: 980. 誤差 = 0.0029415935\n",
            "Generation: 990. 誤差 = 0.0029415535\n",
            "Generation: 1000. 誤差 = 0.0029415176\n",
            "W: [[0.49053523]]\n",
            "b: [2.0052812]\n"
          ]
        },
        {
          "output_type": "display_data",
          "data": {
            "image/png": "[encoded data removed]",
            "text/plain": [
              "<Figure size 432x288 with 1 Axes>"
            ]
          },
          "metadata": {
            "needs_background": "light"
          }
        }
      ]
    },
    {
      "cell_type": "markdown",
      "metadata": {
        "id": "ABdJA1Tkn0Fd"
      },
      "source": [
        "## 単純パーセプトロン \n",
        "OR回路\n",
        "\n",
        "---------------------------------------------------------------------------------------------------------------------------------------------------------------------------------------------\n",
        "### [try]\n",
        "-  np.random.seed(0)をnp.random.seed(1)に変更\n",
        "        False,True,True,True\n",
        "-  エポック数を100に変更\n",
        "        True, True,True,True\n",
        "-  AND回路, XOR回路に変更\n",
        "        OR, ANDは線形分離可能だが, XORは線形分離不可能なので学習できない\n",
        "-  OR回路にしてバッチサイズを10に変更\n",
        "        False,True,True,True\n",
        "-  エポック数を300に変更しよう\n",
        "        True, True,True,True\n",
        "---------------------------------------------------------------------------------------------------------------------------------------------------------------------------------------------"
      ]
    },
    {
      "cell_type": "code",
      "metadata": {
        "id": "Nv_Z7Fmhn0Fe",
        "colab": {
          "base_uri": "https://localhost:8080/"
        },
        "outputId": "acc185a9-fff0-4d3d-ad4b-25533ff1d0d2"
      },
      "source": [
        "import tensorflow as tf\n",
        "\n",
        "# logging levelを変更\n",
        "tf.logging.set_verbosity(tf.logging.ERROR)\n",
        "\n",
        "# モジュール読み込み\n",
        "import numpy as np\n",
        "from keras.models import Sequential\n",
        "from keras.layers import Dense, Activation\n",
        "from keras.optimizers import SGD\n",
        " \n",
        "# 乱数を固定値で初期化\n",
        "np.random.seed(0)\n",
        "\n",
        "# シグモイドの単純パーセプトロン作成\n",
        "model = Sequential()\n",
        "model.add(Dense(input_dim=2, units=1))\n",
        "model.add(Activation('sigmoid'))\n",
        "model.summary()\n",
        "\n",
        "model.compile(loss='binary_crossentropy', optimizer=SGD(lr=0.1))\n",
        " \n",
        "# トレーニング用入力 X と正解データ T\n",
        "X = np.array( [[0,0], [0,1], [1,0], [1,1]] )\n",
        "T = np.array( [[0], [1], [1], [1]] )\n",
        " \n",
        "# トレーニング\n",
        "model.fit(X, T, epochs=30, batch_size=1)\n",
        " \n",
        "# トレーニングの入力を流用して実際に分類\n",
        "Y = model.predict_classes(X, batch_size=1)\n",
        "\n",
        "print(\"TEST\")\n",
        "print(Y == T)\n"
      ],
      "execution_count": 4,
      "outputs": [
        {
          "output_type": "stream",
          "name": "stdout",
          "text": [
            "Model: \"sequential_2\"\n",
            "_________________________________________________________________\n",
            "Layer (type)                 Output Shape              Param #   \n",
            "=================================================================\n",
            "dense_2 (Dense)              (None, 1)                 3         \n",
            "_________________________________________________________________\n",
            "activation_1 (Activation)    (None, 1)                 0         \n",
            "=================================================================\n",
            "Total params: 3\n",
            "Trainable params: 3\n",
            "Non-trainable params: 0\n",
            "_________________________________________________________________\n",
            "Epoch 1/30\n",
            "4/4 [==============================] - 0s 18ms/step - loss: 0.4352\n",
            "Epoch 2/30\n",
            "4/4 [==============================] - 0s 2ms/step - loss: 0.4204\n",
            "Epoch 3/30\n",
            "4/4 [==============================] - 0s 2ms/step - loss: 0.4079\n",
            "Epoch 4/30\n",
            "4/4 [==============================] - 0s 2ms/step - loss: 0.3971\n",
            "Epoch 5/30\n",
            "4/4 [==============================] - 0s 2ms/step - loss: 0.3876\n",
            "Epoch 6/30\n",
            "4/4 [==============================] - 0s 1ms/step - loss: 0.3790\n",
            "Epoch 7/30\n",
            "4/4 [==============================] - 0s 2ms/step - loss: 0.3717\n",
            "Epoch 8/30\n",
            "4/4 [==============================] - 0s 3ms/step - loss: 0.3650\n",
            "Epoch 9/30\n",
            "4/4 [==============================] - 0s 3ms/step - loss: 0.3586\n",
            "Epoch 10/30\n",
            "4/4 [==============================] - 0s 2ms/step - loss: 0.3528\n",
            "Epoch 11/30\n",
            "4/4 [==============================] - 0s 3ms/step - loss: 0.3476\n",
            "Epoch 12/30\n",
            "4/4 [==============================] - 0s 2ms/step - loss: 0.3425\n",
            "Epoch 13/30\n",
            "4/4 [==============================] - 0s 1ms/step - loss: 0.3378\n",
            "Epoch 14/30\n",
            "4/4 [==============================] - 0s 1ms/step - loss: 0.3333\n",
            "Epoch 15/30\n",
            "4/4 [==============================] - 0s 1ms/step - loss: 0.3291\n",
            "Epoch 16/30\n",
            "4/4 [==============================] - 0s 4ms/step - loss: 0.3250\n",
            "Epoch 17/30\n",
            "4/4 [==============================] - 0s 2ms/step - loss: 0.3210\n",
            "Epoch 18/30\n",
            "4/4 [==============================] - 0s 2ms/step - loss: 0.3172\n",
            "Epoch 19/30\n",
            "4/4 [==============================] - 0s 2ms/step - loss: 0.3136\n",
            "Epoch 20/30\n",
            "4/4 [==============================] - 0s 3ms/step - loss: 0.3100\n",
            "Epoch 21/30\n",
            "4/4 [==============================] - 0s 3ms/step - loss: 0.3067\n",
            "Epoch 22/30\n",
            "4/4 [==============================] - 0s 2ms/step - loss: 0.3032\n",
            "Epoch 23/30\n",
            "4/4 [==============================] - 0s 2ms/step - loss: 0.3000\n",
            "Epoch 24/30\n",
            "4/4 [==============================] - 0s 2ms/step - loss: 0.2968\n",
            "Epoch 25/30\n",
            "4/4 [==============================] - 0s 2ms/step - loss: 0.2938\n",
            "Epoch 26/30\n",
            "4/4 [==============================] - 0s 2ms/step - loss: 0.2908\n",
            "Epoch 27/30\n",
            "4/4 [==============================] - 0s 3ms/step - loss: 0.2878\n",
            "Epoch 28/30\n",
            "4/4 [==============================] - 0s 2ms/step - loss: 0.2850\n",
            "Epoch 29/30\n",
            "4/4 [==============================] - 0s 2ms/step - loss: 0.2821\n",
            "Epoch 30/30\n",
            "4/4 [==============================] - 0s 3ms/step - loss: 0.2794\n",
            "TEST\n",
            "[[ True]\n",
            " [ True]\n",
            " [ True]\n",
            " [ True]]\n"
          ]
        }
      ]
    },
    {
      "cell_type": "markdown",
      "metadata": {
        "id": "ZgIprH0Gn0Fh"
      },
      "source": [
        "## 分類 (iris)\n",
        "\n",
        "---------------------------------------------------------------------------------------------------------------------------------------------------------------------------------------------\n",
        "### [try]\n",
        "-  中間層の活性関数をsigmoidに変更しよう\n",
        "-  SGDをimportしoptimizerをSGD(lr=0.1)に変更しよう\n",
        "---------------------------------------------------------------------------------------------------------------------------------------------------------------------------------------------"
      ]
    },
    {
      "cell_type": "code",
      "metadata": {
        "id": "VZRJNcppn0Fi",
        "colab": {
          "base_uri": "https://localhost:8080/",
          "height": 1000
        },
        "outputId": "c98c084b-cd57-4d1f-b011-dc0578df3876"
      },
      "source": [
        "import tensorflow as tf\n",
        "\n",
        "# logging levelを変更\n",
        "tf.logging.set_verbosity(tf.logging.ERROR)\n",
        "\n",
        "import matplotlib.pyplot as plt\n",
        "from sklearn import datasets\n",
        "iris = datasets.load_iris()\n",
        "x = iris.data\n",
        "d = iris.target\n",
        "\n",
        "# from sklearn.cross_validation import train_test_split\n",
        "from sklearn.model_selection import train_test_split\n",
        "x_train, x_test, d_train, d_test = train_test_split(x, d, test_size=0.2)\n",
        "\n",
        "from keras.models import Sequential\n",
        "from keras.layers import Dense, Activation\n",
        "# from keras.optimizers import SGD\n",
        "\n",
        "#モデルの設定\n",
        "model = Sequential()\n",
        "model.add(Dense(12, input_dim=4))\n",
        "model.add(Activation('relu'))\n",
        "# model.add(Activation('sigmoid'))\n",
        "model.add(Dense(3, input_dim=12))\n",
        "model.add(Activation('softmax'))\n",
        "model.summary()\n",
        "\n",
        "model.compile(optimizer='sgd', loss='sparse_categorical_crossentropy', metrics=['accuracy'])\n",
        "\n",
        "history = model.fit(x_train, d_train, batch_size=5, epochs=20, verbose=1, validation_data=(x_test, d_test))\n",
        "loss = model.evaluate(x_test, d_test, verbose=0)\n",
        "\n",
        "#Accuracy\n",
        "plt.plot(history.history['acc'])\n",
        "plt.plot(history.history['val_acc'])\n",
        "plt.title('model accuracy')\n",
        "plt.ylabel('accuracy')\n",
        "plt.xlabel('epoch')\n",
        "plt.legend(['train', 'test'], loc='upper left')\n",
        "plt.ylim(0, 1.0)\n",
        "plt.show()\n"
      ],
      "execution_count": 5,
      "outputs": [
        {
          "output_type": "stream",
          "name": "stdout",
          "text": [
            "Model: \"sequential_3\"\n",
            "_________________________________________________________________\n",
            "Layer (type)                 Output Shape              Param #   \n",
            "=================================================================\n",
            "dense_3 (Dense)              (None, 12)                60        \n",
            "_________________________________________________________________\n",
            "activation_2 (Activation)    (None, 12)                0         \n",
            "_________________________________________________________________\n",
            "dense_4 (Dense)              (None, 3)                 39        \n",
            "_________________________________________________________________\n",
            "activation_3 (Activation)    (None, 3)                 0         \n",
            "=================================================================\n",
            "Total params: 99\n",
            "Trainable params: 99\n",
            "Non-trainable params: 0\n",
            "_________________________________________________________________\n",
            "Train on 120 samples, validate on 30 samples\n",
            "Epoch 1/20\n",
            "120/120 [==============================] - 0s 1ms/step - loss: 0.9171 - accuracy: 0.4500 - val_loss: 0.7723 - val_accuracy: 0.7000\n",
            "Epoch 2/20\n",
            "120/120 [==============================] - 0s 282us/step - loss: 0.7485 - accuracy: 0.7333 - val_loss: 0.6238 - val_accuracy: 0.9000\n",
            "Epoch 3/20\n",
            "120/120 [==============================] - 0s 302us/step - loss: 0.5982 - accuracy: 0.8750 - val_loss: 0.5555 - val_accuracy: 0.7000\n",
            "Epoch 4/20\n",
            "120/120 [==============================] - 0s 319us/step - loss: 0.5522 - accuracy: 0.8250 - val_loss: 0.5137 - val_accuracy: 0.9333\n",
            "Epoch 5/20\n",
            "120/120 [==============================] - 0s 258us/step - loss: 0.5043 - accuracy: 0.8583 - val_loss: 0.5259 - val_accuracy: 0.8000\n",
            "Epoch 6/20\n",
            "120/120 [==============================] - 0s 246us/step - loss: 0.4791 - accuracy: 0.8833 - val_loss: 0.4443 - val_accuracy: 0.9000\n",
            "Epoch 7/20\n",
            "120/120 [==============================] - 0s 252us/step - loss: 0.4530 - accuracy: 0.8500 - val_loss: 0.4185 - val_accuracy: 0.9000\n",
            "Epoch 8/20\n",
            "120/120 [==============================] - 0s 293us/step - loss: 0.4140 - accuracy: 0.8917 - val_loss: 0.4016 - val_accuracy: 0.9000\n",
            "Epoch 9/20\n",
            "120/120 [==============================] - 0s 297us/step - loss: 0.4031 - accuracy: 0.9083 - val_loss: 0.3893 - val_accuracy: 0.8667\n",
            "Epoch 10/20\n",
            "120/120 [==============================] - 0s 322us/step - loss: 0.3817 - accuracy: 0.9167 - val_loss: 0.4060 - val_accuracy: 0.9000\n",
            "Epoch 11/20\n",
            "120/120 [==============================] - 0s 306us/step - loss: 0.3797 - accuracy: 0.9333 - val_loss: 0.3592 - val_accuracy: 0.9667\n",
            "Epoch 12/20\n",
            "120/120 [==============================] - 0s 266us/step - loss: 0.3639 - accuracy: 0.8833 - val_loss: 0.3707 - val_accuracy: 0.9333\n",
            "Epoch 13/20\n",
            "120/120 [==============================] - 0s 278us/step - loss: 0.3401 - accuracy: 0.9417 - val_loss: 0.3509 - val_accuracy: 0.9667\n",
            "Epoch 14/20\n",
            "120/120 [==============================] - 0s 261us/step - loss: 0.3337 - accuracy: 0.9417 - val_loss: 0.3215 - val_accuracy: 0.9000\n",
            "Epoch 15/20\n",
            "120/120 [==============================] - 0s 248us/step - loss: 0.3217 - accuracy: 0.9333 - val_loss: 0.3149 - val_accuracy: 0.9000\n",
            "Epoch 16/20\n",
            "120/120 [==============================] - 0s 260us/step - loss: 0.3031 - accuracy: 0.9250 - val_loss: 0.3162 - val_accuracy: 0.9333\n",
            "Epoch 17/20\n",
            "120/120 [==============================] - 0s 280us/step - loss: 0.3039 - accuracy: 0.9250 - val_loss: 0.3070 - val_accuracy: 0.9333\n",
            "Epoch 18/20\n",
            "120/120 [==============================] - 0s 292us/step - loss: 0.2911 - accuracy: 0.9417 - val_loss: 0.2842 - val_accuracy: 0.9333\n",
            "Epoch 19/20\n",
            "120/120 [==============================] - 0s 271us/step - loss: 0.2861 - accuracy: 0.9417 - val_loss: 0.2773 - val_accuracy: 0.9667\n",
            "Epoch 20/20\n",
            "120/120 [==============================] - 0s 268us/step - loss: 0.2735 - accuracy: 0.9667 - val_loss: 0.2776 - val_accuracy: 0.9667\n"
          ]
        },
        {
          "output_type": "error",
          "ename": "KeyError",
          "evalue": "ignored",
          "traceback": [
            "\u001b[0;31m---------------------------------------------------------------------------\u001b[0m",
            "\u001b[0;31mKeyError\u001b[0m                                  Traceback (most recent call last)",
            "\u001b[0;32m<ipython-input-5-fae3d235e623>\u001b[0m in \u001b[0;36m<module>\u001b[0;34m()\u001b[0m\n\u001b[1;32m     33\u001b[0m \u001b[0;34m\u001b[0m\u001b[0m\n\u001b[1;32m     34\u001b[0m \u001b[0;31m#Accuracy\u001b[0m\u001b[0;34m\u001b[0m\u001b[0;34m\u001b[0m\u001b[0;34m\u001b[0m\u001b[0m\n\u001b[0;32m---> 35\u001b[0;31m \u001b[0mplt\u001b[0m\u001b[0;34m.\u001b[0m\u001b[0mplot\u001b[0m\u001b[0;34m(\u001b[0m\u001b[0mhistory\u001b[0m\u001b[0;34m.\u001b[0m\u001b[0mhistory\u001b[0m\u001b[0;34m[\u001b[0m\u001b[0;34m'acc'\u001b[0m\u001b[0;34m]\u001b[0m\u001b[0;34m)\u001b[0m\u001b[0;34m\u001b[0m\u001b[0;34m\u001b[0m\u001b[0m\n\u001b[0m\u001b[1;32m     36\u001b[0m \u001b[0mplt\u001b[0m\u001b[0;34m.\u001b[0m\u001b[0mplot\u001b[0m\u001b[0;34m(\u001b[0m\u001b[0mhistory\u001b[0m\u001b[0;34m.\u001b[0m\u001b[0mhistory\u001b[0m\u001b[0;34m[\u001b[0m\u001b[0;34m'val_acc'\u001b[0m\u001b[0;34m]\u001b[0m\u001b[0;34m)\u001b[0m\u001b[0;34m\u001b[0m\u001b[0;34m\u001b[0m\u001b[0m\n\u001b[1;32m     37\u001b[0m \u001b[0mplt\u001b[0m\u001b[0;34m.\u001b[0m\u001b[0mtitle\u001b[0m\u001b[0;34m(\u001b[0m\u001b[0;34m'model accuracy'\u001b[0m\u001b[0;34m)\u001b[0m\u001b[0;34m\u001b[0m\u001b[0;34m\u001b[0m\u001b[0m\n",
            "\u001b[0;31mKeyError\u001b[0m: 'acc'"
          ]
        }
      ]
    },
    {
      "cell_type": "markdown",
      "metadata": {
        "id": "DvykQJwan0Fk"
      },
      "source": [
        "## 分類 (mnist)\n",
        "\n",
        "---------------------------------------------------------------------------------------------------------------------------------------------------------------------------------------------\n",
        "### [try]\n",
        "-  load_mnistのone_hot_labelをFalseに変更しよう (error)\n",
        "-  誤差関数をsparse_categorical_crossentropyに変更しよう\n",
        "-  Adamの引数の値を変更しよう\n",
        "---------------------------------------------------------------------------------------------------------------------------------------------------------------------------------------------"
      ]
    },
    {
      "cell_type": "code",
      "metadata": {
        "id": "2fyuriMEn0Fl"
      },
      "source": [
        "import tensorflow as tf\n",
        "\n",
        "# logging levelを変更\n",
        "tf.logging.set_verbosity(tf.logging.ERROR)\n",
        "\n",
        "# 必要なライブラリのインポート\n",
        "import keras\n",
        "import matplotlib.pyplot as plt\n",
        "from data.mnist import load_mnist\n",
        "\n",
        "(x_train, d_train), (x_test, d_test) = load_mnist(normalize=True, one_hot_label=False)\n",
        "\n",
        "# 必要なライブラリのインポート、最適化手法はAdamを使う\n",
        "from keras.models import Sequential\n",
        "from keras.layers import Dense, Dropout\n",
        "from keras.optimizers import Adam\n",
        "\n",
        "# モデル作成\n",
        "model = Sequential()\n",
        "model.add(Dense(512, activation='relu', input_shape=(784,)))\n",
        "model.add(Dropout(0.2))\n",
        "model.add(Dense(512, activation='relu'))\n",
        "model.add(Dropout(0.2))\n",
        "model.add(Dense(10, activation='softmax'))\n",
        "model.summary()\n",
        "\n",
        "# バッチサイズ、エポック数\n",
        "batch_size = 128\n",
        "epochs = 20\n",
        "\n",
        "model.compile(loss='sparse_categorical_crossentropy', \n",
        "              optimizer=Adam(lr=0.001, beta_1=0.9, beta_2=0.999, epsilon=None, decay=0.0, amsgrad=False), \n",
        "              metrics=['accuracy'])\n",
        "\n",
        "history = model.fit(x_train, d_train, batch_size=batch_size, epochs=epochs, verbose=1, validation_data=(x_test, d_test))\n",
        "loss = model.evaluate(x_test, d_test, verbose=0)\n",
        "print('Test loss:', loss[0])\n",
        "print('Test accuracy:', loss[1])\n",
        "#Accuracy\n",
        "plt.plot(history.history['acc'])\n",
        "plt.plot(history.history['val_acc'])\n",
        "plt.title('model accuracy')\n",
        "plt.ylabel('accuracy')\n",
        "plt.xlabel('epoch')\n",
        "plt.legend(['train', 'test'], loc='upper left')\n",
        "# plt.ylim(0, 1.0)\n",
        "plt.show()"
      ],
      "execution_count": null,
      "outputs": []
    },
    {
      "cell_type": "markdown",
      "metadata": {
        "id": "pC915OiIn0Fn"
      },
      "source": [
        "## CNN分類 (mnist)\n",
        "#### 実行に時間がかかるため割愛"
      ]
    },
    {
      "cell_type": "code",
      "metadata": {
        "id": "TSh_VzRgn0Fo"
      },
      "source": [
        "import tensorflow as tf\n",
        "\n",
        "# logging levelを変更\n",
        "tf.logging.set_verbosity(tf.logging.ERROR)\n",
        "\n",
        "# 必要なライブラリのインポート\n",
        "import keras\n",
        "import matplotlib.pyplot as plt\n",
        "from data.mnist import load_mnist\n",
        "\n",
        "(x_train, d_train), (x_test, d_test) = load_mnist(normalize=True, one_hot_label=True)\n",
        "\n",
        "\n",
        "# 行列として入力するための加工\n",
        "batch_size = 128\n",
        "num_classes = 10\n",
        "epochs = 20\n",
        "\n",
        "img_rows, img_cols = 28, 28\n",
        "\n",
        "x_train = x_train.reshape(x_train.shape[0], img_rows, img_cols, 1)\n",
        "x_test = x_test.reshape(x_test.shape[0], img_rows, img_cols, 1)\n",
        "input_shape = (img_rows, img_cols, 1)\n",
        "\n",
        "\n",
        "# 必要なライブラリのインポート、最適化手法はAdamを使う\n",
        "from keras.models import Sequential\n",
        "from keras.layers import Dense, Dropout, Flatten\n",
        "from keras.layers import Conv2D, MaxPooling2D\n",
        "from keras.optimizers import Adam\n",
        "\n",
        "model = Sequential()\n",
        "model.add(Conv2D(32, kernel_size=(3, 3),\n",
        "                 activation='relu',\n",
        "                 input_shape=input_shape))\n",
        "model.add(Conv2D(64, (3, 3), activation='relu'))\n",
        "model.add(MaxPooling2D(pool_size=(2, 2)))\n",
        "model.add(Dropout(0.25))\n",
        "model.add(Flatten())\n",
        "model.add(Dense(128, activation='relu'))\n",
        "model.add(Dropout(0.5))\n",
        "model.add(Dense(num_classes, activation='softmax'))\n",
        "model.summary()\n",
        "\n",
        "# バッチサイズ、エポック数\n",
        "batch_size = 128\n",
        "epochs = 20\n",
        "\n",
        "model.compile(loss='categorical_crossentropy', optimizer=Adam(), metrics=['accuracy'])\n",
        "history = model.fit(x_train, d_train, batch_size=batch_size, epochs=epochs, verbose=1, validation_data=(x_test, d_test))\n",
        "\n",
        "#Accuracy\n",
        "plt.plot(history.history['acc'])\n",
        "plt.plot(history.history['val_acc'])\n",
        "plt.title('model accuracy')\n",
        "plt.ylabel('accuracy')\n",
        "plt.xlabel('epoch')\n",
        "plt.legend(['train', 'test'], loc='upper left')\n",
        "# plt.ylim(0, 1.0)\n",
        "plt.show()"
      ],
      "execution_count": null,
      "outputs": []
    },
    {
      "cell_type": "markdown",
      "metadata": {
        "id": "M4a1P4XCn0Fq"
      },
      "source": [
        "## cifar10\n",
        "#### 実行に時間がかかるため割愛\n",
        "データセット cifar10<br>\n",
        "32x32ピクセルのカラー画像データ<br>\n",
        "10種のラベル「飛行機、自動車、鳥、猫、鹿、犬、蛙、馬、船、トラック」<br>\n",
        "トレーニングデータ数:50000, テストデータ数:10000<br>\n",
        "http://www.cs.toronto.edu/~kriz/cifar.html"
      ]
    },
    {
      "cell_type": "code",
      "metadata": {
        "id": "AWY8ng9bn0Fr"
      },
      "source": [
        "import tensorflow as tf\n",
        "\n",
        "# logging levelを変更\n",
        "tf.logging.set_verbosity(tf.logging.ERROR)\n",
        "\n",
        "#CIFAR-10のデータセットのインポート\n",
        "from keras.datasets import cifar10\n",
        "(x_train, d_train), (x_test, d_test) = cifar10.load_data()\n",
        "\n",
        "#CIFAR-10の正規化\n",
        "from keras.utils import to_categorical\n",
        "  \n",
        "# 特徴量の正規化\n",
        "x_train = x_train/255.\n",
        "x_test = x_test/255.\n",
        " \n",
        "# クラスラベルの1-hotベクトル化\n",
        "d_train = to_categorical(d_train, 10)\n",
        "d_test = to_categorical(d_test, 10)\n",
        " \n",
        "# CNNの構築\n",
        "import keras\n",
        "from keras.models import Sequential\n",
        "from keras.layers.convolutional import Conv2D, MaxPooling2D\n",
        "from keras.layers.core import Dense, Dropout, Activation, Flatten\n",
        "import numpy as np\n",
        " \n",
        "model = Sequential()\n",
        " \n",
        "model.add(Conv2D(32, (3, 3), padding='same',input_shape=x_train.shape[1:]))\n",
        "model.add(Activation('relu'))\n",
        "model.add(Conv2D(32, (3, 3)))\n",
        "model.add(Activation('relu'))\n",
        "model.add(MaxPooling2D(pool_size=(2, 2)))\n",
        "model.add(Dropout(0.25))\n",
        " \n",
        "model.add(Conv2D(64, (3, 3), padding='same'))\n",
        "model.add(Activation('relu'))\n",
        "model.add(Conv2D(64, (3, 3)))\n",
        "model.add(Activation('relu'))\n",
        "model.add(MaxPooling2D(pool_size=(2, 2)))\n",
        "model.add(Dropout(0.25))\n",
        " \n",
        "model.add(Flatten())\n",
        "model.add(Dense(512))\n",
        "model.add(Activation('relu'))\n",
        "model.add(Dropout(0.5))\n",
        "model.add(Dense(10))\n",
        "model.add(Activation('softmax'))\n",
        " \n",
        "# コンパイル\n",
        "model.compile(loss='categorical_crossentropy',optimizer='adam',metrics=['accuracy'])\n",
        " \n",
        "#訓練\n",
        "history = model.fit(x_train, d_train, epochs=20)\n",
        " \n",
        "# モデルの保存\n",
        "model.save('./CIFAR-10.h5')\n",
        " \n",
        "#評価 & 評価結果出力\n",
        "print(model.evaluate(x_test, d_test))"
      ],
      "execution_count": null,
      "outputs": []
    },
    {
      "cell_type": "markdown",
      "metadata": {
        "id": "bM15YoGfn0Ft"
      },
      "source": [
        "## RNN\n",
        "\n",
        "2進数足し算の予測\n",
        "\n",
        "Keras RNNのドキュメント\n",
        "https://keras.io/ja/layers/recurrent/#simplernn"
      ]
    },
    {
      "cell_type": "markdown",
      "metadata": {
        "id": "6nKnbkiVn0Fu"
      },
      "source": [
        "---------------------------------------------------------------------------------------------------------------------------------------------------------------------------------------------\n",
        "### [try]\n",
        "-  RNNの出力ノード数を128に変更\n",
        "-  RNNの出力活性化関数を sigmoid に変更\n",
        "-  RNNの出力活性化関数を tanh に変更\n",
        "-  最適化方法をadamに変更\n",
        "-  RNNの入力 Dropout を0.5に設定\n",
        "-  RNNの再帰 Dropout を0.3に設定\n",
        "-  RNNのunrollをTrueに設定\n",
        "\n",
        "---------------------------------------------------------------------------------------------------------------------------------------------------------------------------------------------\n"
      ]
    },
    {
      "cell_type": "code",
      "metadata": {
        "id": "EIxL7bCVn0Fv"
      },
      "source": [
        "import tensorflow as tf\n",
        "\n",
        "# logging levelを変更\n",
        "tf.logging.set_verbosity(tf.logging.ERROR)\n",
        "\n",
        "import numpy as np\n",
        "import matplotlib.pyplot as plt\n",
        "\n",
        "import keras\n",
        "from keras.models import Sequential\n",
        "from keras.layers.core import Dense, Dropout,Activation\n",
        "from keras.layers.wrappers import TimeDistributed\n",
        "from keras.optimizers import SGD\n",
        "from keras.layers.recurrent import SimpleRNN, LSTM, GRU\n",
        "\n",
        "\n",
        "# データを用意\n",
        "# 2進数の桁数\n",
        "binary_dim = 8\n",
        "# 最大値 + 1\n",
        "largest_number = pow(2, binary_dim)\n",
        "\n",
        "# largest_numberまで2進数を用意\n",
        "binary = np.unpackbits(np.array([range(largest_number)], dtype=np.uint8).T,axis=1)[:, ::-1]\n",
        "\n",
        "\n",
        "# A, B初期化 (a + b = d)\n",
        "a_int = np.random.randint(largest_number/2, size=20000)\n",
        "a_bin = binary[a_int] # binary encoding\n",
        "b_int = np.random.randint(largest_number/2, size=20000)\n",
        "b_bin = binary[b_int] # binary encoding\n",
        "\n",
        "x_int = []\n",
        "x_bin = []\n",
        "for i in range(10000):\n",
        "    x_int.append(np.array([a_int[i], b_int[i]]).T)\n",
        "    x_bin.append(np.array([a_bin[i], b_bin[i]]).T)\n",
        "\n",
        "x_int_test = []\n",
        "x_bin_test = []\n",
        "for i in range(10001, 20000):\n",
        "    x_int_test.append(np.array([a_int[i], b_int[i]]).T)\n",
        "    x_bin_test.append(np.array([a_bin[i], b_bin[i]]).T)\n",
        "\n",
        "x_int = np.array(x_int)\n",
        "x_bin = np.array(x_bin)\n",
        "x_int_test = np.array(x_int_test)\n",
        "x_bin_test = np.array(x_bin_test)\n",
        "\n",
        "\n",
        "# 正解データ\n",
        "d_int = a_int + b_int\n",
        "d_bin = binary[d_int][0:10000]\n",
        "d_bin_test = binary[d_int][10001:20000]\n",
        "\n",
        "model = Sequential()\n",
        "\n",
        "model.add(SimpleRNN(units=16,\n",
        "               return_sequences=True,\n",
        "               input_shape=[8, 2],\n",
        "               go_backwards=False,\n",
        "               activation='relu',\n",
        "               # dropout=0.5,\n",
        "               # recurrent_dropout=0.3,\n",
        "               # unroll = True,\n",
        "            ))\n",
        "# 出力層\n",
        "model.add(Dense(1, activation='sigmoid', input_shape=(-1,2)))\n",
        "model.summary()\n",
        "model.compile(loss='mean_squared_error', optimizer=SGD(lr=0.1), metrics=['accuracy'])\n",
        "# model.compile(loss='mse', optimizer='adam', metrics=['accuracy'])\n",
        "\n",
        "history = model.fit(x_bin, d_bin.reshape(-1, 8, 1), epochs=5, batch_size=2)\n",
        "\n",
        "# テスト結果出力\n",
        "score = model.evaluate(x_bin_test, d_bin_test.reshape(-1,8,1), verbose=0)\n",
        "print('Test loss:', score[0])\n",
        "print('Test accuracy:', score[1])"
      ],
      "execution_count": null,
      "outputs": []
    }
  ]
}