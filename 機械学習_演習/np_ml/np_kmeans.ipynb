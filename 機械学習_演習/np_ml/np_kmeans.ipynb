{
  "nbformat": 4,
  "nbformat_minor": 0,
  "metadata": {
    "kernelspec": {
      "name": "python3",
      "display_name": "Python 3"
    },
    "language_info": {
      "codemirror_mode": {
        "name": "ipython",
        "version": 3
      },
      "file_extension": ".py",
      "mimetype": "text/x-python",
      "name": "python",
      "nbconvert_exporter": "python",
      "pygments_lexer": "ipython3",
      "version": "3.6.5"
    },
    "colab": {
      "name": "np_kmeans.ipynb",
      "provenance": [],
      "collapsed_sections": []
    },
    "accelerator": "GPU"
  },
  "cells": [
    {
      "cell_type": "markdown",
      "metadata": {
        "id": "V4RVkWg7GG8C"
      },
      "source": [
        "# k平均クラスタリング(k-means)"
      ]
    },
    {
      "cell_type": "code",
      "metadata": {
        "id": "lU8HuW6sGG8D"
      },
      "source": [
        "%matplotlib inline\n",
        "import numpy as np\n",
        "import matplotlib.pyplot as plt"
      ],
      "execution_count": 16,
      "outputs": []
    },
    {
      "cell_type": "markdown",
      "metadata": {
        "id": "JqMT-eHOGG8F"
      },
      "source": [
        "# データ生成"
      ]
    },
    {
      "cell_type": "code",
      "metadata": {
        "id": "cQtrC8aGGG8F"
      },
      "source": [
        "def gen_data():\n",
        "    x1 = np.random.normal(size=(100, 2)) + np.array([-5, -5])\n",
        "    x2 = np.random.normal(size=(100, 2)) + np.array([5, -5])\n",
        "    x3 = np.random.normal(size=(100, 2)) + np.array([0, 5])\n",
        "    return np.vstack((x1, x2, x3))"
      ],
      "execution_count": 17,
      "outputs": []
    },
    {
      "cell_type": "code",
      "metadata": {
        "id": "HpsNF9udGG8H",
        "outputId": "97dc317c-54c2-432d-9ba8-35340cead0d5",
        "colab": {
          "base_uri": "https://localhost:8080/",
          "height": 282
        }
      },
      "source": [
        "#データ作成\n",
        "X_train = gen_data()\n",
        "#データ描画\n",
        "plt.scatter(X_train[:, 0], X_train[:, 1])"
      ],
      "execution_count": 18,
      "outputs": [
        {
          "output_type": "execute_result",
          "data": {
            "text/plain": [
              "<matplotlib.collections.PathCollection at 0x7f3dced88810>"
            ]
          },
          "metadata": {},
          "execution_count": 18
        },
        {
          "output_type": "display_data",
          "data": {
            "image/png": "[encoded data removed]",
            "text/plain": [
              "<Figure size 432x288 with 1 Axes>"
            ]
          },
          "metadata": {
            "needs_background": "light"
          }
        }
      ]
    },
    {
      "cell_type": "markdown",
      "metadata": {
        "id": "ZpewqpW5GG8K"
      },
      "source": [
        "## 学習"
      ]
    },
    {
      "cell_type": "markdown",
      "metadata": {
        "id": "1TLjmQ07GG8K"
      },
      "source": [
        "k-meansアルゴリズムは以下のとおりである\n",
        "\n",
        "1) 各クラスタ中心の初期値を設定する\n",
        "\n",
        "2) 各データ点に対して、各クラスタ中心との距離を計算し、最も距離が近いクラスタを割り当てる\n",
        "\n",
        "3) 各クラスタの平均ベクトル（中心）を計算する\n",
        "\n",
        "4) 収束するまで2, 3の処理を繰り返す"
      ]
    },
    {
      "cell_type": "code",
      "metadata": {
        "id": "E3HTLcqqGG8L"
      },
      "source": [
        "def distance(x1, x2):\n",
        "    return np.sum((x1 - x2)**2, axis=1)\n",
        "\n",
        "n_clusters = 3\n",
        "iter_max = 100\n",
        "\n",
        "# 各クラスタ中心をランダムに初期化\n",
        "centers = X_train[np.random.choice(len(X_train), n_clusters, replace=False)]\n",
        "\n",
        "# 各クラスを意図的に近接配置してみる。\n",
        "centers = np.array([[6, -6],\n",
        "                    [6, -7],\n",
        "                    [0, 0]])\n",
        "\n",
        "for _ in range(iter_max):\n",
        "    prev_centers = np.copy(centers)\n",
        "    D = np.zeros((len(X_train), n_clusters))\n",
        "    # 各データ点に対して、各クラスタ中心との距離を計算\n",
        "    for i, x in enumerate(X_train):\n",
        "        D[i] = distance(x, centers)\n",
        "    # 各データ点に、最も距離が近いクラスタを割り当\n",
        "    cluster_index = np.argmin(D, axis=1)\n",
        "    # 各クラスタの中心を計算\n",
        "    for k in range(n_clusters):\n",
        "        index_k = cluster_index == k\n",
        "        centers[k] = np.mean(X_train[index_k], axis=0)\n",
        "    # 収束判定\n",
        "    if np.allclose(prev_centers, centers):\n",
        "        break"
      ],
      "execution_count": 19,
      "outputs": []
    },
    {
      "cell_type": "markdown",
      "metadata": {
        "id": "HuMKtR-BGG8M"
      },
      "source": [
        "## クラスタリング結果"
      ]
    },
    {
      "cell_type": "code",
      "metadata": {
        "id": "hPhK6CVjGG8N"
      },
      "source": [
        "def plt_result(X_train, centers, xx):\n",
        "    #　データを可視化\n",
        "    plt.scatter(X_train[:, 0], X_train[:, 1], c=y_pred, cmap='spring')\n",
        "    # 中心を可視化\n",
        "    plt.scatter(centers[:, 0], centers[:, 1], s=200, marker='X', lw=2, c='black', edgecolor=\"white\")\n",
        "    # 領域の可視化\n",
        "    pred = np.empty(len(xx), dtype=int)\n",
        "    for i, x in enumerate(xx):\n",
        "        d = distance(x, centers)\n",
        "        pred[i] = np.argmin(d)\n",
        "    plt.contourf(xx0, xx1, pred.reshape(100, 100), alpha=0.2, cmap='spring')"
      ],
      "execution_count": 20,
      "outputs": []
    },
    {
      "cell_type": "code",
      "metadata": {
        "id": "StbgoJ9QGG8O"
      },
      "source": [
        "y_pred = np.empty(len(X_train), dtype=int)\n",
        "for i, x in enumerate(X_train):\n",
        "    d = distance(x, centers)\n",
        "    y_pred[i] = np.argmin(d)"
      ],
      "execution_count": 21,
      "outputs": []
    },
    {
      "cell_type": "code",
      "metadata": {
        "id": "qd-CDPUMGG8Q",
        "outputId": "f8b7f7b1-57de-4c62-9f8b-86ccef9d398f",
        "colab": {
          "base_uri": "https://localhost:8080/",
          "height": 268
        }
      },
      "source": [
        "xx0, xx1 = np.meshgrid(np.linspace(-10, 10, 100), np.linspace(-10, 10, 100))\n",
        "xx = np.array([xx0, xx1]).reshape(2, -1).T\n",
        "\n",
        "plt_result(X_train, centers, xx)"
      ],
      "execution_count": 22,
      "outputs": [
        {
          "output_type": "display_data",
          "data": {
            "image/png": "[encoded data removed]",
            "text/plain": [
              "<Figure size 432x288 with 1 Axes>"
            ]
          },
          "metadata": {
            "needs_background": "light"
          }
        }
      ]
    },
    {
      "cell_type": "markdown",
      "metadata": {
        "id": "HCVeajWWGG8R"
      },
      "source": [
        "## numpy実装"
      ]
    },
    {
      "cell_type": "code",
      "metadata": {
        "id": "eyaKnPgLGG8S"
      },
      "source": [
        "from sklearn.cluster import KMeans\n",
        "kmeans = KMeans(n_clusters=3, random_state=0).fit(X_train)"
      ],
      "execution_count": 23,
      "outputs": []
    },
    {
      "cell_type": "code",
      "metadata": {
        "id": "cjPkGw-DGG8U",
        "outputId": "ef14503a-821c-4dfb-b21e-111fd679ce55",
        "colab": {
          "base_uri": "https://localhost:8080/"
        }
      },
      "source": [
        "print(\"labels: {}\".format(kmeans.labels_))\n",
        "print(\"cluster_centers: {}\".format(kmeans.cluster_centers_))\n",
        "kmeans.cluster_centers_"
      ],
      "execution_count": 24,
      "outputs": [
        {
          "output_type": "stream",
          "name": "stdout",
          "text": [
            "labels: [2 2 2 2 2 2 2 2 2 2 2 2 2 2 2 2 2 2 2 2 2 2 2 2 2 2 2 2 2 2 2 2 2 2 2 2 2\n",
            " 2 2 2 2 2 2 2 2 2 2 2 2 2 2 2 2 2 2 2 2 2 2 2 2 2 2 2 2 2 2 2 2 2 2 2 2 2\n",
            " 2 2 2 2 2 2 2 2 2 2 2 2 2 2 2 2 2 2 2 2 2 2 2 2 2 2 0 0 0 0 0 0 0 0 0 0 0\n",
            " 0 0 0 0 0 0 0 0 0 0 0 0 0 0 0 0 0 0 0 0 0 0 0 0 0 0 0 0 0 0 0 0 0 0 0 0 0\n",
            " 0 0 0 0 0 0 0 0 0 0 0 0 0 0 0 0 0 0 0 0 0 0 0 0 0 0 0 0 0 0 0 0 0 0 0 0 0\n",
            " 0 0 0 0 0 0 0 0 0 0 0 0 0 0 0 1 1 1 1 1 1 1 1 1 1 1 1 1 1 1 1 1 1 1 1 1 1\n",
            " 1 1 1 1 1 1 1 1 1 1 1 1 1 1 1 1 1 1 1 1 1 1 1 1 1 1 1 1 1 1 1 1 1 1 1 1 1\n",
            " 1 1 1 1 1 1 1 1 1 1 1 1 1 1 1 1 1 1 1 1 1 1 1 1 1 1 1 1 1 1 1 1 1 1 1 1 1\n",
            " 1 1 1 1]\n",
            "cluster_centers: [[ 4.99278717 -5.01899724]\n",
            " [-0.05165668  4.97969693]\n",
            " [-4.8913074  -4.95524887]]\n"
          ]
        },
        {
          "output_type": "execute_result",
          "data": {
            "text/plain": [
              "array([[ 4.99278717, -5.01899724],\n",
              "       [-0.05165668,  4.97969693],\n",
              "       [-4.8913074 , -4.95524887]])"
            ]
          },
          "metadata": {},
          "execution_count": 24
        }
      ]
    },
    {
      "cell_type": "code",
      "metadata": {
        "id": "1lJala6AGG8W",
        "outputId": "d0e8dbe1-bc2b-4ba1-cf93-b6170244cf1e",
        "colab": {
          "base_uri": "https://localhost:8080/",
          "height": 268
        }
      },
      "source": [
        "plt_result(X_train, kmeans.cluster_centers_, xx)"
      ],
      "execution_count": 25,
      "outputs": [
        {
          "output_type": "display_data",
          "data": {
            "image/png": "[encoded data removed]",
            "text/plain": [
              "<Figure size 432x288 with 1 Axes>"
            ]
          },
          "metadata": {
            "needs_background": "light"
          }
        }
      ]
    },
    {
      "cell_type": "code",
      "metadata": {
        "id": "8K8NjS9KmH30"
      },
      "source": [
        ""
      ],
      "execution_count": 25,
      "outputs": []
    }
  ]
}