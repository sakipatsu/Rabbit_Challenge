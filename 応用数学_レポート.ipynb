{
  "nbformat": 4,
  "nbformat_minor": 0,
  "metadata": {
    "colab": {
      "name": "応用数学_レポート.ipynb",
      "provenance": [],
      "collapsed_sections": [],
      "authorship_tag": "ABX9TyNox3Cpjtd4SrBv08/DKTnj",
      "include_colab_link": true
    },
    "kernelspec": {
      "name": "python3",
      "display_name": "Python 3"
    },
    "language_info": {
      "name": "python"
    }
  },
  "cells": [
    {
      "cell_type": "markdown",
      "metadata": {
        "id": "view-in-github",
        "colab_type": "text"
      },
      "source": [
        "<a href=\"https://colab.research.google.com/github/sakipatsu/Rabbit_Challenge/blob/main/%E5%BF%9C%E7%94%A8%E6%95%B0%E5%AD%A6_%E3%83%AC%E3%83%9D%E3%83%BC%E3%83%88.ipynb\" target=\"_parent\"><img src=\"https://colab.research.google.com/assets/colab-badge.svg\" alt=\"Open In Colab\"/></a>"
      ]
    },
    {
      "cell_type": "markdown",
      "source": [
        "# 第一章　　線形代数\n",
        "## スカラーとベクトルの違い\n",
        "### スカラー\n",
        "*   ただ一つの数\n",
        "*   四則演算が可能\n",
        "*.  ベクトルに対する係数になれる\n",
        "\n",
        "### ベクトル\n",
        "*   「大きさ」と「向き」を持つ\n",
        "*   矢印で図示される\n",
        "*.  スカラーのセットで表示される\n",
        "\n",
        "## 行列\n",
        "二次元的に並んだ数字\n",
        "行数n　、列数mの行列をn✖️mの行列と呼ぶ。\n",
        "\n",
        "### 行列の積\n",
        "行列の積は連立方程式の中から生まれた。。。らしい。\n",
        "$$\n",
        "\\begin{pmatrix}\n",
        "a & b \\\\\n",
        "c & d \\\\\n",
        "\\end{pmatrix}\n",
        "\\quad\n",
        "\\begin{pmatrix}\n",
        "e \\\\\n",
        "f \\\\\n",
        "\\end{pmatrix} =\n",
        "\\begin{pmatrix}\n",
        "a * e + b * f \\\\\n",
        "c * e + d * f \\\\\n",
        "\\end{pmatrix}\n",
        "$$\n",
        "\n",
        "###逆行列の求め方\n",
        "掃き出し法\n",
        "* 左辺に逆行列変換した行列を並べる。\n",
        "* 右辺に単位行列を並べる。\n",
        "* 左右の係数の行列に同じ行基本変形を実行したと考える。\n",
        "* 左辺を単位行列になるように式変形を行う。\n",
        "* 右辺に逆行列が求まる。\n",
        "\n",
        "注意：逆行列が存在しない条件\n",
        "\n",
        "$$\n",
        "\\begin{pmatrix}\n",
        "a & b \\\\\n",
        "c & d \\\\\n",
        "\\end{pmatrix}\n",
        "$$\n",
        "\n",
        "上記のような行列があった時、\n",
        "以下の関係が成り立つ場合は、逆行列を持つ。\n",
        "$$a : b \\neq c : d　$$\n",
        "一方で、以下の場合は、逆行列を持たない。\n",
        "$$a : b = c : d　$$\n",
        "\n",
        "## 固有値・固有ベクトル\n",
        "ある行列Aに対し、以下のような式が成り立つような特殊ベクトルxと、右辺の係数λがある。\n",
        "Ax=λx\n",
        "特殊なベクトルxとその係数λを、行列Aに対する、固有ベクトル、固有値という。\n",
        "\n",
        "固有値・固有ベクトルを用いた、特異値分解ではある行列を扱いやすい形式の3つの行列積に分解する。\n",
        "\n",
        "ある行列X（n行 m列） \\\\\n",
        "n ・・・ データの数 \\\\\n",
        "m ・・・ 属性の数/特徴量の数 \\\\\n",
        "\n",
        "$X = U \\cdot D \\cdot V^\\mathrm{T} $\n",
        "\n",
        "$U$ ・・・ 左特異ベクトル n行/r列 \\\\\n",
        "$D$ ・・・ r行/r列 \\\\\n",
        "$V^\\mathrm{T}$ ・・・ 右特異ベクトル r行/m列 ※主成分ベクトル\n"
      ],
      "metadata": {
        "id": "Rt-YA9NBBvb7"
      }
    },
    {
      "cell_type": "code",
      "source": [
        "import numpy as np\n",
        "import numpy.linalg as LA\n",
        "\n",
        "#問題1-1-8-4をPythonで計算してみる\n",
        "#ある行列 Xを設定\n",
        "X = np.array([[3, 2, 0],\n",
        "              [0, 2, 0],\n",
        "              [0, 0, 1]])\n",
        "\n",
        "# 2 次正方行列 Aの固有値、固有ベクトルPを計算する\n",
        "l, U = LA.eig(X)\n",
        "print(\"固有値\")\n",
        "print(l)  # 固有値\n",
        "print(\"固有ベクトル P \")\n",
        "print(U)  # 固有ベクトル(正規化済)\n",
        "\n",
        "#対角行列D、Pの逆行列P-1を定義\n",
        "D = np.array([[l[0],0, 0],\n",
        "              [0,l[1],0],\n",
        "              [0, 0, l[2]]])\n",
        "print(\"D\")\n",
        "print(D)\n",
        "VT = LA.inv(U)\n",
        "print(\"VT\")\n",
        "print(VT)\n",
        "\n",
        "#固有値分解の確認(U＊D＊VT） 行列Xの逆算ができる\n",
        "print(\"固有値分解 確認 X = U x D x VT\")\n",
        "print(np.dot(np.dot(U,D),VT))"
      ],
      "metadata": {
        "colab": {
          "base_uri": "https://localhost:8080/"
        },
        "id": "o7pbnHMQi8Bt",
        "outputId": "f7e1e55b-82c9-4cb8-d95c-5c196eb137cf"
      },
      "execution_count": 7,
      "outputs": [
        {
          "output_type": "stream",
          "name": "stdout",
          "text": [
            "固有値\n",
            "[3. 2. 1.]\n",
            "固有ベクトル P \n",
            "[[ 1.         -0.89442719  0.        ]\n",
            " [ 0.          0.4472136   0.        ]\n",
            " [ 0.          0.          1.        ]]\n",
            "D\n",
            "[[3. 0. 0.]\n",
            " [0. 2. 0.]\n",
            " [0. 0. 1.]]\n",
            "VT\n",
            "[[1.         2.         0.        ]\n",
            " [0.         2.23606798 0.        ]\n",
            " [0.         0.         1.        ]]\n",
            "固有値分解 確認 X = U x D x VT\n",
            "[[3. 2. 0.]\n",
            " [0. 2. 0.]\n",
            " [0. 0. 1.]]\n"
          ]
        }
      ]
    },
    {
      "cell_type": "markdown",
      "source": [
        "# 第二章　確率・統計\n",
        "## 集合とは\n",
        "ものの集まり \\\\\n",
        "$ S = \\{ a,b,c,d,e,f,g \\}$ \\\\\n",
        "$ M = \\{ c,d,g \\}$ \\\\\n",
        "$ N = \\{ h,i,j \\}$ \\\\\n",
        "上記の集合があった場合、下記のように表現することができる \\\\\n",
        "$ M \\in S$ \\\\\n",
        "$ N \\notin S$ \\\\\n",
        "\n",
        "## 和集合と共通部分\n",
        "\n",
        "$ A \\cup B $ AとBの和集合 \\\\\n",
        "$ A \\cap B $ AとBの共通部分 \\\\\n",
        "$ U \\setminus A = \\overline{A}$ 全体（U)からAを取り除いた集合。差集合\\\\\n",
        "\n",
        "# 確率\n",
        "## 頻度確率（客観確率）\n",
        "*   発生する頻度\n",
        "\n",
        "## ベイズ確率（主観確率）\n",
        "*   信念の度合い\n",
        "\n",
        "## 確率の定義\n",
        "$ \\mathcal{P}(A) = \\frac{事象Aが起こる数}{すべての事象の数} $ \\\\\n",
        "$ \\overline{A} = 1 - \\mathcal{P}(A)  $ \\\\\n",
        "\n",
        "## 条件付きの確率\n",
        "$ \\mathcal{P}(A|B) = \\frac{ \\mathcal{P}(A \\cap B)}{\\mathcal{P}(B)} $ \\\\\n",
        "\n",
        "## 独立な事象の同時確立\n",
        "$ \\mathcal{P}(A \\cap B) = \\mathcal{P}(A) \\mathcal{P}(B|A) $ \\\\\n",
        "\n",
        "## ベイズ則\n",
        "ベイズ則は原因の確率を導くために用いられる。\n",
        "$ \\mathcal{P}(A) \\mathcal{P}(B|A) = \\mathcal{P}(B) \\mathcal{P}(A|B) $ \\\\"
      ],
      "metadata": {
        "id": "vjoIHyStCB0y"
      }
    },
    {
      "cell_type": "markdown",
      "source": [
        "## ヘイズ則を利用した問題を考える。\n",
        "• ある街の⼦どもたちは毎⽇1/4の確率で飴⽟をもらうことができ，飴⽟をもらうと1/2の確率で笑顔になるという。その街の，笑顔な⼦どもが飴⽟をもらっている確率を求めよ。(ただし，この街の⼦どもたちが笑顔でいる確率は1/3である。)\n",
        "\n",
        "上記文章より、書く確率は下記で表せる。\n",
        "$P(飴玉)= \\frac{1}{4}$ \\\\\n",
        "$P(笑顔|飴玉)= \\frac{1}{2}$ \\\\\n",
        "$P(笑顔)= \\frac{1}{3}$ \\\\\n",
        "\n",
        "上記確率がわかっている場合に、笑顔な子供が飴玉をもらっている確率$P(飴玉|笑顔)$は\n",
        "$P(飴玉|笑顔)=\\frac{P(笑顔|飴玉) \\cdot P(飴玉)}{P(笑顔)}$ \\\\\n",
        "$P(飴玉|笑顔)=\\frac{\\frac{1}{2} \\cdot \\frac{1}{4}}{\\frac{1}{3}}$ \\\\\n",
        "$P(飴玉|笑顔)=\\frac{3}{8}$\n",
        "\n",
        "このようにベイズ則を用いることで確率表現することができる。"
      ],
      "metadata": {
        "id": "E-iLjk4jGx3E"
      }
    },
    {
      "cell_type": "markdown",
      "source": [
        "# 第三章　情報理論\n",
        "## 自己情報量\n",
        "珍しい事象（確率が低い）ほど、情報量は大きい。\n",
        "複数の事象が起こる確率は積で計算されるが情報量は和で計算。\n",
        "* 対数の底が2のとき，単位はビット(bit)\n",
        "* 対数の底がネイピアのeのとき，単位は(nat) \\\\\n",
        "$ I(x)=-\\log (P(x)) = \\log (W(x)) $\n",
        "\n",
        "## シャノンエントロピーの定義\n",
        "事象の起こる確率は積で計算されるが、情報量は和で計算可能な量となる。\n",
        "しかし、事象の起こりやすさは同じではなく、それぞれ固有の起こりやすさがある。\n",
        "そこで、平均情報量と呼ばれる事象の起こりにくさで重み付けを行った上でたしあわせを行う。\n",
        "* 微分エントロピーともいう(注意：微分しているわけではない)\n",
        "* 自己情報量の期待値 \\\\\n",
        "$𝐻(𝑥) = 𝐸(𝐼(𝑥)) = −𝐸 ( \\log (𝑃(𝑥))) = −∑ (𝑃(𝑥) \\log (𝑃(𝑥)))$\n",
        "\n",
        "## KLダイバージェンス\n",
        "* 同じ事象・確率変数における異なる確率分布P,Qの違いを表す \\\\\n",
        "⇨ 二つの確率分布を比較 \\\\\n",
        "$ D_{P||Q} = \\sum \\limits_{x} P(x) logi \\frac{P(x)}{Q(x)} $\n",
        "\n",
        "## 交差エントロピー\n",
        "* KLダイバージェンスの一部分を取り出したもの\n",
        "* Qについての自己情報量をPの分布で平均している"
      ],
      "metadata": {
        "id": "ExdNh8CMkZre"
      }
    }
  ]
}